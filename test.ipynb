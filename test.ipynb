{
 "cells": [
  {
   "cell_type": "code",
   "execution_count": 1,
   "metadata": {},
   "outputs": [
    {
     "name": "stdout",
     "output_type": "stream",
     "text": [
      "pkgversion(TensorKit) = v\"0.12.3\"\n"
     ]
    },
    {
     "name": "stderr",
     "output_type": "stream",
     "text": [
      "WARNING: using LinearAlgebra.× in module Main conflicts with an existing identifier.\n"
     ]
    },
    {
     "data": {
      "text/plain": [
       "4"
      ]
     },
     "metadata": {},
     "output_type": "display_data"
    }
   ],
   "source": [
    "using TensorOperations, TensorKit\n",
    "import TensorKit.×\n",
    "using FLoops\n",
    "include(\"./iPEPS_Fermionic/iPEPS.jl\")\n",
    "include(\"./CTMRG_Fermionic/CTMRG.jl\")\n",
    "include(\"./Cal_Obs_Fermionic/Cal_Obs.jl\")\n",
    "include(\"./models/Hubbard_Z2SU2.jl\")\n",
    "include(\"./models/tJ_Z2.jl\")\n",
    "@show pkgversion(TensorKit)\n",
    "using JLD2, HDF5\n",
    "using Strided\n",
    "Strided.enable_threads()"
   ]
  },
  {
   "cell_type": "code",
   "execution_count": null,
   "metadata": {},
   "outputs": [],
   "source": [
    "# pspace = GradedSpace{fSU₂}((-1, 0) => 1, (0, 1 // 2) => 1, (1, 0) => 1)\n",
    "pspace = Rep[U₁×SU₂]((-1, 0) => 1, (0, 1 // 2) => 1, (1, 0) => 1)\n",
    "aspace = Rep[U₁×SU₂]((2, 0) => 2)\n",
    "\n",
    "# aspacel = aspacer = aspacet = aspaceb = pspace\n",
    "@show pspace\n",
    "nothing"
   ]
  },
  {
   "cell_type": "code",
   "execution_count": null,
   "metadata": {},
   "outputs": [],
   "source": [
    "pspace = Rep[ℤ₂×SU₂]((0, 0) => 2, (1, 1 // 2) => 1)\n",
    "# pspace = Rep[ℤ₂]((1 => 1), (0 => 2))\n",
    "aspacel = Rep[ℤ₂×SU₂]((0, 0) => 2, (1, 1 // 2) => 1)\n",
    "# aspacer = Rep[ℤ₂×SU₂]((0, 0) => 2, (0, 1) => 2)\n",
    "aspacer = aspacel\n",
    "aspacet = Rep[ℤ₂×SU₂]((0, 0) => 2, (1, 1 // 2) => 1)\n",
    "# aspaceb = Rep[ℤ₂×SU₂]((0, 0) => 2, (1, 3 // 2) => 2)\n",
    "aspaceb = aspacet\n",
    "\n",
    "# A = TensorMap(randn, ComplexF64, aspacel ⊗ aspacet ⊗ pspace, aspacer ⊗ aspaceb)\n",
    "# Ms = [A, A, A, A]\n",
    "# ipeps = iPEPS(Ms, 2, 2)\n",
    "# Abar = bar(A)\n",
    "# @show space(Abar)\n",
    "# gate1 = swap_gate(space(Abar)[4], space(Abar)[5])\n",
    "# @show space(gate1)\n",
    "# gate2 = swap_gate(space(Abar)[1], space(Abar)[2])\n",
    "# @show space(gate2)\n",
    "# gate3 = swap_gate(space(A)[4], space(A)[5])\n",
    "# @show space(gate3)\n",
    "# gate4 = swap_gate(space(A)[1], space(A)[2])\n",
    "# @show space(gate4)\n",
    "# gate5 = swap_gate(space(A)[1], space(Abar)[2])\n",
    "# @show space(gate5)\n",
    "@assert pspace isa ElementarySpace\n",
    "@show fieldnames(GradedSpace)"
   ]
  },
  {
   "cell_type": "code",
   "execution_count": null,
   "metadata": {},
   "outputs": [],
   "source": [
    "include(\"./iPEPS_Fermionic/iPEPS.jl\")\n",
    "include(\"./CTMRG_Fermionic/CTMRG.jl\")\n",
    "include(\"./models/tJ_Z2.jl\")\n",
    "include(\"./simple_update_Fermionic/simple_update.jl\")\n",
    "include(\"./fast_full_update_Fermionic/fast_full_update.jl\")\n",
    "include(\"./Cal_Obs_Fermionic/Cal_Obs.jl\")\n",
    "\n",
    "ipeps, envs, para = load(\"/home/tcmp2/JuliaProjects/tJZ2_Lx2Ly2_SU_t3.0t'0.51J1.0J'0.0289h0.6mu5.2_ipepsEnv_D6chi140.jld2\", \"ipeps\", \"envs\", \"para\")\n",
    "Lx = ipeps.Lx\n",
    "Ly = ipeps.Ly\n",
    "@show para[:χ]\n",
    "ipepsbar = bar(ipeps)\n",
    "\n",
    "Obs2si = Cal_Obs_2site(ipeps, ipepsbar, envs, [\"Δₛ\", \"Δₛdag\"], para; site1=[1, 1], site2=[0, 2], get_op=get_op_tJ)\n",
    "\n",
    "nothing"
   ]
  },
  {
   "cell_type": "code",
   "execution_count": null,
   "metadata": {},
   "outputs": [],
   "source": [
    "pspace = Rep[ℤ₂](0 => 1, 1 => 2)\n",
    "include(\"./models/tJ_Z2.jl\")\n",
    "OpZ = Z(pspace)\n",
    "\n",
    "Fdag₊, F₊ = FdagF₊(pspace)\n",
    "@tensor fdagf₊[p1, p3; p2, p4] := OpZ[p1, p1in] * Fdag₊[p1in, p2, a] * F₊[a, p3, p4]\n",
    "@show Fdag₊\n",
    "Fdag₋, F₋ = FdagF₋(pspace)\n",
    "@show Fdag₋\n",
    "@tensor fdagf₋[p1, p3; p2, p4] := Fdag₋[p1, p2, a] * F₋[a, p3in, p4] * OpZ[p3, p3in]\n",
    "\n",
    "F₊, Fdag₊ = FFdag₊(pspace)\n",
    "@tensor ffdag₊[p1, p3; p2, p4] := OpZ[p1, p1in] * F₊[p1in, p2, a] * Fdag₊[a, p3, p4]\n",
    "F₋, Fdag₋ = FFdag₋(pspace)\n",
    "@tensor ffdag₋[p1, p3; p2, p4] := F₋[p1, p2, a] * Fdag₋[a, p3in, p4] * OpZ[p3, p3in]\n",
    "\n",
    "@show ishermitian(fdagf₊ - ffdag₊ + fdagf₋ - ffdag₋)"
   ]
  },
  {
   "cell_type": "code",
   "execution_count": null,
   "metadata": {},
   "outputs": [],
   "source": [
    "include(\"./models/Hubbard_Z2SU2.jl\")\n",
    "pspace = Rep[ℤ₂×SU₂]((0, 0) => 2, (1, 1 // 2) => 1)\n",
    "\n",
    "OpZ = Z(pspace)\n",
    "Opnd = nd(pspace)\n",
    "Opn = n(pspace)\n",
    "OpI = id(pspace)\n",
    "Fdag, F = FdagF(pspace)\n",
    "@tensor fdagf[p1, p3; p2, p4] := Fdag[p1in, p2, a] * F[a, p3, p4]\n",
    "# @tensor fdagf[p1, p3; p2, p4] := Fdag[p1, p2, a] * F[a, p3, p4]\n",
    "\n",
    "F, Fdag = FFdag(pspace)\n",
    "@tensor ffdag[p1, p3; p2, p4] := F[p1in, p2, a] * Fdag[a, p3, p4]\n",
    "\n",
    "@show ishermitian(fdagf - ffdag)"
   ]
  },
  {
   "cell_type": "code",
   "execution_count": 2,
   "metadata": {},
   "outputs": [
    {
     "name": "stdout",
     "output_type": "stream",
     "text": [
      "============== Calculating Obs ====================\n",
      "Fermionic! Calculating [\"N\", \"Sz\"] at site [2, 1]\n",
      "Fermionic! Calculating [\"N\", \"Sz\"] at site [2, 2]\n",
      "Fermionic! Calculating [\"N\", \"Sz\"] at site [1, 2]\n",
      "Fermionic! Calculating [\"N\", \"Sz\"] at site [1, 1]\n",
      "(xx, yy, Obs1si) = (1, 1, Dict(\"N\" => 0.9102613967538491, \"Sz\" => -0.2273770224773779))\n",
      "(xx, yy, Obs1si) = (1, 2, Dict(\"N\" => 0.9130966246164545, \"Sz\" => 0.3110148664730846))\n",
      "(xx, yy, Obs1si) = (2, 2, Dict(\"N\" => 0.9002661026595117, \"Sz\" => -0.1702414731408852))\n",
      "(xx, yy, Obs1si) = (2, 1, Dict(\"N\" => 0.9132360893926827, \"Sz\" => 0.3109635828057502))\n",
      "Fermionic! Calculating [\"hijNN\", \"SpSm\", \"SzSz\", \"NN\", \"Δₛ\", \"Δₛdag\"] at site [2, 2] and site [3, 2]\n",
      "Fermionic! Calculating [\"hijNN\", \"SpSm\", \"SzSz\", \"NN\", \"Δₛ\", \"Δₛdag\"] at site [1, 2] and site [2, 2]\n",
      "Fermionic! Calculating [\"hijNN\", \"SpSm\", \"SzSz\", \"NN\", \"Δₛ\", \"Δₛdag\"] at site [2, 1] and site [3, 1]\n",
      "Fermionic! Calculating [\"hijNN\", \"SpSm\", \"SzSz\", \"NN\", \"Δₛ\", \"Δₛdag\"] at site [1, 1] and site [2, 1]\n",
      "(xx, yy, Obs2si_h) = (2, 1, Dict(\"Δₛ\" => 0.0009655545918091614, \"hijNN\" => -3.097970658130226, \"SzSz\" => -0.09482426217191316, \"SpSm\" => -0.10087624604368535, \"NN\" => 0.827447264786775, \"Δₛdag\" => 0.0009655545918095314))\n",
      "Fermionic! Calculating [\"hijNN\", \"SpSm\", \"SzSz\", \"NN\", \"Δₛ\", \"Δₛdag\"] at site [2, 1] and site [2, 2]\n",
      "(xx, yy, Obs2si_h) = (2, 2, Dict(\"Δₛ\" => -0.00045293339940884403, \"hijNN\" => -3.159497101565441, \"SzSz\" => -0.08138132802811247, \"SpSm\" => -0.10966046026832667, \"NN\" => 0.8191381506193681, \"Δₛdag\" => -0.00045293339940883774))\n",
      "Fermionic! Calculating [\"hijNN\", \"SpSm\", \"SzSz\", \"NN\", \"Δₛ\", \"Δₛdag\"] at site [2, 2] and site [2, 3]\n",
      "(xx, yy, Obs2si_h) = (1, 1, Dict(\"Δₛ\" => -0.0017715797250121878, \"hijNN\" => -3.1199087462229107, \"SzSz\" => -0.09828857259537205, \"SpSm\" => -0.11170070201785053, \"NN\" => 0.827803896421973, \"Δₛdag\" => -0.0017715797250122088))\n",
      "Fermionic! Calculating [\"hijNN\", \"SpSm\", \"SzSz\", \"NN\", \"Δₛ\", \"Δₛdag\"] at site [1, 1] and site [1, 2]\n",
      "(xx, yy, Obs2si_h) = (1, 2, Dict(\"Δₛ\" => 0.0008614877274505458, \"hijNN\" => -3.1618328251915395, \"SzSz\" => -0.0819957238782497, \"SpSm\" => -0.11236704501294834, \"NN\" => 0.8194446593071092, \"Δₛdag\" => 0.0008614877274505849))\n",
      "Fermionic! Calculating [\"hijNN\", \"SpSm\", \"SzSz\", \"NN\", \"Δₛ\", \"Δₛdag\"] at site [1, 2] and site [1, 3]\n",
      "(xx, yy, Obs2si_v) = (2, 1, Dict(\"Δₛ\" => -0.00022359675562832958, \"hijNN\" => -3.171221786208375, \"SzSz\" => -0.08821863578402321, \"SpSm\" => -0.1061337228225848, \"NN\" => 0.8177126882369803, \"Δₛdag\" => -0.00022359675562833262))\n",
      "Fermionic! Calculating [\"hijNNN\", \"SpSm\", \"SzSz\", \"NN\"] at site [2, 1] and site [3, 2]\n",
      "(xx, yy, Obs2si_v) = (1, 2, Dict(\"Δₛ\" => -0.0023969458631256427, \"hijNN\" => -3.1717769263947093, \"SzSz\" => -0.103068394681525, \"SpSm\" => -0.13069536385613878, \"NN\" => 0.8289191905203105, \"Δₛdag\" => -0.002396945863125648))\n",
      "(xx, yy, Obs2si_v) = (2, 2, Dict(\"Δₛ\" => 0.00039235065129218747, \"hijNN\" => -3.203850755090258, \"SzSz\" => -0.0915327969576596, \"SpSm\" => -0.12477753228642627, \"NN\" => 0.8171410511844759, \"Δₛdag\" => 0.0003923506512921309))\n",
      "Fermionic! Calculating [\"hijNNN\", \"SpSm\", \"SzSz\", \"NN\"] at site [1, 2] and site [2, 3]\n",
      "Fermionic! Calculating [\"hijNNN\", \"SpSm\", \"SzSz\", \"NN\"] at site [2, 2] and site [3, 3]\n",
      "(xx, yy, Obs2si_v) = (1, 1, Dict(\"Δₛ\" => 0.0020671872730842742, \"hijNN\" => -3.200218657815605, \"SzSz\" => -0.10940627724948658, \"SpSm\" => -0.14459541067992213, \"NN\" => 0.8288501610314012, \"Δₛdag\" => 0.0020671872730843033))\n",
      "Fermionic! Calculating [\"hijNNN\", \"SpSm\", \"SzSz\", \"NN\"] at site [1, 1] and site [2, 2]\n",
      "Fermionic! Calculating [\"hijNNN\", \"SpSm\", \"SzSz\", \"NN\"] at site [2, 1] and site [1, 2]\n",
      "Fermionic! Calculating [\"hijNNN\", \"SpSm\", \"SzSz\", \"NN\"] at site [1, 2] and site [0, 3]\n",
      "Fermionic! Calculating [\"hijNNN\", \"SpSm\", \"SzSz\", \"NN\"] at site [2, 2] and site [1, 3]\n",
      "Fermionic! Calculating [\"hijNNN\", \"SpSm\", \"SzSz\", \"NN\"] at site [1, 1] and site [0, 2]\n",
      "filling = 0.9092150533556245\n",
      "magnetization = 0.25489923622427446\n",
      "Eg = 4.683668644630509\n"
     ]
    },
    {
     "data": {
      "text/plain": [
       "4.683668644630509"
      ]
     },
     "metadata": {},
     "output_type": "display_data"
    }
   ],
   "source": [
    "ipeps, envs, para = load(\"/home/tcmp2/JuliaProjects/tJZ2_Lx2Ly2_SU_t3.0t'0.51J1.0J'0.0289h0.6mu5.2_ipepsEnv_D6chi140.jld2\", \"ipeps\", \"envs\", \"para\")\n",
    "ipepsbar = bar(ipeps)\n",
    "Lx = 2\n",
    "Ly = 2\n",
    "# 计算观测量\n",
    "println(\"============== Calculating Obs ====================\")\n",
    "site1Obs = [\"N\", \"Sz\"]             # 计算这些单点观测量\n",
    "site2Obs = [\"hijNN\", \"SpSm\", \"SzSz\", \"NN\", \"Δₛ\", \"Δₛdag\"]   # 计算这些两点观测量\n",
    "site2Obsdiag = [\"hijNNN\", \"SpSm\", \"SzSz\", \"NN\"]\n",
    "\n",
    "rslt1s = Vector{Dict}(undef, Lx*Ly)\n",
    "rslt2s_h = Vector{Dict}(undef, Lx*Ly)\n",
    "rslt2s_v = Vector{Dict}(undef, Lx*Ly)\n",
    "rslt2s_lu2rd = Vector{Dict}(undef, Lx*Ly)\n",
    "rslt2s_ru2ld = Vector{Dict}(undef, Lx*Ly)\n",
    "# rslt = Dict(Gates[ind] => (vals[ind] / nrm) for ind in 1:length(vals))\n",
    "@floop for (ind, val) in enumerate(CartesianIndices((Lx, Ly)))\n",
    "    (xx, yy) = Tuple(val)\n",
    "    Obs1si = Cal_Obs_1site(ipeps, ipepsbar, envs, site1Obs, para; site=[xx, yy], get_op=get_op_tJ)\n",
    "    @show (xx, yy, Obs1si)\n",
    "    @reduce filling += get(Obs1si, \"N\", NaN)\n",
    "    @reduce magnetization += abs(get(Obs1si, \"Sz\", NaN))\n",
    "    rslt1s[ind] = Obs1si\n",
    "\n",
    "    Obs2si_h = Cal_Obs_2site(ipeps, ipepsbar, envs, site2Obs, para; site1=[xx, yy], site2=[xx + 1, yy], get_op=get_op_tJ)\n",
    "    @show (xx, yy, Obs2si_h)\n",
    "    rslt2s_h[ind] = Obs2si_h\n",
    "    Obs2si_v = Cal_Obs_2site(ipeps, ipepsbar, envs, site2Obs, para; site1=[xx, yy], site2=[xx, yy + 1], get_op=get_op_tJ)\n",
    "    @show (xx, yy, Obs2si_v)\n",
    "    rslt2s_v[ind] = Obs2si_v\n",
    "    @reduce Eg += (get(Obs2si_h, \"hijNN\", NaN) + get(Obs2si_v, \"hijNN\", NaN))\n",
    "\n",
    "    Obs2sidiag_lurd = Cal_Obs_2site(ipeps, ipepsbar, envs, site2Obsdiag, para; site1=[xx, yy], site2=[xx + 1, yy + 1], get_op=get_op_tJ)\n",
    "    rslt2s_lu2rd[ind] = Obs2sidiag_lurd\n",
    "    Obs2sidiag_ruld = Cal_Obs_2site(ipeps, ipepsbar, envs, site2Obsdiag, para; site1=[xx, yy], site2=[xx - 1, yy + 1], get_op=get_op_tJ)\n",
    "    rslt2s_ru2ld[ind] = Obs2sidiag_ruld\n",
    "    @reduce Eg += (get(Obs2sidiag_lurd, \"hijNNN\", NaN) + get(Obs2sidiag_ruld, \"hijNNN\", NaN))\n",
    "    GC.gc()\n",
    "end\n",
    "filling = filling / (Lx * Ly)\n",
    "@show filling\n",
    "magnetization = magnetization / (Lx * Ly)\n",
    "@show magnetization\n",
    "Eg = Eg / (Lx * Ly) + filling * para[:μ]\n",
    "@show Eg"
   ]
  },
  {
   "cell_type": "code",
   "execution_count": 24,
   "metadata": {},
   "outputs": [
    {
     "name": "stdout",
     "output_type": "stream",
     "text": [
      "tmp_h = [1.0 1.0 2.0 1.0 -3.159497101565441; 2.0 1.0 1.0 1.0 -3.159497101565441; 1.0 2.0 2.0 2.0 -3.159497101565441; 2.0 2.0 1.0 2.0 -3.159497101565441]\n",
      "tmp_v = [1.0 1.0 1.0 2.0 -3.203850755090258; 2.0 1.0 2.0 2.0 -3.203850755090258; 1.0 2.0 1.0 1.0 -3.203850755090258; 2.0 2.0 2.0 1.0 -3.203850755090258]\n",
      "tmp_h = [1.0 1.0 2.0 1.0 -0.10966046026832667; 2.0 1.0 1.0 1.0 -0.10966046026832667; 1.0 2.0 2.0 2.0 -0.10966046026832667; 2.0 2.0 1.0 2.0 -0.10966046026832667]\n",
      "tmp_v = [1.0 1.0 1.0 2.0 -0.12477753228642627; 2.0 1.0 2.0 2.0 -0.12477753228642627; 1.0 2.0 1.0 1.0 -0.12477753228642627; 2.0 2.0 2.0 1.0 -0.12477753228642627]\n",
      "tmp_h = [1.0 1.0 2.0 1.0 -0.08138132802811247; 2.0 1.0 1.0 1.0 -0.08138132802811247; 1.0 2.0 2.0 2.0 -0.08138132802811247; 2.0 2.0 1.0 2.0 -0.08138132802811247]\n",
      "tmp_v = [1.0 1.0 1.0 2.0 -0.0915327969576596; 2.0 1.0 2.0 2.0 -0.0915327969576596; 1.0 2.0 1.0 1.0 -0.0915327969576596; 2.0 2.0 2.0 1.0 -0.0915327969576596]\n",
      "tmp_h = [1.0 1.0 2.0 1.0 0.8191381506193681; 2.0 1.0 1.0 1.0 0.8191381506193681; 1.0 2.0 2.0 2.0 0.8191381506193681; 2.0 2.0 1.0 2.0 0.8191381506193681]\n",
      "tmp_v = [1.0 1.0 1.0 2.0 0.8171410511844759; 2.0 1.0 2.0 2.0 0.8171410511844759; 1.0 2.0 1.0 1.0 0.8171410511844759; 2.0 2.0 2.0 1.0 0.8171410511844759]\n",
      "tmp_h = [1.0 1.0 2.0 1.0 -0.00045293339940884403; 2.0 1.0 1.0 1.0 -0.00045293339940884403; 1.0 2.0 2.0 2.0 -0.00045293339940884403; 2.0 2.0 1.0 2.0 -0.00045293339940884403]\n",
      "tmp_v = [1.0 1.0 1.0 2.0 0.00039235065129218747; 2.0 1.0 2.0 2.0 0.00039235065129218747; 1.0 2.0 1.0 1.0 0.00039235065129218747; 2.0 2.0 2.0 1.0 0.00039235065129218747]\n",
      "tmp_h = [1.0 1.0 2.0 1.0 -0.00045293339940883774; 2.0 1.0 1.0 1.0 -0.00045293339940883774; 1.0 2.0 2.0 2.0 -0.00045293339940883774; 2.0 2.0 1.0 2.0 -0.00045293339940883774]\n",
      "tmp_v = [1.0 1.0 1.0 2.0 0.0003923506512921309; 2.0 1.0 2.0 2.0 0.0003923506512921309; 1.0 2.0 1.0 1.0 0.0003923506512921309; 2.0 2.0 2.0 1.0 0.0003923506512921309]\n",
      "tmp_lurd = [1.0 1.0 2.0 2.0 -0.01884820541550327; 2.0 1.0 1.0 2.0 -0.01884820541550327; 1.0 2.0 2.0 1.0 -0.01884820541550327; 2.0 2.0 1.0 1.0 -0.01884820541550327]\n",
      "tmp_ruld = [1.0 1.0 2.0 2.0 -0.01884820541550327; 2.0 1.0 1.0 2.0 -0.01884820541550327; 1.0 2.0 2.0 1.0 -0.01884820541550327; 2.0 2.0 1.0 1.0 -0.01884820541550327]\n",
      "tmp_lurd = [1.0 1.0 2.0 2.0 0.04485111936686832; 2.0 1.0 1.0 2.0 0.04485111936686832; 1.0 2.0 2.0 1.0 0.04485111936686832; 2.0 2.0 1.0 1.0 0.04485111936686832]\n",
      "tmp_ruld = [1.0 1.0 2.0 2.0 0.04485111936686832; 2.0 1.0 1.0 2.0 0.04485111936686832; 1.0 2.0 2.0 1.0 0.04485111936686832; 2.0 2.0 1.0 1.0 0.04485111936686832]\n",
      "tmp_lurd = [1.0 1.0 2.0 2.0 0.04076693590781258; 2.0 1.0 1.0 2.0 0.04076693590781258; 1.0 2.0 2.0 1.0 0.04076693590781258; 2.0 2.0 1.0 1.0 0.04076693590781258]\n",
      "tmp_ruld = [1.0 1.0 2.0 2.0 0.04076693590781258; 2.0 1.0 1.0 2.0 0.04076693590781258; 1.0 2.0 2.0 1.0 0.04076693590781258; 2.0 2.0 1.0 1.0 0.04076693590781258]\n",
      "tmp_lurd = [1.0 1.0 2.0 2.0 0.8175881089771475; 2.0 1.0 1.0 2.0 0.8175881089771475; 1.0 2.0 2.0 1.0 0.8175881089771475; 2.0 2.0 1.0 1.0 0.8175881089771475]\n",
      "tmp_ruld = [1.0 1.0 2.0 2.0 0.8175881089771475; 2.0 1.0 1.0 2.0 0.8175881089771475; 1.0 2.0 2.0 1.0 0.8175881089771475; 2.0 2.0 1.0 1.0 0.8175881089771475]\n"
     ]
    }
   ],
   "source": [
    "# =================== save Obs to file ================================\n",
    "Obsname = joinpath(\"/home/tcmp2/JuliaProjects/\", \"Obs.h5\")\n",
    "f = h5open(Obsname, \"w\")\n",
    "T = eltype(ipeps[1, 1])\n",
    "try \n",
    "    for obs in site1Obs  # eg: obs == \"N\"\n",
    "        tmp = Matrix{T}(undef, Lx*Ly, 3)  # 注意！！这里必须是默认数据类型才能存进去. 如涉及虚数观测量, 坐标会存虚数.\n",
    "        for (ind, val) in enumerate(CartesianIndices((Lx, Ly)))\n",
    "            (xx, yy) = Tuple(val)\n",
    "            for Obs1si in rslt1s  # Obs1si is a Dict. 记录在某个site的所有单点观测量值\n",
    "                tmp[ind, 1], tmp[ind, 2] = xx, yy\n",
    "                tmp[ind, 3] = get(Obs1si, obs, NaN)\n",
    "            end\n",
    "        end\n",
    "        write(f, obs, sortslices(tmp, dims=1))\n",
    "    end\n",
    "    for obs in site2Obs  # eg: obs == \"NN\"\n",
    "        tmp_h = Matrix{T}(undef, Lx*Ly, 5)\n",
    "        tmp_v = Matrix{T}(undef, Lx*Ly, 5)\n",
    "        for (ind, val) in enumerate(CartesianIndices((Lx, Ly)))\n",
    "            (xx, yy) = Tuple(val)\n",
    "            for Obs2si_h in rslt2s_h  # Obs2si is a Dict. 记录在某个site的所有两点观测量值\n",
    "                tmp_h[ind, 1], tmp_h[ind, 2], tmp_h[ind, 3], tmp_h[ind, 4] = xx, yy, xx+1-Int(ceil((xx+1)/Lx)-1)*Lx, yy-Int(ceil(yy/Ly)-1)*Ly\n",
    "                tmp_h[ind, 5] = get(Obs2si_h, obs, NaN)\n",
    "            end\n",
    "            for Obs2si_v in rslt2s_v  # Obs2si is a Dict. 记录在某个site的所有两点观测量值\n",
    "                tmp_v[ind, 1], tmp_v[ind, 2], tmp_v[ind, 3], tmp_v[ind, 4] = xx, yy, xx-Int(ceil(xx/Lx)-1)*Lx, yy+1-Int(ceil((yy+1)/Ly)-1)*Ly\n",
    "                tmp_v[ind, 5] = get(Obs2si_v, obs, NaN)\n",
    "            end\n",
    "        end\n",
    "        write(f, obs, sortslices(vcat(tmp_h, tmp_v), dims=1))\n",
    "    end\n",
    "    for obs in site2Obsdiag  # eg: obs == \"NN\"\n",
    "        tmp_lurd = Matrix{T}(undef, Lx*Ly, 5)\n",
    "        tmp_ruld = Matrix{T}(undef, Lx*Ly, 5)\n",
    "        for (ind, val) in enumerate(CartesianIndices((Lx, Ly)))\n",
    "            (xx, yy) = Tuple(val)\n",
    "            for Obs2si_lurd in rslt2s_lu2rd  # Obs2si is a Dict. 记录在某个site的所有两点观测量值\n",
    "                tmp_lurd[ind, 1], tmp_lurd[ind, 2], tmp_lurd[ind, 3], tmp_lurd[ind, 4] = xx, yy, xx+1-Int(ceil((xx+1)/Lx)-1)*Lx, yy+1-Int(ceil((yy+1)/Ly)-1)*Ly\n",
    "                tmp_lurd[ind, 5] = get(Obs2si_lurd, obs, NaN)\n",
    "            end\n",
    "            for Obs2si_ruld in rslt2s_ru2ld  # Obs2si is a Dict. 记录在某个site的所有两点观测量值\n",
    "                tmp_ruld[ind, 1], tmp_ruld[ind, 2], tmp_ruld[ind, 3], tmp_ruld[ind, 4] = xx, yy, xx-1-Int(ceil((xx-1)/Lx)-1)*Lx, yy+1-Int(ceil((yy+1)/Ly)-1)*Ly\n",
    "                tmp_ruld[ind, 5] = get(Obs2si_ruld, obs, NaN)\n",
    "            end\n",
    "        end\n",
    "        write(f, string(obs, \"diag\"), sortslices(vcat(tmp_lurd, tmp_ruld), dims=1))\n",
    "    end\n",
    "finally\n",
    "    close(f)\n",
    "end"
   ]
  }
 ],
 "metadata": {
  "kernelspec": {
   "display_name": "Julia 1.9.2",
   "language": "julia",
   "name": "julia-1.9"
  },
  "language_info": {
   "file_extension": ".jl",
   "mimetype": "application/julia",
   "name": "julia",
   "version": "1.9.2"
  }
 },
 "nbformat": 4,
 "nbformat_minor": 2
}
