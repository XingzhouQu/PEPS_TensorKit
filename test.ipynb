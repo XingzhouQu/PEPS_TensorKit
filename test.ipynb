{
 "cells": [
  {
   "cell_type": "code",
   "execution_count": null,
   "metadata": {},
   "outputs": [],
   "source": [
    "using TensorOperations, TensorKit\n",
    "import TensorKit.×\n",
    "using FLoops\n",
    "include(\"./iPEPS_Fermionic/iPEPS.jl\")\n",
    "include(\"./CTMRG_Fermionic/CTMRG.jl\")\n",
    "include(\"./Cal_Obs_Fermionic/Cal_Obs.jl\")\n",
    "include(\"./models/Hubbard_Z2SU2.jl\")\n",
    "# include(\"./models/tJ_Z2.jl\")\n",
    "@show pkgversion(TensorKit)\n",
    "using JLD2, HDF5\n",
    "using Strided\n",
    "Strided.enable_threads()"
   ]
  },
  {
   "cell_type": "code",
   "execution_count": null,
   "metadata": {},
   "outputs": [],
   "source": [
    "para = Dict{Symbol,Any}()\n",
    "para[:t] = 1.0\n",
    "para[:U] = 8.0\n",
    "para[:μ] = 4.0\n",
    "para[:pspace] = Rep[ℤ₂×SU₂]((0, 0) => 2, (1, 1 // 2) => 1)\n",
    "Hij = get_op_Hubbard(\"hij\", para)\n",
    "@show Hij\n",
    "\n",
    "Hijp = permute(Hij, ((2, 1), (4, 3)))\n",
    "@show Hijp\n",
    "@assert Hij == Hijp\n",
    "nothing"
   ]
  },
  {
   "cell_type": "code",
   "execution_count": null,
   "metadata": {},
   "outputs": [],
   "source": [
    "pspace = Rep[ℤ₂×SU₂]((0, 0) => 2, (1, 1 // 2) => 1)\n",
    "# pspace = Rep[ℤ₂]((1 => 1), (0 => 2))\n",
    "aspacel = Rep[ℤ₂×SU₂]((0, 0) => 2, (1, 1 // 2) => 1)\n",
    "# aspacer = Rep[ℤ₂×SU₂]((0, 0) => 2, (0, 1) => 2)\n",
    "aspacer = aspacel\n",
    "aspacet = Rep[ℤ₂×SU₂]((0, 0) => 2, (1, 1 // 2) => 1)\n",
    "# aspaceb = Rep[ℤ₂×SU₂]((0, 0) => 2, (1, 3 // 2) => 2)\n",
    "aspaceb = aspacet\n",
    "\n",
    "# A = TensorMap(randn, ComplexF64, aspacel ⊗ aspacet ⊗ pspace, aspacer ⊗ aspaceb)\n",
    "# Ms = [A, A, A, A]\n",
    "# ipeps = iPEPS(Ms, 2, 2)\n",
    "# Abar = bar(A)\n",
    "# @show space(Abar)\n",
    "# gate1 = swap_gate(space(Abar)[4], space(Abar)[5])\n",
    "# @show space(gate1)\n",
    "# gate2 = swap_gate(space(Abar)[1], space(Abar)[2])\n",
    "# @show space(gate2)\n",
    "# gate3 = swap_gate(space(A)[4], space(A)[5])\n",
    "# @show space(gate3)\n",
    "# gate4 = swap_gate(space(A)[1], space(A)[2])\n",
    "# @show space(gate4)\n",
    "# gate5 = swap_gate(space(A)[1], space(Abar)[2])\n",
    "# @show space(gate5)\n",
    "@assert pspace isa ElementarySpace\n",
    "@show fieldnames(GradedSpace)"
   ]
  },
  {
   "cell_type": "code",
   "execution_count": null,
   "metadata": {},
   "outputs": [],
   "source": [
    "include(\"./iPEPS_Fermionic/iPEPS.jl\")\n",
    "include(\"./CTMRG_Fermionic/CTMRG.jl\")\n",
    "include(\"./models/tJ_Z2.jl\")\n",
    "include(\"./simple_update_Fermionic/simple_update.jl\")\n",
    "include(\"./fast_full_update_Fermionic/fast_full_update.jl\")\n",
    "include(\"./Cal_Obs_Fermionic/Cal_Obs.jl\")\n",
    "\n",
    "ipeps, envs, para = load(\"/home/tcmp2/JuliaProjects/tJZ2_Lx2Ly2_SU_t3.0t'0.51J1.0J'0.0289h0.6mu5.2_ipepsEnv_D6chi140.jld2\", \"ipeps\", \"envs\", \"para\")\n",
    "Lx = ipeps.Lx\n",
    "Ly = ipeps.Ly\n",
    "@show para[:χ]\n",
    "ipepsbar = bar(ipeps)\n",
    "\n",
    "Obs2si = Cal_Obs_2site(ipeps, ipepsbar, envs, [\"Δₛ\", \"Δₛdag\"], para; site1=[1, 1], site2=[0, 2], get_op=get_op_tJ)\n",
    "\n",
    "nothing"
   ]
  },
  {
   "cell_type": "code",
   "execution_count": null,
   "metadata": {},
   "outputs": [],
   "source": [
    "ipeps, envs, para = load(\"/home/tcmp2/JuliaProjects/tJZ2_Lx2Ly2_SU_t3.0t'0.51J1.0J'0.0289h0.6mu5.2_ipepsEnv_D6chi140.jld2\", \"ipeps\", \"envs\", \"para\")\n"
   ]
  },
  {
   "cell_type": "code",
   "execution_count": null,
   "metadata": {},
   "outputs": [],
   "source": [
    "using TensorKit\n",
    "using Zygote\n",
    "using ChainRulesCore\n",
    "import TensorKit.×\n",
    "include(\"./iPEPS_Fermionic/iPEPS.jl\")"
   ]
  },
  {
   "cell_type": "code",
   "execution_count": null,
   "metadata": {},
   "outputs": [],
   "source": [
    "function f(A::TensorMap, B::TensorMap)\n",
    "    # _, R = leftorth(A, ((1,), (2,)))\n",
    "    U, S, Vdag, ϵ = tsvd(A, ((1,), (2,)); trunc=notrunc(), alg=TensorKit.SVD())\n",
    "    # @tensor Ap[a, b] := A[a, c] * A[c, b]\n",
    "    return @tensor C = Vdag[a, c] * B[c, a]\n",
    "end\n",
    "\n",
    "# 可以忽略某些参数的导数\n",
    "function g(A::TensorMap, B::TensorMap)\n",
    "    B = ChainRulesCore.ignore_derivatives(B)   # 不计算B的导数！！！！\n",
    "    # _, R = leftorth(A, ((1,), (2,)))\n",
    "    U, S, Vdag, ϵ = tsvd(A, ((1,), (2,)); trunc=notrunc(), alg=TensorKit.SVD())\n",
    "    # @tensor Ap[a, b] := A[a, c] * A[c, b]\n",
    "    return @tensor C = Vdag[a, c] * B[c, a]\n",
    "end\n",
    "\n",
    "pspace = Rep[ℤ₂×SU₂]((0, 0) => 2, (1, 1 // 2) => 1)\n",
    "# pspace = Rep[ℤ₂]((1 => 1), (0 => 2))\n",
    "aspacel = Rep[ℤ₂×SU₂]((0, 0) => 2, (1, 1 // 2) => 1)\n",
    "# aspacer = Rep[ℤ₂×SU₂]((0, 0) => 2, (0, 1) => 2)\n",
    "aspacer = aspacel\n",
    "aspacet = Rep[ℤ₂×SU₂]((0, 0) => 2, (1, 1 // 2) => 1)\n",
    "# aspaceb = Rep[ℤ₂×SU₂]((0, 0) => 2, (1, 3 // 2) => 2)\n",
    "aspaceb = aspacet\n",
    "\n",
    "A = TensorMap(randn, Float64, aspacel ⊗ aspacet ⊗ pspace, aspacer ⊗ aspaceb)\n",
    "Ms = [A, A, A, A]\n",
    "ipeps = iPEPS(Ms, 2, 2)\n",
    "nothing"
   ]
  },
  {
   "cell_type": "code",
   "execution_count": null,
   "metadata": {},
   "outputs": [],
   "source": [
    "function iPEPScontract(ipeps1::iPEPS, ipeps2::iPEPS)\n",
    "    A = ipeps1[1, 1]\n",
    "    B = ipeps2[1, 1]\n",
    "    return @tensor C = A[l, t, p, r, b] * B'[r, b, l, t, p]\n",
    "end"
   ]
  },
  {
   "cell_type": "code",
   "execution_count": null,
   "metadata": {},
   "outputs": [],
   "source": [
    "pspace = Rep[ℤ₂×SU₂]((0, 0) => 2, (1, 1 // 2) => 1)\n",
    "# pspace = Rep[ℤ₂×U₁]((0, 0) => 2, (1, 1) => 1)\n",
    "# pspace = ℝ^3\n",
    "A = TensorMap(randn, Float64, pspace, pspace)\n",
    "B = TensorMap(randn, Float64, pspace, pspace)\n",
    "\n",
    "# 内含 QR, SVD, 以及复杂矩阵乘的函数，无论 pspace 对称性如何，都可以直接求梯度\n",
    "grd = gradient((a, b) -> f(a, b), A, B)\n",
    "@show grd\n",
    "y, back = pullback((a, b) -> f(a, b), A, B)  # pullback 可以返回函数值和带系数的梯度生成器\n",
    "@show y\n",
    "@assert back(1.0) == grd\n",
    "@assert back(2.0) == 2.0 .* grd\n",
    "\n",
    "grd2 = gradient((a, b) -> g(a, b), A, B)\n",
    "@show grd2\n",
    "@assert grd[1] == grd2[1]\n",
    "nothing"
   ]
  },
  {
   "cell_type": "code",
   "execution_count": null,
   "metadata": {},
   "outputs": [],
   "source": [
    "# grd = gradient((a, b) -> iPEPScontract(a, b), ipeps, ipeps)\n",
    "grd = gradient(ipeps, ipeps) do a, b\n",
    "    b = ChainRulesCore.ignore_derivatives(b)   # 不计算B的导数,在匿名函数里面声明可以不改动底层函数代码\n",
    "    iPEPScontract(a, b)\n",
    "end\n",
    "@show typeof(grd)\n",
    "@show typeof(grd[1].Ms[1])\n",
    "@show grd[1].Lx\n",
    "@show grd[2]\n",
    "nothing"
   ]
  },
  {
   "cell_type": "code",
   "execution_count": null,
   "metadata": {},
   "outputs": [],
   "source": [
    "a = Matrix{Array}(undef, 2, 2)\n",
    "a[1, 1] = [[3, 4, 5], [1, 1, 1]]\n",
    "a[2, 2] = [1, 2, 3]\n",
    "a[2, 1] = [1, 2, 3]\n",
    "a[1, 2] = [1, 2, 3]\n",
    "\n",
    "_, S, _ = tsvd(A, ((1,), (2,)); trunc=notrunc(), alg=TensorKit.SVD())\n",
    "a[2, 1] = [diag(convert(Array, S)), diag(convert(Array, S))]\n",
    "a[2, 2] = map(x -> diag(convert(Array, x)), [S, S])\n",
    "@show a[2, 1]\n",
    "@show a[2, 2]\n",
    "@assert a[2, 1] == a[2, 2]\n",
    "\n",
    "b = [1 4; 2 3]\n",
    "@assert b isa Matrix\n",
    "@show b\n",
    "@show maximum(b)\n",
    "nothing"
   ]
  }
 ],
 "metadata": {
  "kernelspec": {
   "display_name": "Julia 1.9.2",
   "language": "julia",
   "name": "julia-1.9"
  },
  "language_info": {
   "file_extension": ".jl",
   "mimetype": "application/julia",
   "name": "julia",
   "version": "1.9.2"
  }
 },
 "nbformat": 4,
 "nbformat_minor": 2
}
