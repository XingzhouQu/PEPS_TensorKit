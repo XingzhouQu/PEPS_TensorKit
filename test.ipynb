{
 "cells": [
  {
   "cell_type": "code",
   "execution_count": 1,
   "metadata": {},
   "outputs": [
    {
     "data": {
      "text/plain": [
       "inv"
      ]
     },
     "metadata": {},
     "output_type": "display_data"
    }
   ],
   "source": [
    "using TensorKit\n",
    "import TensorKit.×\n",
    "include(\"./iPEPS/iPEPS.jl\")\n",
    "include(\"./iPEPS/swap_gate.jl\")\n",
    "include(\"./iPEPS/util.jl\")"
   ]
  },
  {
   "cell_type": "code",
   "execution_count": null,
   "metadata": {},
   "outputs": [],
   "source": [
    "## follow convention (l, t, σ, r, b)\n",
    "## domain: r, b\n",
    "## codomain: l, t, σ\n",
    "M11 = TensorMap(randn, ComplexF64, ℂ^3 ⊗ ℂ^3 ⊗ ℂ^2, ℂ^3 ⊗ ℂ^3)\n",
    "@show domain(M11)\n",
    "@show space(M11)\n",
    "M12 = TensorMap(randn, ComplexF64, ℂ^3 ⊗ ℂ^3 ⊗ ℂ^2, ℂ^3 ⊗ ℂ^3)\n",
    "\n",
    "## contraction 后用; 分割 (codomain; domain), 原来的domain 放到 codomain，或反过来，空间都要变为对偶空间（加'）\n",
    "@tensor M1112[l1, t1, σ1, σ2, b1; t2, r2, b2] := M11[l1, t1, σ1, r1, b1] * M12[r1, t2, σ2, r2, b2]\n",
    "# B = permute(A, (3,), (1, 2, 4, 5))\n",
    "# @show domain(B)\n",
    "@show domain(M1112)\n",
    "@show codomain(M1112)"
   ]
  },
  {
   "cell_type": "code",
   "execution_count": 2,
   "metadata": {},
   "outputs": [
    {
     "data": {
      "text/plain": [
       "Rep[ℤ₂ × SU₂]((0, 0)=>2, (1, 1/2)=>1)"
      ]
     },
     "metadata": {},
     "output_type": "display_data"
    }
   ],
   "source": [
    "pspace = Rep[ℤ₂×SU₂]((0, 0) => 2, (1, 1 // 2) => 1)\n",
    "# pspace = Rep[ℤ₂]((1 => 1), (0 => 2))\n",
    "aspacel = Rep[ℤ₂×SU₂]((0, 0) => 2, (1, 1 // 2) => 1)\n",
    "# aspacer = Rep[ℤ₂×SU₂]((0, 0) => 2, (0, 1) => 2)\n",
    "aspacer = aspacel\n",
    "aspacet = Rep[ℤ₂×SU₂]((0, 0) => 2, (1, 1 // 2) => 1)\n",
    "# aspaceb = Rep[ℤ₂×SU₂]((0, 0) => 2, (1, 3 // 2) => 2)\n",
    "aspaceb = aspacet\n",
    "# @show typeof(pspace)\n",
    "# @show GradedSpace isa ElementarySpace\n",
    "# @show pspace isa VectorSpace\n",
    "# A = TensorMap(randn, ComplexF64, aspacel ⊗ aspacet ⊗ pspace, aspacer ⊗ aspaceb)\n",
    "# Ms = [A, A, A, A]\n",
    "# ipeps = iPEPS(Ms, 2, 2)\n",
    "# Abar = bar(A)\n",
    "# @show space(Abar)\n",
    "# gate1 = swap_gate(space(Abar)[4], space(Abar)[5])\n",
    "# @show space(gate1)\n",
    "# gate2 = swap_gate(space(Abar)[1], space(Abar)[2])\n",
    "# @show space(gate2)\n",
    "# gate3 = swap_gate(space(A)[4], space(A)[5])\n",
    "# @show space(gate3)\n",
    "# gate4 = swap_gate(space(A)[1], space(A)[2])\n",
    "# @show space(gate4)\n",
    "# gate5 = swap_gate(space(A)[1], space(Abar)[2])\n",
    "# @show space(gate5)"
   ]
  },
  {
   "cell_type": "code",
   "execution_count": null,
   "metadata": {},
   "outputs": [],
   "source": [
    "A = id(pspace)\n",
    "@show A\n",
    "exp!(A)\n",
    "@show A\n",
    "nothing"
   ]
  },
  {
   "cell_type": "code",
   "execution_count": 3,
   "metadata": {},
   "outputs": [],
   "source": [
    "include(\"./simple_update/iPEPS_GammaLambda.jl\")\n",
    "ipeps = iPEPSΓΛ(pspace, aspacel, aspacet, 2, 2; dtype=ComplexF64)\n",
    "\n",
    "gateNN = TensorMap(randn, ComplexF64, pspace ⊗ pspace, pspace ⊗ pspace)\n",
    "\n",
    "nothing"
   ]
  },
  {
   "cell_type": "code",
   "execution_count": 4,
   "metadata": {},
   "outputs": [],
   "source": [
    "xx = 1\n",
    "yy = 1\n",
    "Dk = 5\n",
    "swgate = swap_gate(space(ipeps[xx, yy+1].Γ)[3]', space(ipeps[xx, yy+1].Γ)[1]')\n",
    "@tensor Γu[l, t, p; r, b] := ipeps[xx, yy].Γ[le, te, p, re, b] * ipeps[xx, yy].t[t, te] * ipeps[xx, yy].r[re, r] * ipeps[xx, yy].l[l, le]\n",
    "@tensor Γd[l, t, p; r, b] := ipeps[xx, yy+1].Γ[le, t, pin, re, be] * ipeps[xx, yy+1].l[lin, le] * ipeps[xx, yy+1].r[re, r] *\n",
    "                             ipeps[xx, yy+1].b[be, b] * swgate[pin, lin, p, l]\n",
    "# 两次QR\n",
    "Xu, vu = leftorth(Γu, ((1, 2, 4), (3, 5)))\n",
    "wd, Yd = rightorth(Γd, ((2, 3), (1, 4, 5)))\n",
    "# 作用 Trotter Gate\n",
    "@tensor mid[toX, pu, pd; toY] := vu[toX, puin, toV] * ipeps[xx, yy].b[toV, toW] * gateNN[pu, pd, puin, pdin] *\n",
    "                                 wd[toW, pdin, toY]\n",
    "vnew, λnew, wnew, err = tsvd(mid, ((1, 2), (3, 4)); trunc=truncdim(Dk))\n",
    "swgate = swap_gate(space(wd)[2]', space(Yd)[2]')\n",
    "@tensor Γdnew[l, t, p; r, b] := Yd[toY, lein, re, be] * wnew[t, pin, toY] * swgate[pin, lein, p, le] *\n",
    "                                inv(ipeps[xx, yy+1].l)[l, le] * inv(ipeps[xx, yy+1].r)[re, r] * inv(ipeps[xx, yy+1].b)[be, b]                              \n",
    "@tensor Γunew[l, t, p; r, b] := Xu[le, te, re, toX] * vnew[toX, p, b] * inv(ipeps[xx, yy].t)[t, te] *\n",
    "                                inv(ipeps[xx, yy].r)[re, r] * inv(ipeps[xx, yy].l)[l, le]\n",
    "# 更新 tensor\n",
    "# ipeps[xx, yy].b = λnew\n",
    "# ipeps[xx, yy+1].t = λnew\n",
    "# ipeps[xx, yy].Γ = Γunew\n",
    "# ipeps[xx, yy+1].Γ = Γdnew\n",
    "\n",
    "nothing"
   ]
  },
  {
   "cell_type": "code",
   "execution_count": 9,
   "metadata": {},
   "outputs": [
    {
     "name": "stdout",
     "output_type": "stream",
     "text": [
      "space(test4) = (Rep[ℤ₂ × SU₂]((0, 0)=>2, (1, 1/2)=>1) ⊗ Rep[ℤ₂ × SU₂]((0, 0)=>2, (1, 1/2)=>1) ⊗ Rep[ℤ₂ × SU₂]((0, 0)=>2, (1, 1/2)=>1)) ← (Rep[ℤ₂ × SU₂]((0, 0)=>2, (1, 1/2)=>1) ⊗ Rep[ℤ₂ × SU₂]((0, 0)=>2, (1, 1/2)=>1))\n"
     ]
    }
   ],
   "source": [
    "# @show space(ipeps[xx, yy].r)\n",
    "# @show space(ipeps[2, 2].r)\n",
    "# @show space(ipeps[xx, yy].l)\n",
    "# @assert ipeps[xx+1, yy].r == ipeps[xx, yy].l\n",
    "# @show space(Yr)[3]\n",
    "# @show space(Γrnew)[4]\n",
    "# @show space(ipeps[xx+1, yy].r)[1]\n",
    "swgate = swap_gate(space(Γunew)[3]', space(Γunew)[1]')\n",
    "\n",
    "@tensor test[lin, t, pin; re, be] := Γunew[le, t, pin, re, be] * ipeps[1, 1].l[lin, le]\n",
    "@tensor test2[lin, t, pin; r, be] := test[lin, t, pin; re, be] * ipeps[1, 1].r[re, r]\n",
    "@tensor test3[lin, t, pin; r, b] := test2[lin, t, pin; r, be] * λnew[be, b]\n",
    "@tensor test4[l, t, p; r, b] := test3[lin, t, pin; r, b] * swgate[pin, lin, p, l]\n",
    "# @tensor test[le, te, p; r, be] := Γrnew[le, te, p, re, be] *  ipeps[xx+1, yy].r[re, r]\n",
    "@show space(test4)                \n",
    "nothing"
   ]
  }
 ],
 "metadata": {
  "kernelspec": {
   "display_name": "Julia 1.9.2",
   "language": "julia",
   "name": "julia-1.9"
  },
  "language_info": {
   "file_extension": ".jl",
   "mimetype": "application/julia",
   "name": "julia",
   "version": "1.9.2"
  }
 },
 "nbformat": 4,
 "nbformat_minor": 2
}
