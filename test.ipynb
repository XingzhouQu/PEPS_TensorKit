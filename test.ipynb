{
 "cells": [
  {
   "cell_type": "code",
   "execution_count": 2,
   "metadata": {},
   "outputs": [
    {
     "name": "stdout",
     "output_type": "stream",
     "text": [
      "pkgversion(TensorKit) = v\"0.12.2\"\n"
     ]
    },
    {
     "name": "stderr",
     "output_type": "stream",
     "text": [
      "WARNING: using LinearAlgebra.× in module Main conflicts with an existing identifier.\n"
     ]
    },
    {
     "data": {
      "text/plain": [
       "v\"0.12.2\""
      ]
     },
     "metadata": {},
     "output_type": "display_data"
    }
   ],
   "source": [
    "using TensorKit\n",
    "import TensorKit.×\n",
    "include(\"./iPEPS_fSU2/iPEPS.jl\")\n",
    "include(\"./CTMRG_fSU2/CTMRG.jl\")\n",
    "@show pkgversion(TensorKit)"
   ]
  },
  {
   "cell_type": "code",
   "execution_count": null,
   "metadata": {},
   "outputs": [],
   "source": []
  },
  {
   "cell_type": "code",
   "execution_count": null,
   "metadata": {},
   "outputs": [],
   "source": [
    "# pspace = GradedSpace{fSU₂}((-1, 0) => 1, (0, 1 // 2) => 1, (1, 0) => 1)\n",
    "pspace = GradedSpace{fSU₂}((0 => 2), (1//2 => 1))\n",
    "aspacel = GradedSpace{fSU₂}((0 => 1), (1//2 => 1))\n",
    "aspacet = GradedSpace{fSU₂}((0 => 1), (1//2 => 2))\n",
    "aspacer = GradedSpace{fSU₂}((0 => 2), (1//2 => 2))\n",
    "aspaceb = GradedSpace{fSU₂}((0 => 1), (1//2 => 1), (1 => 1))\n",
    "# aspacel = aspacer = aspacet = aspaceb = pspace\n",
    "@show pspace\n",
    "nothing"
   ]
  },
  {
   "cell_type": "code",
   "execution_count": null,
   "metadata": {},
   "outputs": [],
   "source": [
    "a = id(pspace)\n",
    "@tensor contractcheck=true b[] := a[x, in] * a[in, x]\n",
    "@show scalar(b)\n",
    "\n",
    "@show maximum(convert(Array, a))\n",
    "@show minimum(convert(Array, a))\n",
    "@show one(eltype(a))\n",
    "@show one(mapreduce(eltype, promote_type, storagetype.(a)))\n",
    "nothing"
   ]
  },
  {
   "cell_type": "code",
   "execution_count": null,
   "metadata": {},
   "outputs": [],
   "source": [
    "t1 = 2 * id(pspace)\n",
    "t2 = inv(sqrt(t1))\n",
    "t3 = sqrt(inv(t1))\n",
    "@assert t2 ≈ t3"
   ]
  },
  {
   "cell_type": "code",
   "execution_count": null,
   "metadata": {},
   "outputs": [],
   "source": [
    "a = TensorMap(randn, ComplexF64, aspacel ⊗ aspacet ⊗ pspace, aspacer ⊗ aspaceb)\n",
    "@show space(a)  # [l, t, p; r, b]\n",
    "@show space(a') # [r, b; l, t, p]\n",
    "\n",
    "permute!(a, a, ((1,2), (3,4,5)))\n",
    "@show space(a)\n",
    "nothing"
   ]
  },
  {
   "cell_type": "code",
   "execution_count": null,
   "metadata": {},
   "outputs": [],
   "source": [
    "pspace = Rep[ℤ₂×SU₂]((0, 0) => 2, (1, 1 // 2) => 1)\n",
    "# pspace = Rep[ℤ₂]((1 => 1), (0 => 2))\n",
    "aspacel = Rep[ℤ₂×SU₂]((0, 0) => 2, (1, 1 // 2) => 1)\n",
    "# aspacer = Rep[ℤ₂×SU₂]((0, 0) => 2, (0, 1) => 2)\n",
    "aspacer = aspacel\n",
    "aspacet = Rep[ℤ₂×SU₂]((0, 0) => 2, (1, 1 // 2) => 1)\n",
    "# aspaceb = Rep[ℤ₂×SU₂]((0, 0) => 2, (1, 3 // 2) => 2)\n",
    "aspaceb = aspacet\n",
    "\n",
    "# A = TensorMap(randn, ComplexF64, aspacel ⊗ aspacet ⊗ pspace, aspacer ⊗ aspaceb)\n",
    "# Ms = [A, A, A, A]\n",
    "# ipeps = iPEPS(Ms, 2, 2)\n",
    "# Abar = bar(A)\n",
    "# @show space(Abar)\n",
    "# gate1 = swap_gate(space(Abar)[4], space(Abar)[5])\n",
    "# @show space(gate1)\n",
    "# gate2 = swap_gate(space(Abar)[1], space(Abar)[2])\n",
    "# @show space(gate2)\n",
    "# gate3 = swap_gate(space(A)[4], space(A)[5])\n",
    "# @show space(gate3)\n",
    "# gate4 = swap_gate(space(A)[1], space(A)[2])\n",
    "# @show space(gate4)\n",
    "# gate5 = swap_gate(space(A)[1], space(Abar)[2])\n",
    "# @show space(gate5)\n",
    "@assert pspace isa ElementarySpace\n",
    "@show fieldnames(GradedSpace)"
   ]
  },
  {
   "cell_type": "code",
   "execution_count": null,
   "metadata": {},
   "outputs": [],
   "source": [
    "A = id(pspace)\n",
    "@show A\n",
    "@tensor x = A[a, a]\n",
    "@show x\n",
    "nothing"
   ]
  },
  {
   "cell_type": "code",
   "execution_count": null,
   "metadata": {},
   "outputs": [],
   "source": [
    "pspace = GradedSpace{fSU₂}((0 => 2), (1 // 2 => 1))\n",
    "aspacel = GradedSpace{fSU₂}((0 => 2), (1 // 2 => 1))\n",
    "aspacer = aspacel\n",
    "aspacet = GradedSpace{fSU₂}((0 => 2), (1 // 2 => 1))\n",
    "aspaceb = aspacet\n",
    "\n",
    "Lx = 2\n",
    "Ly = 2\n",
    "Ms = Vector{TensorMap}(undef, Lx * Ly)\n",
    "for ii in 1:Lx*Ly\n",
    "    Ms[ii] = TensorMap(randn, ComplexF64, aspacel ⊗ aspacet ⊗ pspace, aspacer ⊗ aspaceb)\n",
    "    Ms[ii] = Ms[ii] / norm(Ms[ii])\n",
    "end\n",
    "@assert Ms[1] != Ms[2]\n",
    "ipeps = iPEPS(Ms, Lx, Ly)\n",
    "\n",
    "envs = iPEPSenv(ipeps)\n",
    "χ = 10\n",
    "Nit = 2\n",
    "nothing"
   ]
  },
  {
   "cell_type": "code",
   "execution_count": null,
   "metadata": {},
   "outputs": [],
   "source": [
    "using JLD2\n",
    "\n",
    "save(\"/home/tcmp2/JuliaProjects/testSave.jld2\", \"ipeps\", ipeps, \"envs\", envs)"
   ]
  },
  {
   "cell_type": "code",
   "execution_count": 3,
   "metadata": {},
   "outputs": [
    {
     "ename": "UndefVarError",
     "evalue": "UndefVarError: `ipeps` not defined",
     "output_type": "error",
     "traceback": [
      "UndefVarError: `ipeps` not defined\n",
      "\n",
      "Stacktrace:\n",
      " [1] macro expansion\n",
      "   @ show.jl:1181 [inlined]\n",
      " [2] top-level scope\n",
      "   @ ~/JuliaProjects/PEPS_TensorKit/test.ipynb:3"
     ]
    }
   ],
   "source": [
    "using JLD2\n",
    "load(\"/home/tcmp2/JuliaProjects/testSave.jld2\")\n",
    "@show ipeps.Lx\n",
    "@show envs.Ly\n",
    "nothing"
   ]
  },
  {
   "cell_type": "code",
   "execution_count": null,
   "metadata": {},
   "outputs": [],
   "source": [
    "@show numind(envs[1, 1].transfer.l)\n",
    "@show numind(envs[1, 2].transfer.l)\n",
    "envs[1, 1].transfer.l = id(pspace)\n",
    "@show numind(envs[1, 1].transfer.l)\n",
    "@show numind(envs[1, 1].transfer.r)\n",
    "@show numind(envs[1, 1].transfer.t)\n",
    "@show numind(envs[1, 1].transfer.b)\n",
    "@show numind(envs[1, 2].transfer.l)\n",
    "@assert envs[1, 1].corner.lt != envs[1, 2].corner.lt"
   ]
  }
 ],
 "metadata": {
  "kernelspec": {
   "display_name": "Julia 1.10.2",
   "language": "julia",
   "name": "julia-1.10"
  },
  "language_info": {
   "file_extension": ".jl",
   "mimetype": "application/julia",
   "name": "julia",
   "version": "1.10.2"
  }
 },
 "nbformat": 4,
 "nbformat_minor": 2
}
