{
 "cells": [
  {
   "cell_type": "code",
   "execution_count": 2,
   "metadata": {},
   "outputs": [
    {
     "name": "stdout",
     "output_type": "stream",
     "text": [
      "pkgversion(TensorKit) = v\"0.12.1\"\n"
     ]
    },
    {
     "data": {
      "text/plain": [
       "v\"0.12.1\""
      ]
     },
     "metadata": {},
     "output_type": "display_data"
    }
   ],
   "source": [
    "using TensorKit\n",
    "import TensorKit.×\n",
    "include(\"./iPEPS_fSU2/iPEPS.jl\")\n",
    "include(\"./CTMRG_fSU2/CTMRG.jl\")\n",
    "\n",
    "@show pkgversion(TensorKit)"
   ]
  },
  {
   "cell_type": "code",
   "execution_count": null,
   "metadata": {},
   "outputs": [],
   "source": [
    "# pspace = GradedSpace{fSU₂}((-1, 0) => 1, (0, 1 // 2) => 1, (1, 0) => 1)\n",
    "pspace = GradedSpace{fSU₂}((0 => 2), (1//2 => 1))\n",
    "aspacel = GradedSpace{fSU₂}((0 => 1), (1//2 => 1))\n",
    "aspacet = GradedSpace{fSU₂}((0 => 1), (1//2 => 2))\n",
    "aspacer = GradedSpace{fSU₂}((0 => 2), (1//2 => 2))\n",
    "aspaceb = GradedSpace{fSU₂}((0 => 1), (1//2 => 1), (1 => 1))\n",
    "# aspacel = aspacer = aspacet = aspaceb = pspace\n",
    "@show pspace\n",
    "nothing"
   ]
  },
  {
   "cell_type": "code",
   "execution_count": null,
   "metadata": {},
   "outputs": [],
   "source": [
    "a = TensorMap(randn, ComplexF64, aspacel ⊗ aspacet ⊗ pspace, aspacer ⊗ aspaceb)\n",
    "@show space(a)  # [l, t, p; r, b]\n",
    "@show space(a') # [r, b; l, t, p]\n",
    "\n",
    "@tensor tmp[l1, l2, t1, t2; r1, r2, b1, b2] := a[l1, t1, p, r1, b1] * a'[r2, b2, l2, t2, p]\n",
    "nothing"
   ]
  },
  {
   "cell_type": "code",
   "execution_count": null,
   "metadata": {},
   "outputs": [],
   "source": [
    "pspace = Rep[ℤ₂×SU₂]((0, 0) => 2, (1, 1 // 2) => 1)\n",
    "# pspace = Rep[ℤ₂]((1 => 1), (0 => 2))\n",
    "aspacel = Rep[ℤ₂×SU₂]((0, 0) => 2, (1, 1 // 2) => 1)\n",
    "# aspacer = Rep[ℤ₂×SU₂]((0, 0) => 2, (0, 1) => 2)\n",
    "aspacer = aspacel\n",
    "aspacet = Rep[ℤ₂×SU₂]((0, 0) => 2, (1, 1 // 2) => 1)\n",
    "# aspaceb = Rep[ℤ₂×SU₂]((0, 0) => 2, (1, 3 // 2) => 2)\n",
    "aspaceb = aspacet\n",
    "\n",
    "# A = TensorMap(randn, ComplexF64, aspacel ⊗ aspacet ⊗ pspace, aspacer ⊗ aspaceb)\n",
    "# Ms = [A, A, A, A]\n",
    "# ipeps = iPEPS(Ms, 2, 2)\n",
    "# Abar = bar(A)\n",
    "# @show space(Abar)\n",
    "# gate1 = swap_gate(space(Abar)[4], space(Abar)[5])\n",
    "# @show space(gate1)\n",
    "# gate2 = swap_gate(space(Abar)[1], space(Abar)[2])\n",
    "# @show space(gate2)\n",
    "# gate3 = swap_gate(space(A)[4], space(A)[5])\n",
    "# @show space(gate3)\n",
    "# gate4 = swap_gate(space(A)[1], space(A)[2])\n",
    "# @show space(gate4)\n",
    "# gate5 = swap_gate(space(A)[1], space(Abar)[2])\n",
    "# @show space(gate5)\n",
    "@assert pspace isa ElementarySpace\n",
    "@show fieldnames(GradedSpace)"
   ]
  },
  {
   "cell_type": "code",
   "execution_count": null,
   "metadata": {},
   "outputs": [],
   "source": [
    "A = id(pspace)\n",
    "@show A\n",
    "exp!(A)\n",
    "@show A + A\n",
    "nothing"
   ]
  },
  {
   "cell_type": "code",
   "execution_count": null,
   "metadata": {},
   "outputs": [],
   "source": [
    "ipeps = iPEPSΓΛ(pspace, aspacel, aspacet, 2, 2; dtype=ComplexF64)\n",
    "\n",
    "gateNN = TensorMap(randn, ComplexF64, pspace ⊗ pspace, pspace ⊗ pspace)\n",
    "\n",
    "nothing"
   ]
  },
  {
   "cell_type": "code",
   "execution_count": 5,
   "metadata": {},
   "outputs": [
    {
     "name": "stdout",
     "output_type": "stream",
     "text": [
      "blocks(Fdag) = TensorKit.SortedVectorDict{TensorKit.ProductSector{Tuple{Z2Irrep, SU2Irrep}}, Matrix{Float64}}((0, 0) => [0.0; 1.4142135623730951;;], (1, 1/2) => [1.0 0.0])\n",
      "block(Fdag, (Irrep[ℤ₂ × SU₂])(1, 1 // 2)) = [1.0 0.0]\n",
      "block(Fdag, (Irrep[ℤ₂ × SU₂])(0, 0)) = [0.0; 1.4142135623730951;;]"
     ]
    },
    {
     "name": "stdout",
     "output_type": "stream",
     "text": [
      "\n",
      "size(block(Fdag, (Irrep[ℤ₂ × SU₂])(0, 0))) = (2, 1)\n"
     ]
    }
   ],
   "source": [
    "pspace = Rep[ℤ₂×SU₂]((0, 0) => 2, (1, 1 // 2) => 1)\n",
    "aspace = Rep[ℤ₂×SU₂]((1, 1 // 2) => 1)\n",
    "Fdag = TensorMap(zeros, pspace, pspace ⊗ aspace)\n",
    "block(Fdag, Irrep[ℤ₂×SU₂](1, 1 // 2))[1, 1] = 1\n",
    "block(Fdag, Irrep[ℤ₂×SU₂](0, 0))[2, 1] = sqrt(2)\n",
    "# @show Fdag\n",
    "@show blocks(Fdag)\n",
    "@show block(Fdag, Irrep[ℤ₂×SU₂](1, 1 // 2))\n",
    "@show block(Fdag, Irrep[ℤ₂×SU₂](0, 0))\n",
    "@show size(block(Fdag, Irrep[ℤ₂×SU₂](0, 0)))\n",
    "nothing"
   ]
  },
  {
   "cell_type": "code",
   "execution_count": 39,
   "metadata": {},
   "outputs": [
    {
     "name": "stdout",
     "output_type": "stream",
     "text": [
      "blocks(Fdag) = TensorKit.SortedVectorDict{TensorKit.ProductSector{Tuple{SU2Irrep, FermionParity}}, Matrix{Float64}}((0, 0) => [0.0; 1.4142135623730951;;], (1/2, 1) => [1.0 0.0])\n"
     ]
    }
   ],
   "source": [
    "pspace = GradedSpace{fSU₂}((0 => 2), (1//2 => 1))\n",
    "aspace = GradedSpace{fSU₂}((1//2 => 1))\n",
    "Fdag = TensorMap(zeros, pspace, pspace ⊗ aspace)\n",
    "for (key, val) in blocks(Fdag)\n",
    "    if key == Irrep[SU₂](0) ⊠ FermionParity(0)\n",
    "        val[2, 1] = sqrt(2)\n",
    "    elseif key == Irrep[SU₂](1/2) ⊠ FermionParity(1)\n",
    "        val[1, 1] = one(val[1, 1])\n",
    "    else\n",
    "        nothing\n",
    "    end\n",
    "end\n",
    "@show blocks(Fdag)\n",
    "# block(Fdag, GradedSpace{fSU₂}(1 // 2))[1, 1] = 1\n",
    "# block(Fdag, GradedSpace{fSU₂}(0))[2, 1] = sqrt(2)\n",
    "# @show Fdag\n",
    "# @show block(Fdag, Irrep[ℤ₂×SU₂](1, 1 // 2))\n",
    "# @show block(Fdag, Irrep[ℤ₂×SU₂](0, 0))\n",
    "# @show size(block(Fdag, Irrep[ℤ₂×SU₂](0, 0)))\n",
    "nothing"
   ]
  }
 ],
 "metadata": {
  "kernelspec": {
   "display_name": "Julia 1.9.2",
   "language": "julia",
   "name": "julia-1.9"
  },
  "language_info": {
   "file_extension": ".jl",
   "mimetype": "application/julia",
   "name": "julia",
   "version": "1.9.2"
  }
 },
 "nbformat": 4,
 "nbformat_minor": 2
}
