{
 "cells": [
  {
   "cell_type": "code",
   "execution_count": null,
   "metadata": {},
   "outputs": [],
   "source": [
    "using TensorKit\n",
    "import TensorKit.×\n",
    "include(\"./iPEPS_Fermionic/iPEPS.jl\")\n",
    "include(\"./CTMRG_Fermionic/CTMRG.jl\")\n",
    "@show pkgversion(TensorKit)\n",
    "using JLD2"
   ]
  },
  {
   "cell_type": "code",
   "execution_count": null,
   "metadata": {},
   "outputs": [],
   "source": []
  },
  {
   "cell_type": "code",
   "execution_count": null,
   "metadata": {},
   "outputs": [],
   "source": [
    "# pspace = GradedSpace{fSU₂}((-1, 0) => 1, (0, 1 // 2) => 1, (1, 0) => 1)\n",
    "pspace = Rep[U₁×SU₂]((-1, 0) => 1, (0, 1 // 2) => 1, (1, 0) => 1)\n",
    "aspace = Rep[U₁×SU₂]((2, 0) => 2)\n",
    "\n",
    "# aspacel = aspacer = aspacet = aspaceb = pspace\n",
    "@show pspace\n",
    "nothing"
   ]
  },
  {
   "cell_type": "code",
   "execution_count": null,
   "metadata": {},
   "outputs": [],
   "source": [
    "gate = swap_gate(pspace, aspace)\n",
    "@show space(gate)"
   ]
  },
  {
   "cell_type": "code",
   "execution_count": null,
   "metadata": {},
   "outputs": [],
   "source": [
    "t = id(pspace)\n",
    "(f1, _) = collect(fusiontrees(t))[1]\n",
    "f = f1[1]\n",
    "@show f.uncoupled\n",
    "@assert f.uncoupled[1] isa U1Irrep\n",
    "\n",
    "nothing"
   ]
  },
  {
   "cell_type": "code",
   "execution_count": null,
   "metadata": {},
   "outputs": [],
   "source": [
    "a = TensorMap(randn, ComplexF64, aspacel ⊗ aspacet ⊗ pspace, aspacer ⊗ aspaceb)\n",
    "@show space(a)  # [l, t, p; r, b]\n",
    "@show space(a') # [r, b; l, t, p]\n",
    "\n",
    "permute!(a, a, ((1,2), (3,4,5)))\n",
    "@show space(a)\n",
    "nothing"
   ]
  },
  {
   "cell_type": "code",
   "execution_count": null,
   "metadata": {},
   "outputs": [],
   "source": [
    "pspace = Rep[ℤ₂×SU₂]((0, 0) => 2, (1, 1 // 2) => 1)\n",
    "# pspace = Rep[ℤ₂]((1 => 1), (0 => 2))\n",
    "aspacel = Rep[ℤ₂×SU₂]((0, 0) => 2, (1, 1 // 2) => 1)\n",
    "# aspacer = Rep[ℤ₂×SU₂]((0, 0) => 2, (0, 1) => 2)\n",
    "aspacer = aspacel\n",
    "aspacet = Rep[ℤ₂×SU₂]((0, 0) => 2, (1, 1 // 2) => 1)\n",
    "# aspaceb = Rep[ℤ₂×SU₂]((0, 0) => 2, (1, 3 // 2) => 2)\n",
    "aspaceb = aspacet\n",
    "\n",
    "# A = TensorMap(randn, ComplexF64, aspacel ⊗ aspacet ⊗ pspace, aspacer ⊗ aspaceb)\n",
    "# Ms = [A, A, A, A]\n",
    "# ipeps = iPEPS(Ms, 2, 2)\n",
    "# Abar = bar(A)\n",
    "# @show space(Abar)\n",
    "# gate1 = swap_gate(space(Abar)[4], space(Abar)[5])\n",
    "# @show space(gate1)\n",
    "# gate2 = swap_gate(space(Abar)[1], space(Abar)[2])\n",
    "# @show space(gate2)\n",
    "# gate3 = swap_gate(space(A)[4], space(A)[5])\n",
    "# @show space(gate3)\n",
    "# gate4 = swap_gate(space(A)[1], space(A)[2])\n",
    "# @show space(gate4)\n",
    "# gate5 = swap_gate(space(A)[1], space(Abar)[2])\n",
    "# @show space(gate5)\n",
    "@assert pspace isa ElementarySpace\n",
    "@show fieldnames(GradedSpace)"
   ]
  },
  {
   "cell_type": "code",
   "execution_count": null,
   "metadata": {},
   "outputs": [],
   "source": [
    "pspace = GradedSpace{fSU₂}((0 => 2), (1 // 2 => 1))\n",
    "aspacel = GradedSpace{fSU₂}((0 => 2), (1 // 2 => 1))\n",
    "aspacer = aspacel\n",
    "aspacet = GradedSpace{fSU₂}((0 => 2), (1 // 2 => 1))\n",
    "aspaceb = aspacet\n",
    "\n",
    "Lx = 2\n",
    "Ly = 2\n",
    "Ms = Vector{TensorMap}(undef, Lx * Ly)\n",
    "for ii in 1:Lx*Ly\n",
    "    Ms[ii] = TensorMap(randn, ComplexF64, aspacel ⊗ aspacet ⊗ pspace, aspacer ⊗ aspaceb)\n",
    "    Ms[ii] = Ms[ii] / norm(Ms[ii])\n",
    "end\n",
    "@assert Ms[1] != Ms[2]\n",
    "ipeps = iPEPS(Ms, Lx, Ly)\n",
    "\n",
    "envs = iPEPSenv(ipeps)\n",
    "χ = 10\n",
    "Nit = 2\n",
    "nothing"
   ]
  },
  {
   "cell_type": "code",
   "execution_count": null,
   "metadata": {},
   "outputs": [],
   "source": [
    "save(\"/home/tcmp2/JuliaProjects/testSave.jld2\", \"ipeps\", ipeps, \"envs\", envs)"
   ]
  },
  {
   "cell_type": "code",
   "execution_count": null,
   "metadata": {},
   "outputs": [],
   "source": [
    "ipeps, envs = load(\"/home/tcmp2/JuliaProjects/testSave.jld2\", \"ipeps\", \"envs\")\n",
    "@show ipeps.Lx\n",
    "@show envs.Ly\n",
    "nothing"
   ]
  },
  {
   "cell_type": "code",
   "execution_count": null,
   "metadata": {},
   "outputs": [],
   "source": [
    "using TensorKit\n",
    "include(\"./iPEPS_fSU2/iPEPS.jl\")\n",
    "include(\"./CTMRG_fSU2/CTMRG.jl\")\n",
    "include(\"./models/Heisenberg_U1.jl\")\n",
    "include(\"./simple_update_fSU2/simple_update.jl\")\n",
    "include(\"./Cal_Obs_fSU2/Cal_Obs.jl\")"
   ]
  },
  {
   "cell_type": "code",
   "execution_count": null,
   "metadata": {},
   "outputs": [],
   "source": [
    "ipeps, envs, para = load(\"/home/tcmp2/JuliaProjects/testDiagObs.jld2\", \"ipeps\", \"envs\", \"para\")\n",
    "Obsdiag1 = Cal_Obs_2site(ipeps, envs, [\"hijNNN\", \"SzSz\", \"SpSm\"], para; site1=[1, 1], site2=[2, 2], get_op=get_op_Heisenberg)\n",
    "Obsdiag1 = Cal_Obs_2site(ipeps, envs, [\"hijNNN\", \"SzSz\", \"SpSm\"], para; site1=[1, 2], site2=[2, 1], get_op=get_op_Heisenberg)"
   ]
  }
 ],
 "metadata": {
  "kernelspec": {
   "display_name": "Julia 1.10.2",
   "language": "julia",
   "name": "julia-1.10"
  },
  "language_info": {
   "file_extension": ".jl",
   "mimetype": "application/julia",
   "name": "julia",
   "version": "1.10.2"
  }
 },
 "nbformat": 4,
 "nbformat_minor": 2
}
