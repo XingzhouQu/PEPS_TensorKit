{
 "cells": [
  {
   "cell_type": "code",
   "execution_count": 1,
   "metadata": {},
   "outputs": [
    {
     "name": "stdout",
     "output_type": "stream",
     "text": [
      "pkgversion(TensorKit) = v\"0.12.2\"\n"
     ]
    },
    {
     "name": "stderr",
     "output_type": "stream",
     "text": [
      "WARNING: using LinearAlgebra.× in module Main conflicts with an existing identifier.\n"
     ]
    },
    {
     "data": {
      "text/plain": [
       "v\"0.12.2\""
      ]
     },
     "metadata": {},
     "output_type": "display_data"
    }
   ],
   "source": [
    "using TensorKit\n",
    "import TensorKit.×\n",
    "include(\"./iPEPS_fSU2/iPEPS.jl\")\n",
    "include(\"./CTMRG_fSU2/CTMRG.jl\")\n",
    "@show pkgversion(TensorKit)"
   ]
  },
  {
   "cell_type": "code",
   "execution_count": 7,
   "metadata": {},
   "outputs": [
    {
     "name": "stdout",
     "output_type": "stream",
     "text": [
      "t = [-2.0522782627257543 0.5423177425508124 -1.1879373561101403; -0.013071025714311738 -2.4154028710968296 -0.7890654726191135; 0.7354378565655822 0.8607956793147556 0.9664920276221284]\n"
     ]
    },
    {
     "ename": "DomainError",
     "evalue": "DomainError with -0.487263359049488642416037009752471931278705596923828125:\nNaN result for non-NaN input.",
     "output_type": "error",
     "traceback": [
      "DomainError with -0.487263359049488642416037009752471931278705596923828125:\n",
      "NaN result for non-NaN input.\n",
      "\n",
      "Stacktrace:\n",
      " [1] sqrt(x::BigFloat)\n",
      "   @ Base.MPFR ./mpfr.jl:640\n",
      " [2] top-level scope\n",
      "   @ ~/JuliaProjects/PEPS_TensorKit/test.ipynb:5"
     ]
    }
   ],
   "source": [
    "t = Matrix(randn(3, 3))\n",
    "@show t\n",
    "u = zeros(3, 3)\n",
    "for ii in 1:size(t, 1)\n",
    "    u[ii, ii] = sqrt(inv(t[ii, ii]))\n",
    "end\n",
    "@show u"
   ]
  },
  {
   "cell_type": "code",
   "execution_count": 2,
   "metadata": {},
   "outputs": [
    {
     "name": "stdout",
     "output_type": "stream",
     "text": [
      "pspace = Vect[FermionSpin]((0, 0)=>2, (1/2, 1)=>1)\n"
     ]
    }
   ],
   "source": [
    "# pspace = GradedSpace{fSU₂}((-1, 0) => 1, (0, 1 // 2) => 1, (1, 0) => 1)\n",
    "pspace = GradedSpace{fSU₂}((0 => 2), (1//2 => 1))\n",
    "aspacel = GradedSpace{fSU₂}((0 => 1), (1//2 => 1))\n",
    "aspacet = GradedSpace{fSU₂}((0 => 1), (1//2 => 2))\n",
    "aspacer = GradedSpace{fSU₂}((0 => 2), (1//2 => 2))\n",
    "aspaceb = GradedSpace{fSU₂}((0 => 1), (1//2 => 1), (1 => 1))\n",
    "# aspacel = aspacer = aspacet = aspaceb = pspace\n",
    "@show pspace\n",
    "nothing"
   ]
  },
  {
   "cell_type": "code",
   "execution_count": 13,
   "metadata": {},
   "outputs": [
    {
     "name": "stdout",
     "output_type": "stream",
     "text": [
      "scalar(b) = -1.215487821516742e-15\n",
      "maximum(convert(Array, a)) = 1.0\n",
      "minimum(convert(Array, a)) = 0.0\n",
      "one(eltype(a)) = 1.0\n"
     ]
    },
    {
     "ename": "MethodError",
     "evalue": "MethodError: no method matching length(::TensorMap{GradedSpace{ProductSector{Tuple{SU2Irrep, FermionParity}}, TensorKit.SortedVectorDict{ProductSector{Tuple{SU2Irrep, FermionParity}}, Int64}}, 1, 1, ProductSector{Tuple{SU2Irrep, FermionParity}}, TensorKit.SortedVectorDict{ProductSector{Tuple{SU2Irrep, FermionParity}}, Matrix{Float64}}, FusionTree{ProductSector{Tuple{SU2Irrep, FermionParity}}, 1, 0, 0, Nothing}, FusionTree{ProductSector{Tuple{SU2Irrep, FermionParity}}, 1, 0, 0, Nothing}})\n\nClosest candidates are:\n  length(!Matched::Core.Compiler.InstructionStream)\n   @ Base show.jl:2777\n  length(!Matched::TensorKit.FibonacciIterator)\n   @ TensorKit ~/.julia/packages/TensorKit/gpuAY/src/sectors/anyons.jl:86\n  length(!Matched::Core.SimpleVector)\n   @ Base essentials.jl:770\n  ...\n",
     "output_type": "error",
     "traceback": [
      "MethodError: no method matching length(::TensorMap{GradedSpace{ProductSector{Tuple{SU2Irrep, FermionParity}}, TensorKit.SortedVectorDict{ProductSector{Tuple{SU2Irrep, FermionParity}}, Int64}}, 1, 1, ProductSector{Tuple{SU2Irrep, FermionParity}}, TensorKit.SortedVectorDict{ProductSector{Tuple{SU2Irrep, FermionParity}}, Matrix{Float64}}, FusionTree{ProductSector{Tuple{SU2Irrep, FermionParity}}, 1, 0, 0, Nothing}, FusionTree{ProductSector{Tuple{SU2Irrep, FermionParity}}, 1, 0, 0, Nothing}})\n",
      "\n",
      "Closest candidates are:\n",
      "  length(!Matched::Core.Compiler.InstructionStream)\n",
      "   @ Base show.jl:2777\n",
      "  length(!Matched::TensorKit.FibonacciIterator)\n",
      "   @ TensorKit ~/.julia/packages/TensorKit/gpuAY/src/sectors/anyons.jl:86\n",
      "  length(!Matched::Core.SimpleVector)\n",
      "   @ Base essentials.jl:770\n",
      "  ...\n",
      "\n",
      "\n",
      "Stacktrace:\n",
      " [1] _similar_shape(itr::TensorMap{GradedSpace{ProductSector{Tuple{SU2Irrep, FermionParity}}, TensorKit.SortedVectorDict{ProductSector{Tuple{SU2Irrep, FermionParity}}, Int64}}, 1, 1, ProductSector{Tuple{SU2Irrep, FermionParity}}, TensorKit.SortedVectorDict{ProductSector{Tuple{SU2Irrep, FermionParity}}, Matrix{Float64}}, FusionTree{ProductSector{Tuple{SU2Irrep, FermionParity}}, 1, 0, 0, Nothing}, FusionTree{ProductSector{Tuple{SU2Irrep, FermionParity}}, 1, 0, 0, Nothing}}, ::Base.HasLength)\n",
      "   @ Base ./array.jl:710\n",
      " [2] _collect(cont::UnitRange{Int64}, itr::TensorMap{GradedSpace{ProductSector{Tuple{SU2Irrep, FermionParity}}, TensorKit.SortedVectorDict{ProductSector{Tuple{SU2Irrep, FermionParity}}, Int64}}, 1, 1, ProductSector{Tuple{SU2Irrep, FermionParity}}, TensorKit.SortedVectorDict{ProductSector{Tuple{SU2Irrep, FermionParity}}, Matrix{Float64}}, FusionTree{ProductSector{Tuple{SU2Irrep, FermionParity}}, 1, 0, 0, Nothing}, FusionTree{ProductSector{Tuple{SU2Irrep, FermionParity}}, 1, 0, 0, Nothing}}, ::Base.HasEltype, isz::Base.HasLength)\n",
      "   @ Base ./array.jl:765\n",
      " [3] collect(itr::TensorMap{GradedSpace{ProductSector{Tuple{SU2Irrep, FermionParity}}, TensorKit.SortedVectorDict{ProductSector{Tuple{SU2Irrep, FermionParity}}, Int64}}, 1, 1, ProductSector{Tuple{SU2Irrep, FermionParity}}, TensorKit.SortedVectorDict{ProductSector{Tuple{SU2Irrep, FermionParity}}, Matrix{Float64}}, FusionTree{ProductSector{Tuple{SU2Irrep, FermionParity}}, 1, 0, 0, Nothing}, FusionTree{ProductSector{Tuple{SU2Irrep, FermionParity}}, 1, 0, 0, Nothing}})\n",
      "   @ Base ./array.jl:759\n",
      " [4] broadcastable(x::TensorMap{GradedSpace{ProductSector{Tuple{SU2Irrep, FermionParity}}, TensorKit.SortedVectorDict{ProductSector{Tuple{SU2Irrep, FermionParity}}, Int64}}, 1, 1, ProductSector{Tuple{SU2Irrep, FermionParity}}, TensorKit.SortedVectorDict{ProductSector{Tuple{SU2Irrep, FermionParity}}, Matrix{Float64}}, FusionTree{ProductSector{Tuple{SU2Irrep, FermionParity}}, 1, 0, 0, Nothing}, FusionTree{ProductSector{Tuple{SU2Irrep, FermionParity}}, 1, 0, 0, Nothing}})\n",
      "   @ Base.Broadcast ./broadcast.jl:743\n",
      " [5] broadcasted(::typeof(storagetype), ::TensorMap{GradedSpace{ProductSector{Tuple{SU2Irrep, FermionParity}}, TensorKit.SortedVectorDict{ProductSector{Tuple{SU2Irrep, FermionParity}}, Int64}}, 1, 1, ProductSector{Tuple{SU2Irrep, FermionParity}}, TensorKit.SortedVectorDict{ProductSector{Tuple{SU2Irrep, FermionParity}}, Matrix{Float64}}, FusionTree{ProductSector{Tuple{SU2Irrep, FermionParity}}, 1, 0, 0, Nothing}, FusionTree{ProductSector{Tuple{SU2Irrep, FermionParity}}, 1, 0, 0, Nothing}})\n",
      "   @ Base.Broadcast ./broadcast.jl:1339\n",
      " [6] macro expansion\n",
      "   @ show.jl:1181 [inlined]\n",
      " [7] top-level scope\n",
      "   @ ~/JuliaProjects/PEPS_TensorKit/test.ipynb:8"
     ]
    }
   ],
   "source": [
    "a = id(pspace)\n",
    "@tensor contractcheck=true b[] := a[x, in] * a[in, x]\n",
    "@show scalar(b)\n",
    "\n",
    "@show maximum(convert(Array, a))\n",
    "@show minimum(convert(Array, a))\n",
    "@show one(eltype(a))\n",
    "@show one(mapreduce(eltype, promote_type, storagetype.(a)))\n",
    "nothing"
   ]
  },
  {
   "cell_type": "code",
   "execution_count": null,
   "metadata": {},
   "outputs": [],
   "source": [
    "t1 = 2 * id(pspace)\n",
    "t2 = inv(sqrt(t1))\n",
    "t3 = sqrt(inv(t1))\n",
    "@assert t2 ≈ t3"
   ]
  },
  {
   "cell_type": "code",
   "execution_count": null,
   "metadata": {},
   "outputs": [],
   "source": [
    "a = TensorMap(randn, ComplexF64, aspacel ⊗ aspacet ⊗ pspace, aspacer ⊗ aspaceb)\n",
    "@show space(a)  # [l, t, p; r, b]\n",
    "@show space(a') # [r, b; l, t, p]\n",
    "\n",
    "Xl, vl = leftorth(a, ((1, 2, 5), (3, 4)))\n",
    "@show space(Xl)\n",
    "@show space(vl)\n",
    "nothing"
   ]
  },
  {
   "cell_type": "code",
   "execution_count": null,
   "metadata": {},
   "outputs": [],
   "source": [
    "pspace = Rep[ℤ₂×SU₂]((0, 0) => 2, (1, 1 // 2) => 1)\n",
    "# pspace = Rep[ℤ₂]((1 => 1), (0 => 2))\n",
    "aspacel = Rep[ℤ₂×SU₂]((0, 0) => 2, (1, 1 // 2) => 1)\n",
    "# aspacer = Rep[ℤ₂×SU₂]((0, 0) => 2, (0, 1) => 2)\n",
    "aspacer = aspacel\n",
    "aspacet = Rep[ℤ₂×SU₂]((0, 0) => 2, (1, 1 // 2) => 1)\n",
    "# aspaceb = Rep[ℤ₂×SU₂]((0, 0) => 2, (1, 3 // 2) => 2)\n",
    "aspaceb = aspacet\n",
    "\n",
    "# A = TensorMap(randn, ComplexF64, aspacel ⊗ aspacet ⊗ pspace, aspacer ⊗ aspaceb)\n",
    "# Ms = [A, A, A, A]\n",
    "# ipeps = iPEPS(Ms, 2, 2)\n",
    "# Abar = bar(A)\n",
    "# @show space(Abar)\n",
    "# gate1 = swap_gate(space(Abar)[4], space(Abar)[5])\n",
    "# @show space(gate1)\n",
    "# gate2 = swap_gate(space(Abar)[1], space(Abar)[2])\n",
    "# @show space(gate2)\n",
    "# gate3 = swap_gate(space(A)[4], space(A)[5])\n",
    "# @show space(gate3)\n",
    "# gate4 = swap_gate(space(A)[1], space(A)[2])\n",
    "# @show space(gate4)\n",
    "# gate5 = swap_gate(space(A)[1], space(Abar)[2])\n",
    "# @show space(gate5)\n",
    "@assert pspace isa ElementarySpace\n",
    "@show fieldnames(GradedSpace)"
   ]
  },
  {
   "cell_type": "code",
   "execution_count": null,
   "metadata": {},
   "outputs": [],
   "source": [
    "A = id(pspace)\n",
    "@show A\n",
    "@tensor x = A[a, a]\n",
    "@show x\n",
    "nothing"
   ]
  },
  {
   "cell_type": "code",
   "execution_count": null,
   "metadata": {},
   "outputs": [],
   "source": [
    "include(\"./simple_update_fSU2/Models.jl\")\n",
    "para = Dict{Symbol,Any}()\n",
    "para[:t] = 1.0\n",
    "para[:U] = 8\n",
    "para[:τlis] = [0.01, 0.03, 0.05, 0.1, 0.2, 0.3]\n",
    "para[:Dk] = 10  # Dkept in the simple udate\n",
    "\n",
    "pspace = GradedSpace{fSU₂}((0 => 2), (1 // 2 => 1))\n",
    "aspacelr = pspace\n",
    "aspacetb = pspace\n",
    "Lx = 2\n",
    "Ly = 2\n",
    "ipeps = iPEPSΓΛ(pspace, aspacelr, aspacetb, Lx, Ly; dtype=ComplexF64)\n",
    "\n",
    "τlis = para[:τlis]\n",
    "t = para[:t]\n",
    "U = para[:U]\n",
    "Dk = para[:Dk]\n",
    "Nit = length(τlis)\n",
    "hij = Hubbard_hij(t, U)\n",
    "τ = τlis[1]\n",
    "gateNN = exp(-τ * hij)\n",
    "\n",
    "@show space(ipeps[1, 1].Γ)\n",
    "@show space(ipeps[1, 1].l)\n",
    "@show space(ipeps[1, 1].t)\n",
    "@show space(ipeps[1, 1].r)\n",
    "@show space(ipeps[1, 1].b)\n",
    "nothing"
   ]
  },
  {
   "cell_type": "code",
   "execution_count": null,
   "metadata": {},
   "outputs": [],
   "source": [
    "pspace = GradedSpace{fSU₂}((0 => 2), (1 // 2 => 1))\n",
    "aspacel = GradedSpace{fSU₂}((0 => 2), (1 // 2 => 1))\n",
    "aspacer = aspacel\n",
    "aspacet = GradedSpace{fSU₂}((0 => 2), (1 // 2 => 1))\n",
    "aspaceb = aspacet\n",
    "\n",
    "Lx = 2\n",
    "Ly = 2\n",
    "Ms = Vector{TensorMap}(undef, Lx * Ly)\n",
    "for ii in 1:Lx*Ly\n",
    "    Ms[ii] = TensorMap(randn, ComplexF64, aspacel ⊗ aspacet ⊗ pspace, aspacer ⊗ aspaceb)\n",
    "    Ms[ii] = Ms[ii] / norm(Ms[ii])\n",
    "end\n",
    "@assert Ms[1] != Ms[2]\n",
    "ipeps = iPEPS(Ms, Lx, Ly)\n",
    "\n",
    "envs = iPEPSenv(ipeps)\n",
    "χ = 10\n",
    "Nit = 2\n",
    "nothing"
   ]
  },
  {
   "cell_type": "code",
   "execution_count": null,
   "metadata": {},
   "outputs": [],
   "source": [
    "@show numind(envs[1, 1].transfer.l)\n",
    "@show numind(envs[1, 2].transfer.l)\n",
    "envs[1, 1].transfer.l = id(pspace)\n",
    "@show numind(envs[1, 1].transfer.l)\n",
    "@show numind(envs[1, 1].transfer.r)\n",
    "@show numind(envs[1, 1].transfer.t)\n",
    "@show numind(envs[1, 1].transfer.b)\n",
    "@show numind(envs[1, 2].transfer.l)\n",
    "@assert envs[1, 1].corner.lt != envs[1, 2].corner.lt"
   ]
  }
 ],
 "metadata": {
  "kernelspec": {
   "display_name": "Julia 1.10.2",
   "language": "julia",
   "name": "julia-1.10"
  },
  "language_info": {
   "file_extension": ".jl",
   "mimetype": "application/julia",
   "name": "julia",
   "version": "1.10.2"
  }
 },
 "nbformat": 4,
 "nbformat_minor": 2
}
