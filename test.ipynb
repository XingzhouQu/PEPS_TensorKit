{
 "cells": [
  {
   "cell_type": "code",
   "execution_count": null,
   "metadata": {},
   "outputs": [],
   "source": [
    "using TensorOperations, TensorKit\n",
    "import TensorKit.×\n",
    "using FLoops\n",
    "include(\"./iPEPS_Fermionic/iPEPS.jl\")\n",
    "include(\"./CTMRG_Fermionic/CTMRG.jl\")\n",
    "include(\"./Cal_Obs_Fermionic/Cal_Obs.jl\")\n",
    "include(\"./models/Hubbard_Z2SU2.jl\")\n",
    "# include(\"./models/tJ_Z2.jl\")\n",
    "@show pkgversion(TensorKit)\n",
    "using JLD2, HDF5\n",
    "using Strided\n",
    "Strided.enable_threads()"
   ]
  },
  {
   "cell_type": "code",
   "execution_count": null,
   "metadata": {},
   "outputs": [],
   "source": [
    "para = Dict{Symbol,Any}()\n",
    "para[:t] = 1.0\n",
    "para[:U] = 8.0\n",
    "para[:μ] = 4.0\n",
    "para[:pspace] = Rep[ℤ₂×SU₂]((0, 0) => 2, (1, 1 // 2) => 1)\n",
    "Hij = get_op_Hubbard(\"hij\", para)\n",
    "@show Hij\n",
    "\n",
    "Hijp = permute(Hij, ((2, 1), (4, 3)))\n",
    "@show Hijp\n",
    "@assert Hij == Hijp\n",
    "nothing"
   ]
  },
  {
   "cell_type": "code",
   "execution_count": null,
   "metadata": {},
   "outputs": [],
   "source": [
    "pspace = Rep[ℤ₂×SU₂]((0, 0) => 2, (1, 1 // 2) => 1)\n",
    "# pspace = Rep[ℤ₂]((1 => 1), (0 => 2))\n",
    "aspacel = Rep[ℤ₂×SU₂]((0, 0) => 2, (1, 1 // 2) => 1)\n",
    "# aspacer = Rep[ℤ₂×SU₂]((0, 0) => 2, (0, 1) => 2)\n",
    "aspacer = aspacel\n",
    "aspacet = Rep[ℤ₂×SU₂]((0, 0) => 2, (1, 1 // 2) => 1)\n",
    "# aspaceb = Rep[ℤ₂×SU₂]((0, 0) => 2, (1, 3 // 2) => 2)\n",
    "aspaceb = aspacet\n",
    "\n",
    "# A = TensorMap(randn, ComplexF64, aspacel ⊗ aspacet ⊗ pspace, aspacer ⊗ aspaceb)\n",
    "# Ms = [A, A, A, A]\n",
    "# ipeps = iPEPS(Ms, 2, 2)\n",
    "# Abar = bar(A)\n",
    "# @show space(Abar)\n",
    "# gate1 = swap_gate(space(Abar)[4], space(Abar)[5])\n",
    "# @show space(gate1)\n",
    "# gate2 = swap_gate(space(Abar)[1], space(Abar)[2])\n",
    "# @show space(gate2)\n",
    "# gate3 = swap_gate(space(A)[4], space(A)[5])\n",
    "# @show space(gate3)\n",
    "# gate4 = swap_gate(space(A)[1], space(A)[2])\n",
    "# @show space(gate4)\n",
    "# gate5 = swap_gate(space(A)[1], space(Abar)[2])\n",
    "# @show space(gate5)\n",
    "@assert pspace isa ElementarySpace\n",
    "@show fieldnames(GradedSpace)"
   ]
  },
  {
   "cell_type": "code",
   "execution_count": null,
   "metadata": {},
   "outputs": [],
   "source": [
    "include(\"./iPEPS_Fermionic/iPEPS.jl\")\n",
    "include(\"./CTMRG_Fermionic/CTMRG.jl\")\n",
    "include(\"./models/tJ_Z2.jl\")\n",
    "include(\"./simple_update_Fermionic/simple_update.jl\")\n",
    "include(\"./fast_full_update_Fermionic/fast_full_update.jl\")\n",
    "include(\"./Cal_Obs_Fermionic/Cal_Obs.jl\")\n",
    "\n",
    "ipeps, envs, para = load(\"/home/tcmp2/JuliaProjects/tJZ2_Lx2Ly2_SU_t3.0t'0.51J1.0J'0.0289h0.6mu5.2_ipepsEnv_D6chi140.jld2\", \"ipeps\", \"envs\", \"para\")\n",
    "Lx = ipeps.Lx\n",
    "Ly = ipeps.Ly\n",
    "@show para[:χ]\n",
    "ipepsbar = bar(ipeps)\n",
    "\n",
    "Obs2si = Cal_Obs_2site(ipeps, ipepsbar, envs, [\"Δₛ\", \"Δₛdag\"], para; site1=[1, 1], site2=[0, 2], get_op=get_op_tJ)\n",
    "\n",
    "nothing"
   ]
  },
  {
   "cell_type": "code",
   "execution_count": null,
   "metadata": {},
   "outputs": [],
   "source": [
    "ipeps, envs, para = load(\"/home/tcmp2/JuliaProjects/tJZ2_Lx2Ly2_SU_t3.0t'0.51J1.0J'0.0289h0.6mu5.2_ipepsEnv_D6chi140.jld2\", \"ipeps\", \"envs\", \"para\")\n"
   ]
  },
  {
   "cell_type": "code",
   "execution_count": 1,
   "metadata": {},
   "outputs": [
    {
     "name": "stderr",
     "output_type": "stream",
     "text": [
      "WARNING: using LinearAlgebra.× in module Main conflicts with an existing identifier.\n"
     ]
    },
    {
     "data": {
      "text/plain": [
       "update_env_bottom_2by2! (generic function with 1 method)"
      ]
     },
     "metadata": {},
     "output_type": "display_data"
    }
   ],
   "source": [
    "using TensorKit\n",
    "using Zygote\n",
    "using ChainRulesCore\n",
    "import TensorKit.×\n",
    "using FLoops\n",
    "import Zygote.Buffer\n",
    "include(\"./iPEPS_Fermionic/iPEPS.jl\")\n",
    "include(\"./CTMRG_Fermionic/CTMRG.jl\")"
   ]
  },
  {
   "cell_type": "code",
   "execution_count": 5,
   "metadata": {},
   "outputs": [],
   "source": [
    "function f(A::TensorMap, B::TensorMap)\n",
    "    # _, R = leftorth(A, ((1,), (2,)))\n",
    "    # U, S, Vdag, ϵ = tsvd(A, ((1,), (2,)); trunc=notrunc(), alg=TensorKit.SVD())\n",
    "    @tensor Ap = A[a, c] * B[c, a]\n",
    "    return Ap\n",
    "end\n",
    "\n",
    "# 可以忽略某些参数的导数\n",
    "function g(A::TensorMap, B::TensorMap)\n",
    "    B = ChainRulesCore.ignore_derivatives(B)   # 不计算B的导数！！！！\n",
    "    # _, R = leftorth(A, ((1,), (2,)))\n",
    "    U, S, Vdag, ϵ = tsvd(A, ((1,), (2,)); trunc=notrunc(), alg=TensorKit.SVD())\n",
    "    # @tensor Ap[a, b] := A[a, c] * A[c, b]\n",
    "    return @tensor C = Vdag[a, c] * B[c, a]\n",
    "end\n",
    "\n",
    "# function Zygote.Buffer(envs::iPEPSenv)\n",
    "#     Zygote.Buffer(envs.Envs)\n",
    "#    return \n",
    "# end\n",
    "\n",
    "pspace = Rep[ℤ₂×SU₂]((0, 0) => 2, (1, 1 // 2) => 1)\n",
    "# pspace = Rep[ℤ₂]((1 => 1), (0 => 2))\n",
    "aspacel = Rep[ℤ₂×SU₂]((0, 0) => 2, (1, 1 // 2) => 1)\n",
    "# aspacer = Rep[ℤ₂×SU₂]((0, 0) => 2, (0, 1) => 2)\n",
    "aspacer = aspacel\n",
    "aspacet = Rep[ℤ₂×SU₂]((0, 0) => 2, (1, 1 // 2) => 1)\n",
    "# aspaceb = Rep[ℤ₂×SU₂]((0, 0) => 2, (1, 3 // 2) => 2)\n",
    "aspaceb = aspacet\n",
    "\n",
    "# A = TensorMap(randn, Float64, aspacel ⊗ aspacet ⊗ pspace, aspacer ⊗ aspaceb)\n",
    "# Ms = [A, A, A, A]\n",
    "# ipeps = iPEPS(Ms, 2, 2)\n",
    "# ipepsbar = bar(ipeps)\n",
    "# envs = iPEPSenv(ipeps)\n",
    "\n",
    "# CTMRG!(ipeps, ipepsbar, envs, para[:χ], para[:CTMit]; parallel=para[:CTMparallel])\n",
    "nothing"
   ]
  },
  {
   "cell_type": "code",
   "execution_count": 14,
   "metadata": {},
   "outputs": [
    {
     "name": "stdout",
     "output_type": "stream",
     "text": [
      "grd[1] = TensorMap(Rep[ℤ₂ × SU₂]((0, 0)=>2, (1, 1/2)=>1) ← Rep[ℤ₂ × SU₂]((0, 0)=>2, (1, 1/2)=>1)):\n",
      "* Data for fusiontree FusionTree{Irrep[ℤ₂ × SU₂]}(((0, 0),), (0, 0), (false,), ()) ← FusionTree{Irrep[ℤ₂ × SU₂]}(((0, 0),), (0, 0), (false,), ()):\n",
      " -1.1116375755619918  0.2436931234689763\n",
      "  0.5651598623878251  0.5592176757890962\n",
      "* Data for fusiontree FusionTree{Irrep[ℤ₂ × SU₂]}(((1, 1/2),), (1, 1/2), (false,), ()) ← FusionTree{Irrep[ℤ₂ × SU₂]}(((1, 1/2),), (1, 1/2), (false,), ()):\n",
      " -0.1606076869685473\n",
      "\n",
      "A' = AdjointTensorMap(ProductSpace(Rep[ℤ₂ × SU₂]((0, 0)=>2, (1, 1/2)=>1)) ← ProductSpace(Rep[ℤ₂ × SU₂]((0, 0)=>2, (1, 1/2)=>1))):\n",
      "* Data for fusiontree FusionTree{Irrep[ℤ₂ × SU₂]}(((0, 0),), (0, 0), (false,), ()) ← FusionTree{Irrep[ℤ₂ × SU₂]}(((0, 0),), (0, 0), (false,), ()):\n",
      "  0.7384016263579051   -0.26009853774833913\n",
      " -0.17982617662131906  -0.7845586379616494\n",
      "* Data for fusiontree FusionTree{Irrep[ℤ₂ × SU₂]}(((1, 1/2),), (1, 1/2), (false,), ()) ← FusionTree{Irrep[ℤ₂ × SU₂]}(((1, 1/2),), (1, 1/2), (false,), ()):\n",
      " -1.8882656771302864\n",
      "\n",
      "transpose(B) = TensorMap(Rep[ℤ₂ × SU₂]((0, 0)=>2, (1, 1/2)=>1)' ← Rep[ℤ₂ × SU₂]((0, 0)=>2, (1, 1/2)=>1)'):\n",
      "* Data for fusiontree FusionTree{Irrep[ℤ₂ × SU₂]}(((0, 0),), (0, 0), (true,), ()) ← FusionTree{Irrep[ℤ₂ × SU₂]}(((0, 0),), (0, 0), (true,), ()):\n",
      " -1.1116375755619918  0.2436931234689763\n",
      "  0.5651598623878251  0.5592176757890962\n",
      "* Data for fusiontree FusionTree{Irrep[ℤ₂ × SU₂]}(((1, 1/2),), (1, 1/2), (true,), ()) ← FusionTree{Irrep[ℤ₂ × SU₂]}(((1, 1/2),), (1, 1/2), (true,), ()):\n",
      " -0.16060768696854724\n",
      "\n"
     ]
    },
    {
     "ename": "AssertionError",
     "evalue": "AssertionError: grd[1] == transpose(B)",
     "output_type": "error",
     "traceback": [
      "AssertionError: grd[1] == transpose(B)\n",
      "\n",
      "Stacktrace:\n",
      " [1] top-level scope\n",
      "   @ d:\\Julia\\Julia_projects\\PEPS_TensorKit\\test.ipynb:9"
     ]
    }
   ],
   "source": [
    "A = TensorMap(randn, Float64, pspace, pspace)\n",
    "B = TensorMap(randn, Float64, pspace, pspace)\n",
    "grd = gradient((a, b) -> f(a, b), A, B)\n",
    "@show grd[1]\n",
    "\n",
    "@show A'\n",
    "@show transpose(B)\n",
    "\n",
    "@assert grd[1] == transpose(B)\n",
    "@assert grd[2] == transpose(A)"
   ]
  },
  {
   "cell_type": "code",
   "execution_count": null,
   "metadata": {},
   "outputs": [],
   "source": [
    "pspace = Rep[ℤ₂×SU₂]((0, 0) => 2, (1, 1 // 2) => 1)\n",
    "# pspace = Rep[ℤ₂×U₁]((0, 0) => 2, (1, 1) => 1)\n",
    "# pspace = ℝ^3\n",
    "A = TensorMap(randn, Float64, pspace, pspace)\n",
    "B = TensorMap(randn, Float64, pspace, pspace)\n",
    "\n",
    "# 内含 QR, SVD, 以及复杂矩阵乘的函数，无论 pspace 对称性如何，都可以直接求梯度\n",
    "grd = gradient((a, b) -> f(a, b), A, B)\n",
    "@show grd\n",
    "y, back = pullback((a, b) -> f(a, b), A, B)  # pullback 可以返回函数值和带系数的梯度生成器\n",
    "@show y\n",
    "@assert back(1.0) == grd\n",
    "@assert back(2.0) == 2.0 .* grd\n",
    "\n",
    "grd2 = gradient((a, b) -> g(a, b), A, B)\n",
    "@show grd2\n",
    "@assert grd[1] == grd2[1]\n",
    "nothing"
   ]
  },
  {
   "cell_type": "code",
   "execution_count": null,
   "metadata": {},
   "outputs": [],
   "source": [
    "struct test\n",
    "    Lx::Int\n",
    "    Ly::Int\n",
    "    tensors::Vector{TensorMap}\n",
    "    function test(lx::Int, ly::Int, tensors::Vector)\n",
    "        return new(lx, ly, tensors)\n",
    "    end\n",
    "end"
   ]
  },
  {
   "cell_type": "code",
   "execution_count": null,
   "metadata": {},
   "outputs": [],
   "source": [
    "function updateTest!(a::test)\n",
    "    x = a.tensors[1]\n",
    "    y = a.tensors[2]\n",
    "    a.tensors[1] = x + y\n",
    "    a.tensors[2] = x + 2* y\n",
    "    return a.tensors\n",
    "end"
   ]
  },
  {
   "cell_type": "code",
   "execution_count": null,
   "metadata": {},
   "outputs": [],
   "source": [
    "# grd = gradient((a, b) -> iPEPScontract(a, b), ipeps, ipeps)\n",
    "grd = gradient(ipeps, ipeps) do a, b\n",
    "    b = ChainRulesCore.ignore_derivatives(b)   # 不计算B的导数,在匿名函数里面声明可以不改动底层函数代码\n",
    "    iPEPScontract(a, b)\n",
    "end\n",
    "@show typeof(grd)\n",
    "@show typeof(grd[1].Ms[1])\n",
    "@show grd[1].Lx\n",
    "@show grd[2]\n",
    "nothing"
   ]
  },
  {
   "cell_type": "code",
   "execution_count": null,
   "metadata": {},
   "outputs": [],
   "source": [
    "tst = test(2, 2, [A, A])\n",
    "_, back = pullback(tst) do a\n",
    "    updateTest!(a)\n",
    "end\n",
    "@show back([A, A])\n",
    "nothing"
   ]
  },
  {
   "cell_type": "code",
   "execution_count": null,
   "metadata": {},
   "outputs": [],
   "source": [
    "using Zygote\n",
    "import Zygote.Buffer\n",
    "\n",
    "# Define your struct\n",
    "struct iPEPSenv\n",
    "    field1::Union{Matrix,Buffer}\n",
    "    field2::Union{Matrix,Buffer}\n",
    "    # Add more fields as necessary\n",
    "end\n",
    "\n",
    "# Function to convert fields of iPEPSenv to Zygote.Buffer\n",
    "function Zygote.Buffer(env::iPEPSenv)\n",
    "    buffers = iPEPSenv(\n",
    "        Zygote.Buffer(env.field1),  # Convert each AbstractArray field to a Buffer\n",
    "        Zygote.Buffer(env.field2)   # Do this for all AbstractArray fields\n",
    "        # Add more fields as necessary\n",
    "    )\n",
    "    return buffers\n",
    "end\n",
    "\n",
    "# Example usage\n",
    "env = iPEPSenv(rand(3, 3), rand(4, 4))  # Example struct initialization\n",
    "buffered_env = Zygote.Buffer(env)  # Convert to Zygote.Buffer\n",
    "\n",
    "println(buffered_env)  # Check the result\n"
   ]
  },
  {
   "cell_type": "code",
   "execution_count": null,
   "metadata": {},
   "outputs": [],
   "source": [
    "using OptimKit\n",
    "using Zygote\n",
    "\n",
    "# Define the objective function\n",
    "function objective(x)\n",
    "    return (x[1] - 1)^2 + (x[2] - 2)^2, Zygote.gradient(objective, x)[1]\n",
    "end\n",
    "\n",
    "# Initialize the starting point\n",
    "x0 = [0.0, 0.0]\n",
    "\n",
    "# Create an L-BFGS optimizer\n",
    "optimizer = LBFGS(2)\n",
    "\n",
    "# Run the optimization\n",
    "result = OptimKit.optimize(objective, x0, optimizer)\n",
    "\n",
    "# Display the result\n",
    "@show result\n"
   ]
  }
 ],
 "metadata": {
  "kernelspec": {
   "display_name": "Julia 1.9.2",
   "language": "julia",
   "name": "julia-1.9"
  },
  "language_info": {
   "file_extension": ".jl",
   "mimetype": "application/julia",
   "name": "julia",
   "version": "1.9.2"
  }
 },
 "nbformat": 4,
 "nbformat_minor": 2
}
