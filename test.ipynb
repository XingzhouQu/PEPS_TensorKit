{
 "cells": [
  {
   "cell_type": "code",
   "execution_count": 1,
   "metadata": {},
   "outputs": [
    {
     "name": "stdout",
     "output_type": "stream",
     "text": [
      "pkgversion(TensorKit) = v\"0.12.3\"\n"
     ]
    },
    {
     "name": "stderr",
     "output_type": "stream",
     "text": [
      "WARNING: using LinearAlgebra.× in module Main conflicts with an existing identifier.\n"
     ]
    }
   ],
   "source": [
    "using TensorKit\n",
    "import TensorKit.×\n",
    "include(\"./iPEPS_fSU2/iPEPS.jl\")\n",
    "include(\"./CTMRG_fSU2/CTMRG.jl\")\n",
    "@show pkgversion(TensorKit)\n",
    "using JLD2"
   ]
  },
  {
   "cell_type": "code",
   "execution_count": null,
   "metadata": {},
   "outputs": [],
   "source": []
  },
  {
   "cell_type": "code",
   "execution_count": 2,
   "metadata": {},
   "outputs": [
    {
     "name": "stdout",
     "output_type": "stream",
     "text": [
      "pspace = Vect[FermionSpin]((0, 0)=>2, (1/2, 1)=>1)\n"
     ]
    }
   ],
   "source": [
    "# pspace = GradedSpace{fSU₂}((-1, 0) => 1, (0, 1 // 2) => 1, (1, 0) => 1)\n",
    "pspace = GradedSpace{fSU₂}((0 => 2), (1//2 => 1))\n",
    "aspacel = GradedSpace{fSU₂}((0 => 1), (1//2 => 1))\n",
    "aspacet = GradedSpace{fSU₂}((0 => 1), (1//2 => 2))\n",
    "aspacer = GradedSpace{fSU₂}((0 => 2), (1//2 => 2))\n",
    "aspaceb = GradedSpace{fSU₂}((0 => 1), (1//2 => 1), (1 => 1))\n",
    "# aspacel = aspacer = aspacet = aspaceb = pspace\n",
    "@show pspace\n",
    "nothing"
   ]
  },
  {
   "cell_type": "code",
   "execution_count": null,
   "metadata": {},
   "outputs": [],
   "source": [
    "a = id(pspace)\n",
    "@tensor contractcheck=true b[] := a[x, in] * a[in, x]\n",
    "@show scalar(b)\n",
    "\n",
    "@show maximum(convert(Array, a))\n",
    "@show minimum(convert(Array, a))\n",
    "@show one(eltype(a))\n",
    "@show one(mapreduce(eltype, promote_type, storagetype.(a)))\n",
    "nothing"
   ]
  },
  {
   "cell_type": "code",
   "execution_count": 38,
   "metadata": {},
   "outputs": [
    {
     "name": "stdout",
     "output_type": "stream",
     "text": [
      "scalartype(t1) = ComplexF64\n",
      "space(D) = Vect[FermionSpin]((0, 0)=>5, (1, 0)=>1, (1/2, 1)=>4) ← Vect[FermionSpin]((0, 0)=>5, (1, 0)=>1, (1/2, 1)=>4)\n",
      "space(V) = (Vect[FermionSpin]((0, 0)=>2, (1/2, 1)=>1) ⊗ Vect[FermionSpin]((0, 0)=>2, (1/2, 1)=>1)) ← Vect[FermionSpin]((0, 0)=>5, (1, 0)=>1, (1/2, 1)=>4)\n",
      "scalartype(D) = Float64\n",
      "scalartype(V) = ComplexF64\n"
     ]
    },
    {
     "ename": "AssertionError",
     "evalue": "AssertionError: permute(t1, ((1, 2), (3, 4))) * V ≈ V * D",
     "output_type": "error",
     "traceback": [
      "AssertionError: permute(t1, ((1, 2), (3, 4))) * V ≈ V * D\n",
      "\n",
      "Stacktrace:\n",
      " [1] top-level scope\n",
      "   @ ~/JuliaProjects/PEPS_TensorKit/test.ipynb:10"
     ]
    }
   ],
   "source": [
    "t1 = TensorMap(randn, ComplexF64, pspace ⊗ pspace, pspace ⊗ pspace)\n",
    "# t1 = TensorMap(randn, Float64, ℂ^2 ⊗ ℂ^2, ℂ^2 ⊗ ℂ^2)\n",
    "\n",
    "@show scalartype(t1)\n",
    "D, V = eig(t1, ((1, 2), (3, 4)))\n",
    "@show space(D)\n",
    "@show space(V)\n",
    "@show scalartype(D)\n",
    "@show scalartype(V)\n",
    "@assert permute(t1, ((1, 2), (3, 4))) * V ≈ V * D\n",
    "@assert permute(t1, ((1, 2), (3, 4))) * V ≈ D\n",
    "@show D\n",
    "@show V' * permute(t1, ((1, 2), (3, 4))) * V\n",
    "\n",
    "\n",
    "@assert V * V' == id(pspace ⊗ pspace)\n",
    "@tensor contractcheck=true t1p[a, b; e, f] := V[a, b, c] * D[c, d] * V'[d, e, f]\n",
    "@show norm(t1 - t1p)\n",
    "@assert t1 ≈ t1p"
   ]
  },
  {
   "cell_type": "code",
   "execution_count": null,
   "metadata": {},
   "outputs": [],
   "source": [
    "a = TensorMap(randn, ComplexF64, aspacel ⊗ aspacet ⊗ pspace, aspacer ⊗ aspaceb)\n",
    "@show space(a)  # [l, t, p; r, b]\n",
    "@show space(a') # [r, b; l, t, p]\n",
    "\n",
    "permute!(a, a, ((1,2), (3,4,5)))\n",
    "@show space(a)\n",
    "nothing"
   ]
  },
  {
   "cell_type": "code",
   "execution_count": null,
   "metadata": {},
   "outputs": [],
   "source": [
    "pspace = Rep[ℤ₂×SU₂]((0, 0) => 2, (1, 1 // 2) => 1)\n",
    "# pspace = Rep[ℤ₂]((1 => 1), (0 => 2))\n",
    "aspacel = Rep[ℤ₂×SU₂]((0, 0) => 2, (1, 1 // 2) => 1)\n",
    "# aspacer = Rep[ℤ₂×SU₂]((0, 0) => 2, (0, 1) => 2)\n",
    "aspacer = aspacel\n",
    "aspacet = Rep[ℤ₂×SU₂]((0, 0) => 2, (1, 1 // 2) => 1)\n",
    "# aspaceb = Rep[ℤ₂×SU₂]((0, 0) => 2, (1, 3 // 2) => 2)\n",
    "aspaceb = aspacet\n",
    "\n",
    "# A = TensorMap(randn, ComplexF64, aspacel ⊗ aspacet ⊗ pspace, aspacer ⊗ aspaceb)\n",
    "# Ms = [A, A, A, A]\n",
    "# ipeps = iPEPS(Ms, 2, 2)\n",
    "# Abar = bar(A)\n",
    "# @show space(Abar)\n",
    "# gate1 = swap_gate(space(Abar)[4], space(Abar)[5])\n",
    "# @show space(gate1)\n",
    "# gate2 = swap_gate(space(Abar)[1], space(Abar)[2])\n",
    "# @show space(gate2)\n",
    "# gate3 = swap_gate(space(A)[4], space(A)[5])\n",
    "# @show space(gate3)\n",
    "# gate4 = swap_gate(space(A)[1], space(A)[2])\n",
    "# @show space(gate4)\n",
    "# gate5 = swap_gate(space(A)[1], space(Abar)[2])\n",
    "# @show space(gate5)\n",
    "@assert pspace isa ElementarySpace\n",
    "@show fieldnames(GradedSpace)"
   ]
  },
  {
   "cell_type": "code",
   "execution_count": null,
   "metadata": {},
   "outputs": [],
   "source": [
    "pspace = GradedSpace{fSU₂}((0 => 2), (1 // 2 => 1))\n",
    "aspacel = GradedSpace{fSU₂}((0 => 2), (1 // 2 => 1))\n",
    "aspacer = aspacel\n",
    "aspacet = GradedSpace{fSU₂}((0 => 2), (1 // 2 => 1))\n",
    "aspaceb = aspacet\n",
    "\n",
    "Lx = 2\n",
    "Ly = 2\n",
    "Ms = Vector{TensorMap}(undef, Lx * Ly)\n",
    "for ii in 1:Lx*Ly\n",
    "    Ms[ii] = TensorMap(randn, ComplexF64, aspacel ⊗ aspacet ⊗ pspace, aspacer ⊗ aspaceb)\n",
    "    Ms[ii] = Ms[ii] / norm(Ms[ii])\n",
    "end\n",
    "@assert Ms[1] != Ms[2]\n",
    "ipeps = iPEPS(Ms, Lx, Ly)\n",
    "\n",
    "envs = iPEPSenv(ipeps)\n",
    "χ = 10\n",
    "Nit = 2\n",
    "nothing"
   ]
  },
  {
   "cell_type": "code",
   "execution_count": null,
   "metadata": {},
   "outputs": [],
   "source": [
    "save(\"/home/tcmp2/JuliaProjects/testSave.jld2\", \"ipeps\", ipeps, \"envs\", envs)"
   ]
  },
  {
   "cell_type": "code",
   "execution_count": null,
   "metadata": {},
   "outputs": [],
   "source": [
    "ipeps, envs = load(\"/home/tcmp2/JuliaProjects/testSave.jld2\", \"ipeps\", \"envs\")\n",
    "@show ipeps.Lx\n",
    "@show envs.Ly\n",
    "nothing"
   ]
  },
  {
   "cell_type": "code",
   "execution_count": 1,
   "metadata": {},
   "outputs": [
    {
     "data": {
      "text/plain": [
       "_2siteObs_diagSite (generic function with 1 method)"
      ]
     },
     "metadata": {},
     "output_type": "display_data"
    }
   ],
   "source": [
    "using TensorKit\n",
    "include(\"./iPEPS_fSU2/iPEPS.jl\")\n",
    "include(\"./CTMRG_fSU2/CTMRG.jl\")\n",
    "include(\"./models/Heisenberg_U1.jl\")\n",
    "include(\"./simple_update_fSU2/simple_update.jl\")\n",
    "include(\"./Cal_Obs_fSU2/Cal_Obs.jl\")"
   ]
  },
  {
   "cell_type": "code",
   "execution_count": 2,
   "metadata": {},
   "outputs": [
    {
     "name": "stdout",
     "output_type": "stream",
     "text": [
      "Calculating [\"hijNNN\", \"SzSz\", \"SpSm\"] at site [1, 1] and site [2, 2]\n",
      "Calculating [\"hijNNN\", \"SzSz\", \"SpSm\"] at site [1, 2] and site [2, 1]\n"
     ]
    },
    {
     "data": {
      "text/plain": [
       "Dict{String, Float64} with 3 entries:\n",
       "  \"hijNNN\" => -0.125789\n",
       "  \"SzSz\"   => -0.249729\n",
       "  \"SpSm\"   => -0.00184846"
      ]
     },
     "metadata": {},
     "output_type": "display_data"
    }
   ],
   "source": [
    "ipeps, envs, para = load(\"/home/tcmp2/JuliaProjects/testDiagObs.jld2\", \"ipeps\", \"envs\", \"para\")\n",
    "Obsdiag1 = Cal_Obs_2site(ipeps, envs, [\"hijNNN\", \"SzSz\", \"SpSm\"], para; site1=[1, 1], site2=[2, 2], get_op=get_op_Heisenberg)\n",
    "Obsdiag1 = Cal_Obs_2site(ipeps, envs, [\"hijNNN\", \"SzSz\", \"SpSm\"], para; site1=[1, 2], site2=[2, 1], get_op=get_op_Heisenberg)"
   ]
  }
 ],
 "metadata": {
  "kernelspec": {
   "display_name": "Julia 1.10.2",
   "language": "julia",
   "name": "julia-1.10"
  },
  "language_info": {
   "file_extension": ".jl",
   "mimetype": "application/julia",
   "name": "julia",
   "version": "1.10.2"
  }
 },
 "nbformat": 4,
 "nbformat_minor": 2
}
