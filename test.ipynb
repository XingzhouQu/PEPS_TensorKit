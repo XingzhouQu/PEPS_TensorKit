{
 "cells": [
  {
   "cell_type": "code",
   "execution_count": 1,
   "metadata": {},
   "outputs": [
    {
     "name": "stdout",
     "output_type": "stream",
     "text": [
      "pkgversion(TensorKit) = v\"0.12.2\"\n"
     ]
    },
    {
     "name": "stderr",
     "output_type": "stream",
     "text": [
      "WARNING: using LinearAlgebra.× in module Main conflicts with an existing identifier.\n"
     ]
    },
    {
     "data": {
      "text/plain": [
       "4"
      ]
     },
     "metadata": {},
     "output_type": "display_data"
    }
   ],
   "source": [
    "using TensorKit\n",
    "import TensorKit.×\n",
    "include(\"./iPEPS_Fermionic/iPEPS.jl\")\n",
    "include(\"./CTMRG_Fermionic/CTMRG.jl\")\n",
    "include(\"./Cal_Obs_Fermionic/Cal_Obs.jl\")\n",
    "# include(\"./models/Hubbard_Z2SU2.jl\")\n",
    "# include(\"./models/tJ_Z2.jl\")\n",
    "@show pkgversion(TensorKit)\n",
    "using JLD2\n",
    "using Strided\n",
    "Strided.enable_threads()"
   ]
  },
  {
   "cell_type": "code",
   "execution_count": null,
   "metadata": {},
   "outputs": [],
   "source": [
    "# pspace = GradedSpace{fSU₂}((-1, 0) => 1, (0, 1 // 2) => 1, (1, 0) => 1)\n",
    "pspace = Rep[U₁×SU₂]((-1, 0) => 1, (0, 1 // 2) => 1, (1, 0) => 1)\n",
    "aspace = Rep[U₁×SU₂]((2, 0) => 2)\n",
    "\n",
    "# aspacel = aspacer = aspacet = aspaceb = pspace\n",
    "@show pspace\n",
    "nothing"
   ]
  },
  {
   "cell_type": "code",
   "execution_count": null,
   "metadata": {},
   "outputs": [],
   "source": [
    "pspace = Rep[ℤ₂×SU₂]((0, 0) => 2, (1, 1 // 2) => 1)\n",
    "# pspace = Rep[ℤ₂]((1 => 1), (0 => 2))\n",
    "aspacel = Rep[ℤ₂×SU₂]((0, 0) => 2, (1, 1 // 2) => 1)\n",
    "# aspacer = Rep[ℤ₂×SU₂]((0, 0) => 2, (0, 1) => 2)\n",
    "aspacer = aspacel\n",
    "aspacet = Rep[ℤ₂×SU₂]((0, 0) => 2, (1, 1 // 2) => 1)\n",
    "# aspaceb = Rep[ℤ₂×SU₂]((0, 0) => 2, (1, 3 // 2) => 2)\n",
    "aspaceb = aspacet\n",
    "\n",
    "# A = TensorMap(randn, ComplexF64, aspacel ⊗ aspacet ⊗ pspace, aspacer ⊗ aspaceb)\n",
    "# Ms = [A, A, A, A]\n",
    "# ipeps = iPEPS(Ms, 2, 2)\n",
    "# Abar = bar(A)\n",
    "# @show space(Abar)\n",
    "# gate1 = swap_gate(space(Abar)[4], space(Abar)[5])\n",
    "# @show space(gate1)\n",
    "# gate2 = swap_gate(space(Abar)[1], space(Abar)[2])\n",
    "# @show space(gate2)\n",
    "# gate3 = swap_gate(space(A)[4], space(A)[5])\n",
    "# @show space(gate3)\n",
    "# gate4 = swap_gate(space(A)[1], space(A)[2])\n",
    "# @show space(gate4)\n",
    "# gate5 = swap_gate(space(A)[1], space(Abar)[2])\n",
    "# @show space(gate5)\n",
    "@assert pspace isa ElementarySpace\n",
    "@show fieldnames(GradedSpace)"
   ]
  },
  {
   "cell_type": "code",
   "execution_count": null,
   "metadata": {},
   "outputs": [],
   "source": [
    "ipeps, envs, para = load(\"/home/tcmp2/JuliaProjects/Hubbard_t1.0U8.0mu4.0_ipepsEnv_D10chi200.jld2\", \"ipeps\", \"envs\", \"para\")\n",
    "Lx = ipeps.Lx\n",
    "Ly = ipeps.Ly\n",
    "@show para[:χ]\n",
    "ipepsbar = bar(ipeps)\n",
    "nothing"
   ]
  },
  {
   "cell_type": "code",
   "execution_count": 3,
   "metadata": {},
   "outputs": [
    {
     "name": "stdout",
     "output_type": "stream",
     "text": [
      "Fdag₊ = TensorMap(Rep[ℤ₂](0=>1, 1=>2) ← (Rep[ℤ₂](0=>1, 1=>2) ⊗ Rep[ℤ₂](1=>1))):\n",
      "* Data for sector (Irrep[ℤ₂](0),) ← (Irrep[ℤ₂](1), Irrep[ℤ₂](1)):\n",
      "[:, :, 1] =\n",
      " 0.0  0.0\n",
      "* Data for sector (Irrep[ℤ₂](1),) ← (Irrep[ℤ₂](0), Irrep[ℤ₂](1)):\n",
      "[:, :, 1] =\n",
      " 1.0\n",
      " 0.0\n",
      "\n",
      "Fdag₋ = TensorMap(Rep[ℤ₂](0=>1, 1=>2) ← (Rep[ℤ₂](0=>1, 1=>2) ⊗ Rep[ℤ₂](1=>1))):\n",
      "* Data for sector (Irrep[ℤ₂](0),) ← (Irrep[ℤ₂](1), Irrep[ℤ₂](1)):\n",
      "[:, :, 1] =\n",
      " 0.0  0.0\n",
      "* Data for sector (Irrep[ℤ₂](1),) ← (Irrep[ℤ₂](0), Irrep[ℤ₂](1)):\n",
      "[:, :, 1] =\n",
      "  0.0\n",
      " -1.0\n",
      "\n",
      "ishermitian(((fdagf₊ - ffdag₊) + fdagf₋) - ffdag₋) = false\n"
     ]
    },
    {
     "data": {
      "text/plain": [
       "false"
      ]
     },
     "metadata": {},
     "output_type": "display_data"
    }
   ],
   "source": [
    "pspace = Rep[ℤ₂](0 => 1, 1 => 2)\n",
    "include(\"./models/tJ_Z2.jl\")\n",
    "OpZ = Z(pspace)\n",
    "\n",
    "Fdag₊, F₊ = FdagF₊(pspace)\n",
    "@tensor fdagf₊[p1, p3; p2, p4] := OpZ[p1, p1in] * Fdag₊[p1in, p2, a] * F₊[a, p3, p4]\n",
    "@show Fdag₊\n",
    "Fdag₋, F₋ = FdagF₋(pspace)\n",
    "@show Fdag₋\n",
    "@tensor fdagf₋[p1, p3; p2, p4] := OpZ[p1, p1in] * Fdag₋[p1in, p2, a] * F₋[a, p3, p4]\n",
    "\n",
    "F₊, Fdag₊ = FFdag₊(pspace)\n",
    "@tensor ffdag₊[p1, p3; p2, p4] := OpZ[p1, p1in] * F₊[p1in, p2, a] * Fdag₊[a, p3, p4]\n",
    "F₋, Fdag₋ = FFdag₋(pspace)\n",
    "@tensor ffdag₋[p1, p3; p2, p4] := OpZ[p1, p1in] * F₋[p1in, p2, a] * Fdag₋[a, p3, p4]\n",
    "\n",
    "@show ishermitian(fdagf₊ - ffdag₊ + fdagf₋ - ffdag₋)"
   ]
  },
  {
   "cell_type": "code",
   "execution_count": 3,
   "metadata": {},
   "outputs": [
    {
     "name": "stdout",
     "output_type": "stream",
     "text": [
      "ishermitian(fdagf - ffdag) = false\n"
     ]
    },
    {
     "data": {
      "text/plain": [
       "false"
      ]
     },
     "metadata": {},
     "output_type": "display_data"
    }
   ],
   "source": [
    "include(\"./models/Hubbard_Z2SU2.jl\")\n",
    "pspace = Rep[ℤ₂×SU₂]((0, 0) => 2, (1, 1 // 2) => 1)\n",
    "\n",
    "OpZ = Z(pspace)\n",
    "Opnd = nd(pspace)\n",
    "Opn = n(pspace)\n",
    "OpI = id(pspace)\n",
    "Fdag, F = FdagF(pspace)\n",
    "@tensor fdagf[p1, p3; p2, p4] := Fdag[p1in, p2, a] * F[a, p3, p4]\n",
    "# @tensor fdagf[p1, p3; p2, p4] := Fdag[p1, p2, a] * F[a, p3, p4]\n",
    "\n",
    "F, Fdag = FFdag(pspace)\n",
    "@tensor ffdag[p1, p3; p2, p4] := F[p1in, p2, a] * Fdag[a, p3, p4]\n",
    "\n",
    "@show ishermitian(fdagf - ffdag)"
   ]
  },
  {
   "cell_type": "code",
   "execution_count": 5,
   "metadata": {},
   "outputs": [
    {
     "name": "stdout",
     "output_type": "stream",
     "text": [
      "para = Dict{String, Any}(\"para\" => Dict{Symbol, Any}(:MPSDir => \"/public/home/users/ucas001c/xzqu/DMRG_mixDtJ/mixDtJMPSstorage/mixDtJLx64-Ly2-t3p0-tv0p0-Jv9p0_D1499\", :oldMPSDir => \"/public/home/users/ucas001c/xzqu/DMRG_mixDtJ/mixDtJMPSstorage/mixDtJLx64-Ly2-t3p0-tv0p0-Jv9p0_D1000\", :useexist => false, :lx => 64, :Jp => 1.0, :pbcy => false, :saveMPS => true, :RsltFldr => \"/public/home/users/ucas001c/xzqu/DMRG_mixDtJ/Rslt_mixDtJ/mixDtJLx64-Ly2-t3p0-tv0p0-Jv9p0_D1499\", :Jv => 9.0, :K => 5, :Geopath => \"zigzag\", :Dlist => [10, 10, 10, 30, 30, 60, 60, 100, 100, 100, 100, 100, 300, 300, 300, 500, 500, 500, 1000, 1000, 1499, 1499, 1499], :jobname => \"mixDtJLx64-Ly2-t3p0-tv0p0-Jv9p0_D1499\", :ncpu => 8, :ly => 2, :Ntot => 64, :pbcx => false, :tv => 0.0, :noise => [0.0, 0.0, 0.0, 0.0, 0.0, 0.0, 0.0, 0.0, 0.0, 0.0, 0.0, 0.0, 0.0, 0.0, 0.0, 0.0, 0.0, 0.0, 0.0, 0.0, 0.0, 0.0, 0.0], :Stot => 0, :mem => 30000, :symm => \"CASA\", :WDir => \"/public/home/users/ucas001c/xzqu/DMRG_mixDtJ/mixDtJstorage/juliatmp/mixDtJLx64-Ly2-t3p0-tv0p0-Jv9p0_D1499\", :DiskBond => 2500, :CalCorr => true, :checkpoint => Any[], :t => 3.0))\n"
     ]
    },
    {
     "data": {
      "text/plain": [
       "Dict{String, Any} with 1 entry:\n",
       "  \"para\" => Dict{Symbol, Any}(:MPSDir=>\"/public/home/users/ucas001c/xzqu/DMRG_m…"
      ]
     },
     "metadata": {},
     "output_type": "display_data"
    }
   ],
   "source": [
    "using JLD2\n",
    "\n",
    "para = load(\"D:/DMRG_projects/Nicklate/Rslt_2leg_mixDtJ/mixDtJLx64-Ly2-t3p0-tv0p0-Jv9p0_D1499/para.jld2\")\n",
    "@show para"
   ]
  }
 ],
 "metadata": {
  "kernelspec": {
   "display_name": "Julia 1.9.2",
   "language": "julia",
   "name": "julia-1.9"
  },
  "language_info": {
   "file_extension": ".jl",
   "mimetype": "application/julia",
   "name": "julia",
   "version": "1.9.2"
  }
 },
 "nbformat": 4,
 "nbformat_minor": 2
}
