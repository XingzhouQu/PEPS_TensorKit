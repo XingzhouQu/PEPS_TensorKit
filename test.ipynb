{
 "cells": [
  {
   "cell_type": "code",
   "execution_count": 2,
   "metadata": {},
   "outputs": [
    {
     "name": "stdout",
     "output_type": "stream",
     "text": [
      "pkgversion(TensorKit) = v\"0.12.1\"\n",
      "pkgdir(TensorKit) = \"C:\\\\Users\\\\quxin\\\\.julia\\\\packages\\\\TensorKit\\\\Xkabb\"\n"
     ]
    },
    {
     "data": {
      "text/plain": [
       "\"C:\\\\Users\\\\quxin\\\\.julia\\\\packages\\\\TensorKit\\\\Xkabb\""
      ]
     },
     "metadata": {},
     "output_type": "display_data"
    }
   ],
   "source": [
    "using TensorKit\n",
    "import TensorKit.×\n",
    "include(\"./iPEPS/iPEPS.jl\")\n",
    "include(\"./iPEPS/swap_gate.jl\")\n",
    "include(\"./iPEPS/util.jl\")\n",
    "@show pkgversion(TensorKit)\n",
    "@show pkgdir(TensorKit)"
   ]
  },
  {
   "cell_type": "code",
   "execution_count": 15,
   "metadata": {},
   "outputs": [
    {
     "name": "stdout",
     "output_type": "stream",
     "text": [
      "pspace = Vect[FermionSpin]((0, 0)=>2, (1/2, 1)=>1)\n"
     ]
    }
   ],
   "source": [
    "# pspace = GradedSpace{fSU₂}((-1, 0) => 1, (0, 1 // 2) => 1, (1, 0) => 1)\n",
    "pspace = GradedSpace{fSU₂}((0 => 2), (1//2 => 1))\n",
    "aspacel = aspacer = aspacet = aspaceb = pspace\n",
    "@show pspace\n",
    "nothing"
   ]
  },
  {
   "cell_type": "code",
   "execution_count": null,
   "metadata": {},
   "outputs": [],
   "source": [
    "pspace = Rep[ℤ₂×SU₂]((0, 0) => 2, (1, 1 // 2) => 1)\n",
    "# pspace = Rep[ℤ₂]((1 => 1), (0 => 2))\n",
    "aspacel = Rep[ℤ₂×SU₂]((0, 0) => 2, (1, 1 // 2) => 1)\n",
    "# aspacer = Rep[ℤ₂×SU₂]((0, 0) => 2, (0, 1) => 2)\n",
    "aspacer = aspacel\n",
    "aspacet = Rep[ℤ₂×SU₂]((0, 0) => 2, (1, 1 // 2) => 1)\n",
    "# aspaceb = Rep[ℤ₂×SU₂]((0, 0) => 2, (1, 3 // 2) => 2)\n",
    "aspaceb = aspacet\n",
    "\n",
    "# A = TensorMap(randn, ComplexF64, aspacel ⊗ aspacet ⊗ pspace, aspacer ⊗ aspaceb)\n",
    "# Ms = [A, A, A, A]\n",
    "# ipeps = iPEPS(Ms, 2, 2)\n",
    "# Abar = bar(A)\n",
    "# @show space(Abar)\n",
    "# gate1 = swap_gate(space(Abar)[4], space(Abar)[5])\n",
    "# @show space(gate1)\n",
    "# gate2 = swap_gate(space(Abar)[1], space(Abar)[2])\n",
    "# @show space(gate2)\n",
    "# gate3 = swap_gate(space(A)[4], space(A)[5])\n",
    "# @show space(gate3)\n",
    "# gate4 = swap_gate(space(A)[1], space(A)[2])\n",
    "# @show space(gate4)\n",
    "# gate5 = swap_gate(space(A)[1], space(Abar)[2])\n",
    "# @show space(gate5)\n",
    "@assert pspace isa ElementarySpace\n",
    "@show fieldnames(GradedSpace)"
   ]
  },
  {
   "cell_type": "code",
   "execution_count": 6,
   "metadata": {},
   "outputs": [
    {
     "name": "stdout",
     "output_type": "stream",
     "text": [
      "A = TensorMap(Vect[FermionSpin]((0, 0)=>2, (1/2, 1)=>1) ← Vect[FermionSpin]((0, 0)=>2, (1/2, 1)=>1)):\n",
      "* Data for fusiontree FusionTree{FermionSpin}(((0, 0),), (0, 0), (false,), ()) ← FusionTree{FermionSpin}(((0, 0),), (0, 0), (false,), ()):\n",
      " 1.0  0.0\n",
      " 0.0  1.0\n",
      "* Data for fusiontree FusionTree{FermionSpin}(((1/2, 1),), (1/2, 1), (false,), ()) ← FusionTree{FermionSpin}(((1/2, 1),), (1/2, 1), (false,), ()):\n",
      " 1.0\n",
      "\n",
      "A + A = TensorMap(Vect[FermionSpin]((0, 0)=>2, (1/2, 1)=>1) ← Vect[FermionSpin]((0, 0)=>2, (1/2, 1)=>1)):\n",
      "* Data for fusiontree FusionTree{FermionSpin}(((0, 0),), (0, 0), (false,), ()) ← FusionTree{FermionSpin}(((0, 0),), (0, 0), (false,), ()):\n",
      " 5.43656365691809  0.0\n",
      " 0.0               5.43656365691809\n",
      "* Data for fusiontree FusionTree{FermionSpin}(((1/2, 1),), (1/2, 1), (false,), ()) ← FusionTree{FermionSpin}(((1/2, 1),), (1/2, 1), (false,), ()):\n",
      " 5.43656365691809\n",
      "\n"
     ]
    }
   ],
   "source": [
    "A = id(pspace)\n",
    "@show A\n",
    "exp!(A)\n",
    "@show A + A\n",
    "nothing"
   ]
  },
  {
   "cell_type": "code",
   "execution_count": 11,
   "metadata": {},
   "outputs": [],
   "source": [
    "ipeps = iPEPSΓΛ(pspace, aspacel, aspacet, 2, 2; dtype=ComplexF64)\n",
    "\n",
    "gateNN = TensorMap(randn, ComplexF64, pspace ⊗ pspace, pspace ⊗ pspace)\n",
    "\n",
    "nothing"
   ]
  },
  {
   "cell_type": "code",
   "execution_count": null,
   "metadata": {},
   "outputs": [],
   "source": [
    "\n",
    "\n",
    "nothing"
   ]
  },
  {
   "cell_type": "code",
   "execution_count": null,
   "metadata": {},
   "outputs": [],
   "source": [
    "             \n",
    "nothing"
   ]
  }
 ],
 "metadata": {
  "kernelspec": {
   "display_name": "Julia 1.9.2",
   "language": "julia",
   "name": "julia-1.9"
  },
  "language_info": {
   "file_extension": ".jl",
   "mimetype": "application/julia",
   "name": "julia",
   "version": "1.9.2"
  }
 },
 "nbformat": 4,
 "nbformat_minor": 2
}
