{
 "cells": [
  {
   "cell_type": "code",
   "execution_count": 1,
   "metadata": {},
   "outputs": [
    {
     "name": "stdout",
     "output_type": "stream",
     "text": [
      "pkgversion(TensorKit) = v\"0.12.3\"\n"
     ]
    },
    {
     "name": "stderr",
     "output_type": "stream",
     "text": [
      "WARNING: using LinearAlgebra.× in module Main conflicts with an existing identifier.\n"
     ]
    },
    {
     "data": {
      "text/plain": [
       "4"
      ]
     },
     "metadata": {},
     "output_type": "display_data"
    }
   ],
   "source": [
    "using TensorKit\n",
    "import TensorKit.×\n",
    "include(\"./iPEPS_Fermionic/iPEPS.jl\")\n",
    "include(\"./CTMRG_Fermionic/CTMRG.jl\")\n",
    "include(\"./Cal_Obs_Fermionic/Cal_Obs.jl\")\n",
    "include(\"./models/Hubbard_Z2SU2.jl\")\n",
    "@show pkgversion(TensorKit)\n",
    "using JLD2\n",
    "using Strided\n",
    "Strided.enable_threads()"
   ]
  },
  {
   "cell_type": "code",
   "execution_count": null,
   "metadata": {},
   "outputs": [],
   "source": [
    "# pspace = GradedSpace{fSU₂}((-1, 0) => 1, (0, 1 // 2) => 1, (1, 0) => 1)\n",
    "pspace = Rep[U₁×SU₂]((-1, 0) => 1, (0, 1 // 2) => 1, (1, 0) => 1)\n",
    "aspace = Rep[U₁×SU₂]((2, 0) => 2)\n",
    "\n",
    "# aspacel = aspacer = aspacet = aspaceb = pspace\n",
    "@show pspace\n",
    "nothing"
   ]
  },
  {
   "cell_type": "code",
   "execution_count": null,
   "metadata": {},
   "outputs": [],
   "source": [
    "pspace = Rep[ℤ₂×SU₂]((0, 0) => 2, (1, 1 // 2) => 1)\n",
    "# pspace = Rep[ℤ₂]((1 => 1), (0 => 2))\n",
    "aspacel = Rep[ℤ₂×SU₂]((0, 0) => 2, (1, 1 // 2) => 1)\n",
    "# aspacer = Rep[ℤ₂×SU₂]((0, 0) => 2, (0, 1) => 2)\n",
    "aspacer = aspacel\n",
    "aspacet = Rep[ℤ₂×SU₂]((0, 0) => 2, (1, 1 // 2) => 1)\n",
    "# aspaceb = Rep[ℤ₂×SU₂]((0, 0) => 2, (1, 3 // 2) => 2)\n",
    "aspaceb = aspacet\n",
    "\n",
    "# A = TensorMap(randn, ComplexF64, aspacel ⊗ aspacet ⊗ pspace, aspacer ⊗ aspaceb)\n",
    "# Ms = [A, A, A, A]\n",
    "# ipeps = iPEPS(Ms, 2, 2)\n",
    "# Abar = bar(A)\n",
    "# @show space(Abar)\n",
    "# gate1 = swap_gate(space(Abar)[4], space(Abar)[5])\n",
    "# @show space(gate1)\n",
    "# gate2 = swap_gate(space(Abar)[1], space(Abar)[2])\n",
    "# @show space(gate2)\n",
    "# gate3 = swap_gate(space(A)[4], space(A)[5])\n",
    "# @show space(gate3)\n",
    "# gate4 = swap_gate(space(A)[1], space(A)[2])\n",
    "# @show space(gate4)\n",
    "# gate5 = swap_gate(space(A)[1], space(Abar)[2])\n",
    "# @show space(gate5)\n",
    "@assert pspace isa ElementarySpace\n",
    "@show fieldnames(GradedSpace)"
   ]
  },
  {
   "cell_type": "code",
   "execution_count": 2,
   "metadata": {},
   "outputs": [
    {
     "name": "stdout",
     "output_type": "stream",
     "text": [
      "para[:χ] = 200\n"
     ]
    }
   ],
   "source": [
    "ipeps, envs, para = load(\"/home/tcmp2/JuliaProjects/Hubbard_t1.0U8.0mu4.0_ipepsEnv_D10chi200.jld2\", \"ipeps\", \"envs\", \"para\")\n",
    "Lx = ipeps.Lx\n",
    "Ly = ipeps.Ly\n",
    "@show para[:χ]\n",
    "ipepsbar = bar(ipeps)\n",
    "nothing"
   ]
  },
  {
   "cell_type": "code",
   "execution_count": 3,
   "metadata": {},
   "outputs": [
    {
     "name": "stdout",
     "output_type": "stream",
     "text": [
      "============== Calculating Obs ====================\n",
      "Fermionic! Calculating [\"N\"] at site [1, 1]\n",
      "Obs1si = Dict(\"N\" => 0.46363919848845064)\n",
      "Fermionic! Calculating [\"hij\", \"SS\", \"NN\", \"Δₛ\", \"Δₛdag\"] at site [1, 1] and site [2, 1]\n"
     ]
    }
   ],
   "source": [
    "# 计算观测量\n",
    "println(\"============== Calculating Obs ====================\")\n",
    "site1Obs = [\"N\"]                                # 计算这些单点观测量\n",
    "site2Obs = [\"hij\", \"SS\", \"NN\", \"Δₛ\", \"Δₛdag\"]   # 计算这些两点观测量\n",
    "# sites = [[x, y] for x in 1:Lx, y in 1:Ly]\n",
    "Eg = 0.0\n",
    "doping = 0.0\n",
    "for xx in 1:Lx, yy in 1:Ly\n",
    "    Obs1si = Cal_Obs_1site(ipeps, ipepsbar, envs, site1Obs, para; site=[xx, yy], get_op=get_op_Hubbard)\n",
    "    @show Obs1si\n",
    "    doping += get(Obs1si, \"N\", NaN)\n",
    "\n",
    "    Obs2si = Cal_Obs_2site(ipeps, ipepsbar, envs, site2Obs, para; site1=[xx, yy], site2=[xx + 1, yy], get_op=get_op_Hubbard)\n",
    "    @show Obs2si\n",
    "    Eg += get(Obs2si, \"hij\", NaN)\n",
    "    Obs2si = Cal_Obs_2site(ipeps, ipepsbar, envs, site2Obs, para; site1=[xx, yy], site2=[xx, yy + 1], get_op=get_op_Hubbard)\n",
    "    @show Obs2si\n",
    "    Eg += get(Obs2si, \"hij\", NaN)\n",
    "\n",
    "    # Obs2sidiag = Cal_Obs_2site(ipeps, ipepsbar, envs, site2Obs, para; site1=[xx, yy], site2=[xx+1, yy+1], get_op=get_op_Hubbard)\n",
    "    # @show Obs2sidiag\n",
    "    # Obs2sidiag = Cal_Obs_2site(ipeps, ipepsbar, envs, site2Obs, para; site1=[xx, yy], site2=[xx - 1, yy + 1], get_op=get_op_Hubbard)\n",
    "end\n",
    "GC.gc()\n",
    "Eg = Eg / (Lx * Ly)\n",
    "@show Eg\n",
    "doping = doping / (Lx * Ly)\n",
    "@show doping\n",
    "nothing"
   ]
  }
 ],
 "metadata": {
  "kernelspec": {
   "display_name": "Julia 1.10.2",
   "language": "julia",
   "name": "julia-1.10"
  },
  "language_info": {
   "file_extension": ".jl",
   "mimetype": "application/julia",
   "name": "julia",
   "version": "1.10.2"
  }
 },
 "nbformat": 4,
 "nbformat_minor": 2
}
