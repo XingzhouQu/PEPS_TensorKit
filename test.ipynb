{
 "cells": [
  {
   "cell_type": "code",
   "execution_count": null,
   "metadata": {},
   "outputs": [],
   "source": [
    "using TensorKit\n",
    "import TensorKit.×\n",
    "include(\"./iPEPS_fSU2/iPEPS.jl\")\n",
    "include(\"./CTMRG_fSU2/CTMRG.jl\")\n",
    "@show pkgversion(TensorKit)"
   ]
  },
  {
   "cell_type": "code",
   "execution_count": null,
   "metadata": {},
   "outputs": [],
   "source": [
    "# pspace = GradedSpace{fSU₂}((-1, 0) => 1, (0, 1 // 2) => 1, (1, 0) => 1)\n",
    "pspace = GradedSpace{fSU₂}((0 => 2), (1//2 => 1))\n",
    "aspacel = GradedSpace{fSU₂}((0 => 1), (1//2 => 1))\n",
    "aspacet = GradedSpace{fSU₂}((0 => 1), (1//2 => 2))\n",
    "aspacer = GradedSpace{fSU₂}((0 => 2), (1//2 => 2))\n",
    "aspaceb = GradedSpace{fSU₂}((0 => 1), (1//2 => 1), (1 => 1))\n",
    "# aspacel = aspacer = aspacet = aspaceb = pspace\n",
    "@show pspace\n",
    "nothing"
   ]
  },
  {
   "cell_type": "code",
   "execution_count": null,
   "metadata": {},
   "outputs": [],
   "source": [
    "a = TensorMap(randn, ComplexF64, aspacel ⊗ aspacet ⊗ pspace, aspacer ⊗ aspaceb)\n",
    "@show space(a)  # [l, t, p; r, b]\n",
    "@show space(a') # [r, b; l, t, p]\n",
    "\n",
    "Xl, vl = leftorth(a, ((1, 2, 5), (3, 4)))\n",
    "@show space(Xl)\n",
    "@show space(vl)\n",
    "nothing"
   ]
  },
  {
   "cell_type": "code",
   "execution_count": null,
   "metadata": {},
   "outputs": [],
   "source": [
    "pspace = Rep[ℤ₂×SU₂]((0, 0) => 2, (1, 1 // 2) => 1)\n",
    "# pspace = Rep[ℤ₂]((1 => 1), (0 => 2))\n",
    "aspacel = Rep[ℤ₂×SU₂]((0, 0) => 2, (1, 1 // 2) => 1)\n",
    "# aspacer = Rep[ℤ₂×SU₂]((0, 0) => 2, (0, 1) => 2)\n",
    "aspacer = aspacel\n",
    "aspacet = Rep[ℤ₂×SU₂]((0, 0) => 2, (1, 1 // 2) => 1)\n",
    "# aspaceb = Rep[ℤ₂×SU₂]((0, 0) => 2, (1, 3 // 2) => 2)\n",
    "aspaceb = aspacet\n",
    "\n",
    "# A = TensorMap(randn, ComplexF64, aspacel ⊗ aspacet ⊗ pspace, aspacer ⊗ aspaceb)\n",
    "# Ms = [A, A, A, A]\n",
    "# ipeps = iPEPS(Ms, 2, 2)\n",
    "# Abar = bar(A)\n",
    "# @show space(Abar)\n",
    "# gate1 = swap_gate(space(Abar)[4], space(Abar)[5])\n",
    "# @show space(gate1)\n",
    "# gate2 = swap_gate(space(Abar)[1], space(Abar)[2])\n",
    "# @show space(gate2)\n",
    "# gate3 = swap_gate(space(A)[4], space(A)[5])\n",
    "# @show space(gate3)\n",
    "# gate4 = swap_gate(space(A)[1], space(A)[2])\n",
    "# @show space(gate4)\n",
    "# gate5 = swap_gate(space(A)[1], space(Abar)[2])\n",
    "# @show space(gate5)\n",
    "@assert pspace isa ElementarySpace\n",
    "@show fieldnames(GradedSpace)"
   ]
  },
  {
   "cell_type": "code",
   "execution_count": null,
   "metadata": {},
   "outputs": [],
   "source": [
    "A = id(pspace)\n",
    "@show A\n",
    "@tensor x = A[a, a]\n",
    "@show x\n",
    "nothing"
   ]
  },
  {
   "cell_type": "code",
   "execution_count": null,
   "metadata": {},
   "outputs": [],
   "source": [
    "ipeps = iPEPSΓΛ(pspace, aspacel, aspacet, 2, 2; dtype=ComplexF64)\n",
    "\n",
    "gateNN = TensorMap(randn, ComplexF64, pspace ⊗ pspace, pspace ⊗ pspace)\n",
    "\n",
    "nothing"
   ]
  },
  {
   "cell_type": "code",
   "execution_count": null,
   "metadata": {},
   "outputs": [],
   "source": [
    "function test!(ipeps::iPEPSΓΛ, pspace)\n",
    "ipeps[1,1].Γ = id(pspace)\n",
    "return nothing\n",
    "end\n",
    "@show rank(ipeps[1,1].Γ)\n",
    "test!(ipeps, pspace)\n",
    "@show rank(ipeps[1,1].Γ)"
   ]
  },
  {
   "cell_type": "code",
   "execution_count": null,
   "metadata": {},
   "outputs": [],
   "source": [
    "pspace = Rep[ℤ₂×SU₂]((0, 0) => 2, (1, 1 // 2) => 1)\n",
    "aspace = Rep[ℤ₂×SU₂]((1, 1 // 2) => 1)\n",
    "Fdag = TensorMap(zeros, pspace, pspace ⊗ aspace)\n",
    "block(Fdag, Irrep[ℤ₂×SU₂](1, 1 // 2))[1, 1] = 1\n",
    "block(Fdag, Irrep[ℤ₂×SU₂](0, 0))[2, 1] = sqrt(2)\n",
    "# @show Fdag\n",
    "@show blocks(Fdag)\n",
    "@show block(Fdag, Irrep[ℤ₂×SU₂](1, 1 // 2))\n",
    "@show block(Fdag, Irrep[ℤ₂×SU₂](0, 0))\n",
    "@show size(block(Fdag, Irrep[ℤ₂×SU₂](0, 0)))\n",
    "nothing"
   ]
  },
  {
   "cell_type": "code",
   "execution_count": null,
   "metadata": {},
   "outputs": [],
   "source": [
    "aspace = GradedSpace{fSU₂}((1 // 2 => 1))\n",
    "pspace = GradedSpace{fSU₂}((0 => 2), (1//2 => 1))\n",
    "@show dim(pspace)\n",
    "@show dim(aspace)\n",
    "Fdag = TensorMap(zeros, pspace, pspace ⊗ aspace)\n",
    "for (key, val) in blocks(Fdag)\n",
    "    if key == Irrep[SU₂](0) ⊠ FermionParity(0)\n",
    "        val[2, 1] = sqrt(2)\n",
    "        @show key\n",
    "        @show val\n",
    "    elseif key == Irrep[SU₂](1 / 2) ⊠ FermionParity(1)\n",
    "        val[1, 1] = one(val[1, 1])\n",
    "        @show key\n",
    "        @show val\n",
    "    else\n",
    "        nothing\n",
    "    end\n",
    "end\n",
    "@show blocks(Fdag)\n",
    "\n",
    "Fdag = TensorMap(zeros, pspace, pspace)\n",
    "for (key, val) in blocks(Fdag)\n",
    "    if key == Irrep[SU₂](0) ⊠ FermionParity(0)\n",
    "        val[2, 1] = sqrt(2)\n",
    "        @show key\n",
    "        @show val\n",
    "    elseif key == Irrep[SU₂](1 / 2) ⊠ FermionParity(1)\n",
    "        val[1, 1] = one(val[1, 1])\n",
    "        @show key\n",
    "        @show val\n",
    "    else\n",
    "        nothing\n",
    "    end\n",
    "end\n",
    "@show blocks(2 * Fdag)\n",
    "nothing"
   ]
  },
  {
   "cell_type": "code",
   "execution_count": null,
   "metadata": {},
   "outputs": [],
   "source": [
    "include(\"./simple_update_fSU2/Models.jl\")\n",
    "pspace = GradedSpace{fSU₂}((0 => 2), (1//2 => 1))\n",
    "@show pspace\n",
    "@show space(id(pspace))\n",
    "@show space(isometry(pspace, pspace))\n",
    "t = 1.0\n",
    "U = 4.0\n",
    "gate = Hubbard_gate(t, U)\n",
    "@show space(gate)"
   ]
  },
  {
   "cell_type": "code",
   "execution_count": 16,
   "metadata": {},
   "outputs": [
    {
     "name": "stdout",
     "output_type": "stream",
     "text": [
      "test = iPEPSΓΛ(ipepsγλ[ipepsγλ(0, 0, 0, 0, 0) ipepsγλ(0, 0, 0, 0, 0); ipepsγλ(0, 0, 0, 0, 0) ipepsγλ(0, 0, 0, 0, 0)], 2, 2)\n"
     ]
    },
    {
     "name": "stdout",
     "output_type": "stream",
     "text": [
      "Called\n",
      "(test[1, 1]).Γ = 0\n",
      "Called\n",
      "test = iPEPSΓΛ(ipepsγλ[ipepsγλ(1, 0, 0, 0, 0) ipepsγλ(0, 0, 0, 0, 0); ipepsγλ(0, 0, 0, 0, 0) ipepsγλ(0, 0, 0, 0, 0)], 2, 2)\n",
      "Called\n",
      "Called\n",
      "(test[2, 2]).Γ = 0\n",
      "Called\n",
      "test = iPEPSΓΛ(ipepsγλ[ipepsγλ(1, 0, 0, 0, 0) ipepsγλ(0, 0, 0, 0, 0); ipepsγλ(2, 0, 0, 0, 0) ipepsγλ(0, 0, 0, 0, 0)], 2, 2)\n"
     ]
    },
    {
     "data": {
      "text/plain": [
       "iPEPSΓΛ(ipepsγλ[ipepsγλ(1, 0, 0, 0, 0) ipepsγλ(0, 0, 0, 0, 0); ipepsγλ(2, 0, 0, 0, 0) ipepsγλ(0, 0, 0, 0, 0)], 2, 2)"
      ]
     },
     "metadata": {},
     "output_type": "display_data"
    }
   ],
   "source": [
    "import Base.getindex\n",
    "\n",
    "mutable struct ipepsγλ\n",
    "    Γ\n",
    "    l\n",
    "    r\n",
    "    t\n",
    "    b\n",
    "end\n",
    "\n",
    "struct iPEPSΓΛ\n",
    "    ΓΛ::AbstractMatrix{ipepsγλ}\n",
    "    Lx::Int\n",
    "    Ly::Int\n",
    "    function iPEPSΓΛ(γλ::Matrix{ipepsγλ}, Lx, Ly)\n",
    "        return new(γλ, Lx, Ly)\n",
    "    end\n",
    "end\n",
    "\n",
    "function getindex(ipepsΓΛ::iPEPSΓΛ, idx::Int, idy::Int)\n",
    "    Lx = ipepsΓΛ.Lx\n",
    "    Ly = ipepsΓΛ.Ly\n",
    "    idx = idx - Int(ceil(idx / Lx) - 1)\n",
    "    idy = idy - Int(ceil(idy / Ly) - 1)\n",
    "    println(\"Called\")\n",
    "    return getindex(ipepsΓΛ.ΓΛ, idx, idy)\n",
    "end\n",
    "\n",
    "\n",
    "b = ipepsγλ(0,0,0,0,0)\n",
    "B = Matrix{ipepsγλ}(undef, 2, 2)\n",
    "# fill!(B, b)\n",
    "B[1,2] = ipepsγλ(0,0,0,0,0)\n",
    "B[1,1] = ipepsγλ(0,0,0,0,0)\n",
    "B[2,2] = ipepsγλ(0,0,0,0,0)\n",
    "B[2,1] = ipepsγλ(0,0,0,0,0)\n",
    "\n",
    "test = iPEPSΓΛ(B, 2, 2)\n",
    "@show test\n",
    "@show test[1,1].Γ\n",
    "\n",
    "test[1, 1].Γ = 1\n",
    "@show test\n",
    "test[1, 1].Γ = 1\n",
    "@show test[2,2].Γ\n",
    "test[2, 1].Γ = 2\n",
    "@show test"
   ]
  }
 ],
 "metadata": {
  "kernelspec": {
   "display_name": "Julia 1.9.2",
   "language": "julia",
   "name": "julia-1.9"
  },
  "language_info": {
   "file_extension": ".jl",
   "mimetype": "application/julia",
   "name": "julia",
   "version": "1.9.2"
  }
 },
 "nbformat": 4,
 "nbformat_minor": 2
}
