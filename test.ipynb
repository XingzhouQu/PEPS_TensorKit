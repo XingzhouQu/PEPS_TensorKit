{
 "cells": [
  {
   "cell_type": "code",
   "execution_count": 1,
   "metadata": {},
   "outputs": [
    {
     "name": "stdout",
     "output_type": "stream",
     "text": [
      "pkgversion(TensorKit) = v\"0.12.2\"\n"
     ]
    },
    {
     "data": {
      "text/plain": [
       "v\"0.12.2\""
      ]
     },
     "metadata": {},
     "output_type": "display_data"
    }
   ],
   "source": [
    "using TensorKit\n",
    "import TensorKit.×\n",
    "# include(\"./iPEPS_fSU2/iPEPS.jl\")\n",
    "# include(\"./CTMRG_fSU2/CTMRG.jl\")\n",
    "@show pkgversion(TensorKit)"
   ]
  },
  {
   "cell_type": "code",
   "execution_count": 2,
   "metadata": {},
   "outputs": [
    {
     "name": "stdout",
     "output_type": "stream",
     "text": [
      "pspace = Vect[FermionSpin]((0, 0)=>2, (1/2, 1)=>1)\n"
     ]
    }
   ],
   "source": [
    "# pspace = GradedSpace{fSU₂}((-1, 0) => 1, (0, 1 // 2) => 1, (1, 0) => 1)\n",
    "pspace = GradedSpace{fSU₂}((0 => 2), (1//2 => 1))\n",
    "aspacel = GradedSpace{fSU₂}((0 => 1), (1//2 => 1))\n",
    "aspacet = GradedSpace{fSU₂}((0 => 1), (1//2 => 2))\n",
    "aspacer = GradedSpace{fSU₂}((0 => 2), (1//2 => 2))\n",
    "aspaceb = GradedSpace{fSU₂}((0 => 1), (1//2 => 1), (1 => 1))\n",
    "# aspacel = aspacer = aspacet = aspaceb = pspace\n",
    "@show pspace\n",
    "nothing"
   ]
  },
  {
   "cell_type": "code",
   "execution_count": 7,
   "metadata": {},
   "outputs": [
    {
     "name": "stdout",
     "output_type": "stream",
     "text": [
      "a = TensorMap(Vect[FermionSpin]((0, 0)=>2, (1/2, 1)=>1) ← Vect[FermionSpin]((0, 0)=>2, (1/2, 1)=>1)):\n",
      "* Data for fusiontree FusionTree{FermionSpin}(((0, 0),), (0, 0), (false,), ()) ← FusionTree{FermionSpin}(((0, 0),), (0, 0), (false,), ()):\n",
      " 1.0  0.0\n",
      " 0.0  1.0\n",
      "* Data for fusiontree FusionTree{FermionSpin}(((1/2, 1),), (1/2, 1), (false,), ()) ← FusionTree{FermionSpin}(((1/2, 1),), (1/2, 1), (false,), ()):\n",
      " 1.0\n",
      "\n",
      "c = TensorMap(Vect[FermionSpin]((0, 0)=>2, (1/2, 1)=>1) ← Vect[FermionSpin]((0, 0)=>2, (1/2, 1)=>1)):\n",
      "* Data for fusiontree FusionTree{FermionSpin}(((0, 0),), (0, 0), (false,), ()) ← FusionTree{FermionSpin}(((0, 0),), (0, 0), (false,), ()):\n",
      " 1.4142135623730951 + 0.0im                 0.0 + 0.0im\n",
      "                0.0 + 0.0im  1.4142135623730951 + 0.0im\n",
      "* Data for fusiontree FusionTree{FermionSpin}(((1/2, 1),), (1/2, 1), (false,), ()) ← FusionTree{FermionSpin}(((1/2, 1),), (1/2, 1), (false,), ()):\n",
      " 1.4142135623730951 + 0.0im\n",
      "\n"
     ]
    },
    {
     "ename": "SpaceMismatch{String}",
     "evalue": "SpaceMismatch(\"(Vect[FermionSpin]((0, 0)=>2, (1/2, 1)=>1) ⊗ Vect[FermionSpin]((0, 0)=>2, (1/2, 1)=>1)') ← ProductSpace{GradedSpace{ProductSector{Tuple{SU2Irrep, FermionParity}}, TensorKit.SortedVectorDict{ProductSector{Tuple{SU2Irrep, FermionParity}}, Int64}}, 0}() ≠ Vect[FermionSpin]((0, 0)=>2, (1/2, 1)=>1) ← Vect[FermionSpin]((0, 0)=>2, (1/2, 1)=>1)\")",
     "output_type": "error",
     "traceback": [
      "SpaceMismatch(\"(Vect[FermionSpin]((0, 0)=>2, (1/2, 1)=>1) ⊗ Vect[FermionSpin]((0, 0)=>2, (1/2, 1)=>1)') ← ProductSpace{GradedSpace{ProductSector{Tuple{SU2Irrep, FermionParity}}, TensorKit.SortedVectorDict{ProductSector{Tuple{SU2Irrep, FermionParity}}, Int64}}, 0}() ≠ Vect[FermionSpin]((0, 0)=>2, (1/2, 1)=>1) ← Vect[FermionSpin]((0, 0)=>2, (1/2, 1)=>1)\")\n",
      "\n",
      "Stacktrace:\n",
      " [1] add(ty::Tensor{GradedSpace{ProductSector{Tuple{SU2Irrep, FermionParity}}, TensorKit.SortedVectorDict{ProductSector{Tuple{SU2Irrep, FermionParity}}, Int64}}, 2, ProductSector{Tuple{SU2Irrep, FermionParity}}, TensorKit.SortedVectorDict{ProductSector{Tuple{SU2Irrep, FermionParity}}, Matrix{ComplexF64}}, FusionTree{ProductSector{Tuple{SU2Irrep, FermionParity}}, 2, 0, 1, Nothing}, FusionTree{ProductSector{Tuple{SU2Irrep, FermionParity}}, 0, 0, 0, Nothing}}, tx::TensorMap{GradedSpace{ProductSector{Tuple{SU2Irrep, FermionParity}}, TensorKit.SortedVectorDict{ProductSector{Tuple{SU2Irrep, FermionParity}}, Int64}}, 1, 1, ProductSector{Tuple{SU2Irrep, FermionParity}}, TensorKit.SortedVectorDict{ProductSector{Tuple{SU2Irrep, FermionParity}}, Matrix{Float64}}, FusionTree{ProductSector{Tuple{SU2Irrep, FermionParity}}, 1, 0, 0, Nothing}, FusionTree{ProductSector{Tuple{SU2Irrep, FermionParity}}, 1, 0, 0, Nothing}}, α::ComplexF64, β::VectorInterface.One)\n",
      "   @ TensorKit ~/.julia/packages/TensorKit/gpuAY/src/tensors/vectorinterface.jl:56\n",
      " [2] add(y::Tensor{GradedSpace{ProductSector{Tuple{SU2Irrep, FermionParity}}, TensorKit.SortedVectorDict{ProductSector{Tuple{SU2Irrep, FermionParity}}, Int64}}, 2, ProductSector{Tuple{SU2Irrep, FermionParity}}, TensorKit.SortedVectorDict{ProductSector{Tuple{SU2Irrep, FermionParity}}, Matrix{ComplexF64}}, FusionTree{ProductSector{Tuple{SU2Irrep, FermionParity}}, 2, 0, 1, Nothing}, FusionTree{ProductSector{Tuple{SU2Irrep, FermionParity}}, 0, 0, 0, Nothing}}, x::TensorMap{GradedSpace{ProductSector{Tuple{SU2Irrep, FermionParity}}, TensorKit.SortedVectorDict{ProductSector{Tuple{SU2Irrep, FermionParity}}, Int64}}, 1, 1, ProductSector{Tuple{SU2Irrep, FermionParity}}, TensorKit.SortedVectorDict{ProductSector{Tuple{SU2Irrep, FermionParity}}, Matrix{Float64}}, FusionTree{ProductSector{Tuple{SU2Irrep, FermionParity}}, 1, 0, 0, Nothing}, FusionTree{ProductSector{Tuple{SU2Irrep, FermionParity}}, 1, 0, 0, Nothing}}, α::ComplexF64)\n",
      "   @ VectorInterface ~/.julia/packages/VectorInterface/TAlcJ/src/interface.jl:108\n",
      " [3] -(t1::Tensor{GradedSpace{ProductSector{Tuple{SU2Irrep, FermionParity}}, TensorKit.SortedVectorDict{ProductSector{Tuple{SU2Irrep, FermionParity}}, Int64}}, 2, ProductSector{Tuple{SU2Irrep, FermionParity}}, TensorKit.SortedVectorDict{ProductSector{Tuple{SU2Irrep, FermionParity}}, Matrix{ComplexF64}}, FusionTree{ProductSector{Tuple{SU2Irrep, FermionParity}}, 2, 0, 1, Nothing}, FusionTree{ProductSector{Tuple{SU2Irrep, FermionParity}}, 0, 0, 0, Nothing}}, t2::TensorMap{GradedSpace{ProductSector{Tuple{SU2Irrep, FermionParity}}, TensorKit.SortedVectorDict{ProductSector{Tuple{SU2Irrep, FermionParity}}, Int64}}, 1, 1, ProductSector{Tuple{SU2Irrep, FermionParity}}, TensorKit.SortedVectorDict{ProductSector{Tuple{SU2Irrep, FermionParity}}, Matrix{Float64}}, FusionTree{ProductSector{Tuple{SU2Irrep, FermionParity}}, 1, 0, 0, Nothing}, FusionTree{ProductSector{Tuple{SU2Irrep, FermionParity}}, 1, 0, 0, Nothing}})\n",
      "   @ TensorKit ~/.julia/packages/TensorKit/gpuAY/src/tensors/linalg.jl:9\n",
      " [4] isapprox(t1::Tensor{GradedSpace{ProductSector{Tuple{SU2Irrep, FermionParity}}, TensorKit.SortedVectorDict{ProductSector{Tuple{SU2Irrep, FermionParity}}, Int64}}, 2, ProductSector{Tuple{SU2Irrep, FermionParity}}, TensorKit.SortedVectorDict{ProductSector{Tuple{SU2Irrep, FermionParity}}, Matrix{ComplexF64}}, FusionTree{ProductSector{Tuple{SU2Irrep, FermionParity}}, 2, 0, 1, Nothing}, FusionTree{ProductSector{Tuple{SU2Irrep, FermionParity}}, 0, 0, 0, Nothing}}, t2::TensorMap{GradedSpace{ProductSector{Tuple{SU2Irrep, FermionParity}}, TensorKit.SortedVectorDict{ProductSector{Tuple{SU2Irrep, FermionParity}}, Int64}}, 1, 1, ProductSector{Tuple{SU2Irrep, FermionParity}}, TensorKit.SortedVectorDict{ProductSector{Tuple{SU2Irrep, FermionParity}}, Matrix{Float64}}, FusionTree{ProductSector{Tuple{SU2Irrep, FermionParity}}, 1, 0, 0, Nothing}, FusionTree{ProductSector{Tuple{SU2Irrep, FermionParity}}, 1, 0, 0, Nothing}}; atol::Int64, rtol::Float64)\n",
      "   @ TensorKit ~/.julia/packages/TensorKit/gpuAY/src/tensors/abstracttensor.jl:249\n",
      " [5] isapprox(t1::Tensor{GradedSpace{ProductSector{Tuple{SU2Irrep, FermionParity}}, TensorKit.SortedVectorDict{ProductSector{Tuple{SU2Irrep, FermionParity}}, Int64}}, 2, ProductSector{Tuple{SU2Irrep, FermionParity}}, TensorKit.SortedVectorDict{ProductSector{Tuple{SU2Irrep, FermionParity}}, Matrix{ComplexF64}}, FusionTree{ProductSector{Tuple{SU2Irrep, FermionParity}}, 2, 0, 1, Nothing}, FusionTree{ProductSector{Tuple{SU2Irrep, FermionParity}}, 0, 0, 0, Nothing}}, t2::TensorMap{GradedSpace{ProductSector{Tuple{SU2Irrep, FermionParity}}, TensorKit.SortedVectorDict{ProductSector{Tuple{SU2Irrep, FermionParity}}, Int64}}, 1, 1, ProductSector{Tuple{SU2Irrep, FermionParity}}, TensorKit.SortedVectorDict{ProductSector{Tuple{SU2Irrep, FermionParity}}, Matrix{Float64}}, FusionTree{ProductSector{Tuple{SU2Irrep, FermionParity}}, 1, 0, 0, Nothing}, FusionTree{ProductSector{Tuple{SU2Irrep, FermionParity}}, 1, 0, 0, Nothing}})\n",
      "   @ TensorKit ~/.julia/packages/TensorKit/gpuAY/src/tensors/abstracttensor.jl:246\n",
      " [6] top-level scope\n",
      "   @ ~/JuliaProjects/PEPS_TensorKit/test.ipynb:9"
     ]
    }
   ],
   "source": [
    "a = id(pspace)\n",
    "@show a\n",
    "b = a * 2\n",
    "c = sqrt(b)\n",
    "@show c\n",
    "b1 = c * c\n",
    "@assert b1 ≈ b\n",
    "@tensor b2[x, y] := c[x, in] * c[y, in]\n",
    "@assert b2 ≈ b\n",
    "nothing"
   ]
  },
  {
   "cell_type": "code",
   "execution_count": null,
   "metadata": {},
   "outputs": [],
   "source": [
    "a = TensorMap(randn, ComplexF64, aspacel ⊗ aspacet ⊗ pspace, aspacer ⊗ aspaceb)\n",
    "@show space(a)  # [l, t, p; r, b]\n",
    "@show space(a') # [r, b; l, t, p]\n",
    "\n",
    "Xl, vl = leftorth(a, ((1, 2, 5), (3, 4)))\n",
    "@show space(Xl)\n",
    "@show space(vl)\n",
    "nothing"
   ]
  },
  {
   "cell_type": "code",
   "execution_count": null,
   "metadata": {},
   "outputs": [],
   "source": [
    "pspace = Rep[ℤ₂×SU₂]((0, 0) => 2, (1, 1 // 2) => 1)\n",
    "# pspace = Rep[ℤ₂]((1 => 1), (0 => 2))\n",
    "aspacel = Rep[ℤ₂×SU₂]((0, 0) => 2, (1, 1 // 2) => 1)\n",
    "# aspacer = Rep[ℤ₂×SU₂]((0, 0) => 2, (0, 1) => 2)\n",
    "aspacer = aspacel\n",
    "aspacet = Rep[ℤ₂×SU₂]((0, 0) => 2, (1, 1 // 2) => 1)\n",
    "# aspaceb = Rep[ℤ₂×SU₂]((0, 0) => 2, (1, 3 // 2) => 2)\n",
    "aspaceb = aspacet\n",
    "\n",
    "# A = TensorMap(randn, ComplexF64, aspacel ⊗ aspacet ⊗ pspace, aspacer ⊗ aspaceb)\n",
    "# Ms = [A, A, A, A]\n",
    "# ipeps = iPEPS(Ms, 2, 2)\n",
    "# Abar = bar(A)\n",
    "# @show space(Abar)\n",
    "# gate1 = swap_gate(space(Abar)[4], space(Abar)[5])\n",
    "# @show space(gate1)\n",
    "# gate2 = swap_gate(space(Abar)[1], space(Abar)[2])\n",
    "# @show space(gate2)\n",
    "# gate3 = swap_gate(space(A)[4], space(A)[5])\n",
    "# @show space(gate3)\n",
    "# gate4 = swap_gate(space(A)[1], space(A)[2])\n",
    "# @show space(gate4)\n",
    "# gate5 = swap_gate(space(A)[1], space(Abar)[2])\n",
    "# @show space(gate5)\n",
    "@assert pspace isa ElementarySpace\n",
    "@show fieldnames(GradedSpace)"
   ]
  },
  {
   "cell_type": "code",
   "execution_count": null,
   "metadata": {},
   "outputs": [],
   "source": [
    "A = id(pspace)\n",
    "@show A\n",
    "@tensor x = A[a, a]\n",
    "@show x\n",
    "nothing"
   ]
  },
  {
   "cell_type": "code",
   "execution_count": null,
   "metadata": {},
   "outputs": [],
   "source": [
    "include(\"./simple_update_fSU2/Models.jl\")\n",
    "para = Dict{Symbol,Any}()\n",
    "para[:t] = 1.0\n",
    "para[:U] = 8\n",
    "para[:τlis] = [0.01, 0.03, 0.05, 0.1, 0.2, 0.3]\n",
    "para[:Dk] = 10  # Dkept in the simple udate\n",
    "\n",
    "pspace = GradedSpace{fSU₂}((0 => 2), (1 // 2 => 1))\n",
    "aspacelr = pspace\n",
    "aspacetb = pspace\n",
    "Lx = 2\n",
    "Ly = 2\n",
    "ipeps = iPEPSΓΛ(pspace, aspacelr, aspacetb, Lx, Ly; dtype=ComplexF64)\n",
    "\n",
    "τlis = para[:τlis]\n",
    "t = para[:t]\n",
    "U = para[:U]\n",
    "Dk = para[:Dk]\n",
    "Nit = length(τlis)\n",
    "hij = Hubbard_hij(t, U)\n",
    "τ = τlis[1]\n",
    "gateNN = exp(-τ * hij)\n",
    "\n",
    "@show space(ipeps[1, 1].Γ)\n",
    "@show space(ipeps[1, 1].l)\n",
    "@show space(ipeps[1, 1].t)\n",
    "@show space(ipeps[1, 1].r)\n",
    "@show space(ipeps[1, 1].b)\n",
    "nothing"
   ]
  },
  {
   "cell_type": "code",
   "execution_count": null,
   "metadata": {},
   "outputs": [],
   "source": [
    "pspace = GradedSpace{fSU₂}((0 => 2), (1 // 2 => 1))\n",
    "aspacel = GradedSpace{fSU₂}((0 => 2), (1 // 2 => 1))\n",
    "aspacer = aspacel\n",
    "aspacet = GradedSpace{fSU₂}((0 => 2), (1 // 2 => 1))\n",
    "aspaceb = aspacet\n",
    "A = TensorMap(randn, ComplexF64, aspacel ⊗ aspacet ⊗ pspace, aspacer ⊗ aspaceb)\n",
    "Ms = [A, A, A, A]\n",
    "ipeps = iPEPS(Ms, 2, 2)\n",
    "\n",
    "envs = iPEPSenv(ipeps)\n",
    "χ = 10\n",
    "Nit = 2\n",
    "nothing"
   ]
  },
  {
   "cell_type": "code",
   "execution_count": null,
   "metadata": {},
   "outputs": [],
   "source": [
    "x = 1\n",
    "Ly = ipeps.Ly\n",
    "# 存储更新右侧环境需要的投影算符，矩阵第一列是上半部分proj ∇, 第二列是下半部分proj Δ\n",
    "proj_List = Matrix{TensorMap}(undef, Ly, 2)\n",
    "# 误差列表\n",
    "error_List = Vector{Float64}(undef, Ly)\n",
    "# ----------------- 先求proj ---------------------\n",
    "for yy in 1:Ly\n",
    "    projup, projdn, ϵ = get_proj_update_LR(ipeps, envs, x, yy, χ; dir=\"right\")\n",
    "    proj_List[yy, 1] = projup\n",
    "    proj_List[yy, 2] = projdn\n",
    "    error_List[yy] = ϵ\n",
    "end\n",
    "# # ------------------ 再更新环境 ----------------------\n",
    "# for yy in 1:Ly\n",
    "#     if yy == 1\n",
    "#         apply_proj_right!(ipeps, envs, proj_List[Ly, 2], proj_List[yy, 1], x, yy)\n",
    "#         apply_proj_rtCorner_updateR!(envs, proj_List[Ly, 1], x, 1)\n",
    "#         apply_proj_rbCorner_updateR!(envs, proj_List[1, 2], x, 1)\n",
    "#     else\n",
    "#         apply_proj_right!(ipeps, envs, proj_List[yy-1, 2], proj_List[yy, 1], x, yy)\n",
    "#         apply_proj_rtCorner_updateR!(envs, proj_List[yy-1, 1], x, yy)\n",
    "#         apply_proj_rbCorner_updateR!(envs, proj_List[yy, 2], x, yy)\n",
    "#     end\n",
    "# end"
   ]
  },
  {
   "cell_type": "code",
   "execution_count": null,
   "metadata": {},
   "outputs": [],
   "source": [
    "apply_proj_right!(ipeps, envs, proj_List[Ly, 2], proj_List[1, 1], x, 1)\n",
    "nothing"
   ]
  },
  {
   "cell_type": "code",
   "execution_count": null,
   "metadata": {},
   "outputs": [],
   "source": [
    "apply_proj_rtCorner_updateR!(envs, proj_List[Ly, 1], x, 1)\n",
    "apply_proj_rbCorner_updateR!(envs, proj_List[1, 2], x, 1)\n",
    "apply_proj_right!(ipeps, envs, proj_List[1, 2], proj_List[2, 1], x, 2)\n",
    "nothing"
   ]
  }
 ],
 "metadata": {
  "kernelspec": {
   "display_name": "Julia 1.10.2",
   "language": "julia",
   "name": "julia-1.10"
  },
  "language_info": {
   "file_extension": ".jl",
   "mimetype": "application/julia",
   "name": "julia",
   "version": "1.10.2"
  }
 },
 "nbformat": 4,
 "nbformat_minor": 2
}
