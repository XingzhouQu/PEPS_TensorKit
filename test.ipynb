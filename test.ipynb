{
 "cells": [
  {
   "cell_type": "code",
   "execution_count": 1,
   "metadata": {},
   "outputs": [
    {
     "data": {
      "text/plain": [
       "inv_sqrt"
      ]
     },
     "metadata": {},
     "output_type": "display_data"
    }
   ],
   "source": [
    "using TensorKit\n",
    "import TensorKit.×\n",
    "using KrylovKit\n",
    "include(\"./iPEPS/iPEPS.jl\")\n",
    "include(\"./iPEPS/swap_gate.jl\")\n",
    "include(\"./iPEPS/util.jl\")"
   ]
  },
  {
   "cell_type": "code",
   "execution_count": null,
   "metadata": {},
   "outputs": [],
   "source": [
    "## follow convention (l, t, σ, r, b)\n",
    "## domain: r, b\n",
    "## codomain: l, t, σ\n",
    "M11 = TensorMap(randn, ComplexF64, ℂ^3 ⊗ ℂ^3 ⊗ ℂ^2, ℂ^3 ⊗ ℂ^3)\n",
    "@show domain(M11)\n",
    "@show space(M11)\n",
    "M12 = TensorMap(randn, ComplexF64, ℂ^3 ⊗ ℂ^3 ⊗ ℂ^2, ℂ^3 ⊗ ℂ^3)\n",
    "\n",
    "## contraction 后用; 分割 (codomain; domain), 原来的domain 放到 codomain，或反过来，空间都要变为对偶空间（加'）\n",
    "@tensor M1112[l1, t1, σ1, σ2, b1; t2, r2, b2] := M11[l1, t1, σ1, r1, b1] * M12[r1, t2, σ2, r2, b2]\n",
    "# B = permute(A, (3,), (1, 2, 4, 5))\n",
    "# @show domain(B)\n",
    "@show domain(M1112)\n",
    "@show codomain(M1112)"
   ]
  },
  {
   "cell_type": "code",
   "execution_count": 2,
   "metadata": {},
   "outputs": [
    {
     "name": "stdout",
     "output_type": "stream",
     "text": [
      "Initializing iPEPS with eltype ComplexF64"
     ]
    },
    {
     "name": "stdout",
     "output_type": "stream",
     "text": [
      "\n"
     ]
    },
    {
     "name": "stdout",
     "output_type": "stream",
     "text": [
      "space(Abar) = (Rep[ℤ₂ × SU₂]((0, 0)=>1, (1, 1/2)=>1)' ⊗ Rep[ℤ₂ × SU₂]((1, 1/2)=>1, (0, 1)=>1)' ⊗ Rep[ℤ₂ × SU₂]((0, 0)=>2, (1, 1/2)=>1)') ← (Rep[ℤ₂ × SU₂]((0, 0)=>1, (1, 1/2)=>1)' ⊗ Rep[ℤ₂ × SU₂]((1, 1/2)=>1, (0, 1)=>1)')\n",
      "space(gate1) = (Rep[ℤ₂ × SU₂]((0, 0)=>1, (1, 1/2)=>1) ⊗ Rep[ℤ₂ × SU₂]((1, 1/2)=>1, (0, 1)=>1)) ← (Rep[ℤ₂ × SU₂]((0, 0)=>1, (1, 1/2)=>1) ⊗ Rep[ℤ₂ × SU₂]((1, 1/2)=>1, (0, 1)=>1))\n",
      "space(gate2) = (Rep[ℤ₂ × SU₂]((0, 0)=>1, (1, 1/2)=>1)' ⊗ Rep[ℤ₂ × SU₂]((1, 1/2)=>1, (0, 1)=>1)') ← (Rep[ℤ₂ × SU₂]((0, 0)=>1, (1, 1/2)=>1)' ⊗ Rep[ℤ₂ × SU₂]((1, 1/2)=>1, (0, 1)=>1)')\n",
      "space(gate3) = (Rep[ℤ₂ × SU₂]((0, 0)=>1, (1, 1/2)=>1)' ⊗ Rep[ℤ₂ × SU₂]((1, 1/2)=>1, (0, 1)=>1)') ← (Rep[ℤ₂ × SU₂]((0, 0)=>1, (1, 1/2)=>1)' ⊗ Rep[ℤ₂ × SU₂]((1, 1/2)=>1, (0, 1)=>1)')\n",
      "space(gate4) = (Rep[ℤ₂ × SU₂]((0, 0)=>1, (1, 1/2)=>1) ⊗ Rep[ℤ₂ × SU₂]((1, 1/2)=>1, (0, 1)=>1)) ← (Rep[ℤ₂ × SU₂]((0, 0)=>1, (1, 1/2)=>1) ⊗ Rep[ℤ₂ × SU₂]((1, 1/2)=>1, (0, 1)=>1))\n",
      "space(gate5) = (Rep[ℤ₂ × SU₂]((0, 0)=>1, (1, 1/2)=>1) ⊗ Rep[ℤ₂ × SU₂]((1, 1/2)=>1, (0, 1)=>1)') ← (Rep[ℤ₂ × SU₂]((0, 0)=>1, (1, 1/2)=>1) ⊗ Rep[ℤ₂ × SU₂]((1, 1/2)=>1, (0, 1)=>1)')\n"
     ]
    },
    {
     "data": {
      "text/plain": [
       "(Rep[ℤ₂ × SU₂]((0, 0)=>1, (1, 1/2)=>1) ⊗ Rep[ℤ₂ × SU₂]((1, 1/2)=>1, (0, 1)=>1)') ← (Rep[ℤ₂ × SU₂]((0, 0)=>1, (1, 1/2)=>1) ⊗ Rep[ℤ₂ × SU₂]((1, 1/2)=>1, (0, 1)=>1)')"
      ]
     },
     "metadata": {},
     "output_type": "display_data"
    }
   ],
   "source": [
    "pspace = Rep[ℤ₂×SU₂]((0, 0) => 2, (1, 1 // 2) => 1)\n",
    "# pspace = Rep[ℤ₂]((1 => 1), (0 => 2))\n",
    "aspacel = Rep[ℤ₂×SU₂]((0, 0) => 1, (1, 1 // 2) => 1)\n",
    "# aspacer = Rep[ℤ₂×SU₂]((0, 0) => 2, (0, 1) => 2)\n",
    "aspacer = aspacel\n",
    "aspacet = Rep[ℤ₂×SU₂]((1, 1//2) => 1, (0, 1) => 1)\n",
    "# aspaceb = Rep[ℤ₂×SU₂]((0, 0) => 2, (1, 3 // 2) => 2)\n",
    "aspaceb = aspacet\n",
    "A = TensorMap(randn, ComplexF64, aspacel ⊗ aspacet ⊗ pspace, aspacer ⊗ aspaceb)\n",
    "Ms = [A, A, A, A]\n",
    "ipeps = iPEPS(Ms, 2, 2)\n",
    "Abar = bar(A)\n",
    "@show space(Abar)\n",
    "gate1 = swap_gate(space(Abar)[4], space(Abar)[5])\n",
    "@show space(gate1)\n",
    "gate2 = swap_gate(space(Abar)[1], space(Abar)[2])\n",
    "@show space(gate2)\n",
    "gate3 = swap_gate(space(A)[4], space(A)[5])\n",
    "@show space(gate3)\n",
    "gate4 = swap_gate(space(A)[1], space(A)[2])\n",
    "@show space(gate4)\n",
    "gate5 = swap_gate(space(A)[1], space(Abar)[2])\n",
    "@show space(gate5)"
   ]
  },
  {
   "cell_type": "code",
   "execution_count": 5,
   "metadata": {},
   "outputs": [
    {
     "name": "stdout",
     "output_type": "stream",
     "text": [
      "A = TensorMap(Rep[ℤ₂ × SU₂]((0, 0)=>2, (1, 1/2)=>1) ← Rep[ℤ₂ × SU₂]((0, 0)=>2, (1, 1/2)=>1)):\n",
      "* Data for fusiontree FusionTree{Irrep[ℤ₂ × SU₂]}(((0, 0),), (0, 0), (false,), ()) ← FusionTree{Irrep[ℤ₂ × SU₂]}(((0, 0),), (0, 0), (false,), ()):\n",
      " 1.0  0.0\n",
      " 0.0  1.0\n",
      "* Data for fusiontree FusionTree{Irrep[ℤ₂ × SU₂]}(((1, 1/2),), (1, 1/2), (false,), ()) ← FusionTree{Irrep[ℤ₂ × SU₂]}(((1, 1/2),), (1, 1/2), (false,), ()):\n",
      " 1.0\n",
      "\n",
      "A = TensorMap(Rep[ℤ₂ × SU₂]((0, 0)=>2, (1, 1/2)=>1) ← Rep[ℤ₂ × SU₂]((0, 0)=>2, (1, 1/2)=>1)):\n",
      "* Data for fusiontree FusionTree{Irrep[ℤ₂ × SU₂]}(((0, 0),), (0, 0), (false,), ()) ← FusionTree{Irrep[ℤ₂ × SU₂]}(((0, 0),), (0, 0), (false,), ()):\n",
      " 2.718281828459045  0.0\n",
      " 0.0                2.718281828459045\n",
      "* Data for fusiontree FusionTree{Irrep[ℤ₂ × SU₂]}(((1, 1/2),), (1, 1/2), (false,), ()) ← FusionTree{Irrep[ℤ₂ × SU₂]}(((1, 1/2),), (1, 1/2), (false,), ()):\n",
      " 2.718281828459045\n",
      "\n"
     ]
    }
   ],
   "source": [
    "A = id(pspace)\n",
    "@show A\n",
    "exp!(A)\n",
    "@show A\n",
    "nothing"
   ]
  },
  {
   "cell_type": "code",
   "execution_count": null,
   "metadata": {},
   "outputs": [],
   "source": [
    "include(\"./simple_update/simple_update.jl\")\n",
    "ipepsΓΛ = iPEPSΓΛ(ipeps)\n",
    "nothing"
   ]
  },
  {
   "cell_type": "code",
   "execution_count": null,
   "metadata": {},
   "outputs": [],
   "source": [
    "@show rank(ipepsΓΛ[1,1].Γ)\n",
    "@show rank(ipepsΓΛ[1,1].l)\n",
    "@assert ipepsΓΛ[1,1].l == ipepsΓΛ[2,1].r\n",
    "@show space(ipepsΓΛ[1,1].Γ)[1]\n",
    "@show space(ipepsΓΛ[1,1].Γ)[2]\n",
    "@show space(ipepsΓΛ[1,1].Γ)[3]\n",
    "@show space(ipepsΓΛ[1,1].Γ)[4]\n",
    "@show space(ipepsΓΛ[1,1].Γ)[5]\n",
    "nothing"
   ]
  }
 ],
 "metadata": {
  "kernelspec": {
   "display_name": "Julia 1.9.2",
   "language": "julia",
   "name": "julia-1.9"
  },
  "language_info": {
   "file_extension": ".jl",
   "mimetype": "application/julia",
   "name": "julia",
   "version": "1.9.2"
  }
 },
 "nbformat": 4,
 "nbformat_minor": 2
}
