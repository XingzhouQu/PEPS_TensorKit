{
 "cells": [
  {
   "cell_type": "code",
   "execution_count": 1,
   "metadata": {},
   "outputs": [
    {
     "data": {
      "text/plain": [
       "inv"
      ]
     },
     "metadata": {},
     "output_type": "display_data"
    }
   ],
   "source": [
    "using TensorKit\n",
    "import TensorKit.×\n",
    "using KrylovKit\n",
    "include(\"./iPEPS/iPEPS.jl\")\n",
    "include(\"./iPEPS/swap_gate.jl\")\n",
    "include(\"./iPEPS/util.jl\")"
   ]
  },
  {
   "cell_type": "code",
   "execution_count": null,
   "metadata": {},
   "outputs": [],
   "source": [
    "## follow convention (l, t, σ, r, b)\n",
    "## domain: r, b\n",
    "## codomain: l, t, σ\n",
    "M11 = TensorMap(randn, ComplexF64, ℂ^3 ⊗ ℂ^3 ⊗ ℂ^2, ℂ^3 ⊗ ℂ^3)\n",
    "@show domain(M11)\n",
    "@show space(M11)\n",
    "M12 = TensorMap(randn, ComplexF64, ℂ^3 ⊗ ℂ^3 ⊗ ℂ^2, ℂ^3 ⊗ ℂ^3)\n",
    "\n",
    "## contraction 后用; 分割 (codomain; domain), 原来的domain 放到 codomain，或反过来，空间都要变为对偶空间（加'）\n",
    "@tensor M1112[l1, t1, σ1, σ2, b1; t2, r2, b2] := M11[l1, t1, σ1, r1, b1] * M12[r1, t2, σ2, r2, b2]\n",
    "# B = permute(A, (3,), (1, 2, 4, 5))\n",
    "# @show domain(B)\n",
    "@show domain(M1112)\n",
    "@show codomain(M1112)"
   ]
  },
  {
   "cell_type": "code",
   "execution_count": 5,
   "metadata": {},
   "outputs": [
    {
     "data": {
      "text/plain": [
       "Rep[ℤ₂ × SU₂]((1, 1/2)=>1, (0, 1)=>1)"
      ]
     },
     "metadata": {},
     "output_type": "display_data"
    }
   ],
   "source": [
    "pspace = Rep[ℤ₂×SU₂]((0, 0) => 2, (1, 1 // 2) => 1)\n",
    "# pspace = Rep[ℤ₂]((1 => 1), (0 => 2))\n",
    "aspacel = Rep[ℤ₂×SU₂]((0, 0) => 1, (1, 1 // 2) => 1)\n",
    "# aspacer = Rep[ℤ₂×SU₂]((0, 0) => 2, (0, 1) => 2)\n",
    "aspacer = aspacel\n",
    "aspacet = Rep[ℤ₂×SU₂]((1, 1//2) => 1, (0, 1) => 1)\n",
    "# aspaceb = Rep[ℤ₂×SU₂]((0, 0) => 2, (1, 3 // 2) => 2)\n",
    "aspaceb = aspacet\n",
    "# @show typeof(pspace)\n",
    "# @show GradedSpace isa ElementarySpace\n",
    "# @show pspace isa VectorSpace\n",
    "# A = TensorMap(randn, ComplexF64, aspacel ⊗ aspacet ⊗ pspace, aspacer ⊗ aspaceb)\n",
    "# Ms = [A, A, A, A]\n",
    "# ipeps = iPEPS(Ms, 2, 2)\n",
    "# Abar = bar(A)\n",
    "# @show space(Abar)\n",
    "# gate1 = swap_gate(space(Abar)[4], space(Abar)[5])\n",
    "# @show space(gate1)\n",
    "# gate2 = swap_gate(space(Abar)[1], space(Abar)[2])\n",
    "# @show space(gate2)\n",
    "# gate3 = swap_gate(space(A)[4], space(A)[5])\n",
    "# @show space(gate3)\n",
    "# gate4 = swap_gate(space(A)[1], space(A)[2])\n",
    "# @show space(gate4)\n",
    "# gate5 = swap_gate(space(A)[1], space(Abar)[2])\n",
    "# @show space(gate5)"
   ]
  },
  {
   "cell_type": "code",
   "execution_count": 5,
   "metadata": {},
   "outputs": [
    {
     "name": "stdout",
     "output_type": "stream",
     "text": [
      "A = TensorMap(Rep[ℤ₂ × SU₂]((0, 0)=>2, (1, 1/2)=>1) ← Rep[ℤ₂ × SU₂]((0, 0)=>2, (1, 1/2)=>1)):\n",
      "* Data for fusiontree FusionTree{Irrep[ℤ₂ × SU₂]}(((0, 0),), (0, 0), (false,), ()) ← FusionTree{Irrep[ℤ₂ × SU₂]}(((0, 0),), (0, 0), (false,), ()):\n",
      " 1.0  0.0\n",
      " 0.0  1.0\n",
      "* Data for fusiontree FusionTree{Irrep[ℤ₂ × SU₂]}(((1, 1/2),), (1, 1/2), (false,), ()) ← FusionTree{Irrep[ℤ₂ × SU₂]}(((1, 1/2),), (1, 1/2), (false,), ()):\n",
      " 1.0\n",
      "\n",
      "A = TensorMap(Rep[ℤ₂ × SU₂]((0, 0)=>2, (1, 1/2)=>1) ← Rep[ℤ₂ × SU₂]((0, 0)=>2, (1, 1/2)=>1)):\n",
      "* Data for fusiontree FusionTree{Irrep[ℤ₂ × SU₂]}(((0, 0),), (0, 0), (false,), ()) ← FusionTree{Irrep[ℤ₂ × SU₂]}(((0, 0),), (0, 0), (false,), ()):\n",
      " 2.718281828459045  0.0\n",
      " 0.0                2.718281828459045\n",
      "* Data for fusiontree FusionTree{Irrep[ℤ₂ × SU₂]}(((1, 1/2),), (1, 1/2), (false,), ()) ← FusionTree{Irrep[ℤ₂ × SU₂]}(((1, 1/2),), (1, 1/2), (false,), ()):\n",
      " 2.718281828459045\n",
      "\n"
     ]
    }
   ],
   "source": [
    "A = id(pspace)\n",
    "@show A\n",
    "exp!(A)\n",
    "@show A\n",
    "nothing"
   ]
  },
  {
   "cell_type": "code",
   "execution_count": 6,
   "metadata": {},
   "outputs": [],
   "source": [
    "include(\"./simple_update/iPEPS_GammaLambda.jl\")\n",
    "ipeps = iPEPSΓΛ(pspace, aspacel, aspacet, 2, 2; dtype=ComplexF64)\n",
    "\n",
    "gateNN = TensorMap(randn, ComplexF64, pspace ⊗ pspace, pspace ⊗ pspace)\n",
    "\n",
    "nothing"
   ]
  },
  {
   "cell_type": "code",
   "execution_count": 25,
   "metadata": {},
   "outputs": [
    {
     "name": "stdout",
     "output_type": "stream",
     "text": [
      "space(mid) = (Rep[ℤ₂ × SU₂]((0, 0)=>3, (1, 1/2)=>3, (0, 1)=>1) ⊗ Rep[ℤ₂ × SU₂]((0, 0)=>2, (1, 1/2)=>1) ⊗ Rep[ℤ₂ × SU₂]((0, 0)=>2, (1, 1/2)=>1)) ← Rep[ℤ₂ × SU₂]((0, 0)=>3, (1, 1/2)=>3, (0, 1)=>1)\n",
      "space(λnew) = Rep[ℤ₂ × SU₂]((0, 0)=>1, (1, 1/2)=>2) ← Rep[ℤ₂ × SU₂]((0, 0)=>1, (1, 1/2)=>2)\n",
      "space((ipeps[xx, yy]).r) = Rep[ℤ₂ × SU₂]((0, 0)=>1, (1, 1/2)=>1) ← Rep[ℤ₂ × SU₂]((0, 0)=>1, (1, 1/2)=>1)\n"
     ]
    }
   ],
   "source": [
    "xx = 1\n",
    "yy = 1\n",
    "Dk = 5\n",
    "Γl = ipeps[xx, yy].Γ\n",
    "Γr = ipeps[xx+1, yy].Γ\n",
    "swgate = swap_gate(space(Γl)[3]', space(Γl)[5]')\n",
    "@tensor Γl[l, t, p; r, b] = Γl[le, te, pin, r, be] * ipeps[xx, yy].l[l, le] * ipeps[xx, yy].t[t, te] *\n",
    "                            ipeps[xx, yy].b[be, bin] * swgate[pin, bin, p, b]\n",
    "@tensor Γr[l, t, p; r, b] = Γr[l, te, p, re, be] * ipeps[xx+1, yy].t[t, te] * ipeps[xx+1, yy].r[re, r] * ipeps[xx+1, yy].b[be, b]\n",
    "Xl, vl = leftorth(Γl, ((1, 2, 5), (3, 4)))\n",
    "wr, Yr = rightorth(Γr, ((1, 3), (2, 4, 5)))\n",
    "@tensor mid[toX, pl, pr; toY] := vl[toX, plin, toV] * ipeps[xx, yy].r[toV, toW] * gateNN[pl, pr, plin, prin] *\n",
    "                                 wr[toW, prin, toY]\n",
    "vnew, λnew, wnew, err = tsvd(mid, ((1, 2), (3, 4)); trunc=truncdim(Dk))\n",
    "ipeps[xx, yy].r = λnew\n",
    "ipeps[xx+1, yy].l = λnew\n",
    "swgate = swap_gate(space(vl)[2]', space(Xl)[3]')\n",
    "@tensor Γl[l, t, p; r, b] = Xl[] * vnew[] * swgate[] * \n",
    "                        inv(ipeps[xx, yy].l)[] * inv(ipeps[xx, yy].t)[] * inv(ipeps[xx, yy].b)[]\n",
    "nothing"
   ]
  },
  {
   "cell_type": "code",
   "execution_count": 30,
   "metadata": {},
   "outputs": [
    {
     "name": "stdout",
     "output_type": "stream",
     "text": [
      "space((ipepsΓΛ[1, 1]).Γ) = (Rep[ℤ₂ × SU₂]((0, 0)=>1, (1, 1/2)=>1) ⊗ Rep[ℤ₂ × SU₂]((1, 1/2)=>1, (0, 1)=>1) ⊗ Rep[ℤ₂ × SU₂]((0, 0)=>2, (1, 1/2)=>1)) ← (Rep[ℤ₂ × SU₂]((0, 0)=>1, (1, 1/2)=>1) ⊗ Rep[ℤ₂ × SU₂]((1, 1/2)=>1, (0, 1)=>1))\n"
     ]
    }
   ],
   "source": [
    "swgate = swap_gate(space(ipepsΓΛ[1,1].Γ)[3]', space(ipepsΓΛ[1,1].Γ)[5]')\n",
    "@tensor ipepsΓΛ[1,1].Γ[l, t, p; r, b] = ipepsΓΛ[1,1].Γ[l, t, pin, r, bin] * swgate[pin, bin, p, b]\n",
    "@show space(ipepsΓΛ[1,1].Γ)\n",
    "nothing"
   ]
  }
 ],
 "metadata": {
  "kernelspec": {
   "display_name": "Julia 1.9.2",
   "language": "julia",
   "name": "julia-1.9"
  },
  "language_info": {
   "file_extension": ".jl",
   "mimetype": "application/julia",
   "name": "julia",
   "version": "1.9.2"
  }
 },
 "nbformat": 4,
 "nbformat_minor": 2
}
